{
 "cells": [
  {
   "cell_type": "markdown",
   "metadata": {},
   "source": [
    "# Getting Started\n",
    "\n",
    "## Contents\n",
    "\n",
    "1.  [Setting up the python environment](#setting-up-the-python-environment) \n",
    "    - [Using `pip3`](#using-pip3)\n",
    "    - [Using `conda`](#using-conda)\n",
    "    - [Installing Jupyter Notebook](#installing-jupyter-notebook)\n",
    "\n",
    "2.  [Getting the data](#getting-the-data)\n",
    "\n",
    "---\n",
    "\n",
    "## Setting up the Python environment\n",
    "\n",
    "Python has been chosen as the main language of this book, for several reasons.\n",
    "It doesn't have too much jargon, and the signal-to-noise ratio in code is very high (it's almost pseudocode). \n",
    "While Python is not the optimal language for scientific computing, it is familiar to most people with basic knowledge of programming, and the learning curve for Python is not as steep as C++, Java, or Julia. \n",
    "<br><br>\n",
    "One of the drawbacks associated with using Python is that it doesn't handle large graphs or datasets very well. C++ and Java both deal with larger structures more efficiently, and many authors of seminal papers in the field of GIS provide C++ and Java implementations alongside their papers. \n",
    "<br><br>\n",
    "Julia, on the other hand, is a perfect midpoint between python and C++/Java. It maintains the readability of Python but was developed specifically for scientific computing applications. \n",
    "<br><br>\n",
    "For the sake of accessibility, the examples and exercises in this book will be based entirely in Python. Implementations in other languages are welcome as pull requests. Simply make a PR of this repo and we'll include any submissions that look promising.\n",
    "<br><br>\n",
    "From this point forward, the book will assume that you already have Python 3.6 or newer installed on your system. For installation instructions specific to your operating system, see this [Beginner's Guide](https://wiki.python.org/moin/BeginnersGuide/Download).\n",
    "<br><br>\n",
    "There are two primary ways to install the required packages you'll need: `pip` or `conda`. It is recommended to use `pip` as `conda` may have some adverse effects on system dependencies when used improperly in Linux.\n",
    "\n",
    ":::{note}\n",
    "If you intend on developing in Windows, it is also recommended that you leverage the convenience of the Windows Subsystem for Linux (WSL). This allows you to use the full capabilities of Linux from within Windows. You can read more about setting up WSL [here](https://docs.microsoft.com/en-us/windows/wsl/install-win10). After enabling WSL, you can proceed with the rest of this book as if you were operating in Linux.\n",
    ":::\n",
    "\n",
    "### Using `pip3`\n",
    "\n",
    "````{tab} Linux\n",
    "\n",
    "In the terminal, execute the following commands:\n",
    "\n",
    "```\n",
    "$ sudo apt update\n",
    "$ sudo apt install python3-pip\n",
    "\n",
    "```\n",
    "\n",
    "Install `venv` and create a python virtual environment:\n",
    "\n",
    "```\n",
    "$ sudo apt install python3.8-venv\n",
    "$ mkdir <new directory for venv>\n",
    "$ python3 -m venv <path to venv directory>\n",
    "```\n",
    "Make sure that you replace `python3.8` with the version of Python you are using.<br>\n",
    "\n",
    "You can now access your virtual environment using the following command:\n",
    "\n",
    "```\n",
    "$ source <path to venv>/bin/activate\n",
    "```\n",
    "\n",
    "````\n",
    "\n",
    "\n",
    "````{tab} MacOS\n",
    "Using the MacOS terminal:\n",
    "\n",
    "```\n",
    "$ python3 -m ensurepip --upgrade\n",
    "```\n",
    "\n",
    "`venv` is included with `python 3.8+`. You can run the following command to create a virtual environment:\n",
    "\n",
    "```\n",
    "$ mkdir <new directory>\n",
    "$ python3 -m venv <path to venv directory>\n",
    "```\n",
    "You can now access your virtual environment using the following command:\n",
    "```\n",
    "$ source <path to venv>/bin/activate\n",
    "```\n",
    "\n",
    "````\n",
    "````{tab} Windows\n",
    "`pip` should come preinstalled with Windows installations of `python` for versions newer than 3.4.\n",
    "\n",
    "Make sure to check the \"Add Python to PATH\" option when using the Python installer. If you don't, you'll need to add `python`, `pip`, and various other programs to the system path manually.\n",
    "\n",
    "After installing Python, you may need to restart your computer in order for the changes to take effect.\n",
    "\n",
    "To create a virtual environment, execute the following either in command prompt, or Windows Powershell:\n",
    "\n",
    "```\n",
    "C:> py -m venv <new directory>\n",
    "```\n",
    "\n",
    "To activate the virtual environment:\n",
    "\n",
    "```\n",
    "C:> cd <your venv directory>\n",
    "C:> .\\Scripts\\activate\n",
    "```\n",
    "\n",
    "\n",
    ":::{note}\n",
    "There are several things to note when using python in Windows.\n",
    "1. Using the `py` or `python` command may open the Windows Store app in newer releases of Windows. This can be disabled by going to \"Apps and Features\", selecting \"Application Execution Aliases\", and disabling the sliders for any application related to `python` (i.e. `python3.8.exe`, `py.exe`).\n",
    "2. `pip3` is sometimes not added to the system PATH by default. You may choose to add it manually, or simply use `pip`, as it should link to the same program.\n",
    "3. You can use Python by calling the `py` command. If you prefer using `python` or `python3`, you may need to add these to the system PATH manually.\n",
    ":::\n",
    "````\n",
    "\n",
    "### Using `conda`\n",
    "\n",
    "Install `conda` for your OS using the guide found [here](https://conda.io/projects/conda/en/latest/user-guide/install/index.html). \n",
    "\n",
    "You can create a `conda` environment with this command:\n",
    "```bash\n",
    "$ conda create --name <name of env> python=<your version of python>\n",
    "```\n",
    "\n",
    "To access the newly-created environment:\n",
    "```bash\n",
    "$ conda activate <your env name>\n",
    "```\n",
    "\n",
    "### Installing Jupyter Notebook\n",
    "\n",
    "All of the code in this book is stored in Jupyter Notebooks (`.ipynb` files). To access these files directly, you have two options:\n",
    "\n",
    "1. Open **Binder** using the <i class=\"fas fa-rocket\"></i> icon on the top right of a page containing Python code.\n",
    "2. Install Jupyter Notebook locally.\n",
    "\n",
    "Jupyter Notebook can be installed as follows:\n",
    "\n",
    "````{tab} pip3\n",
    "```bash\n",
    "$ pip3 install jupyterlab\n",
    "$ pip3 install notebook\n",
    "```\n",
    "````\n",
    "````{tab} conda\n",
    "```bash\n",
    "$ conda install -c conda-forge jupyterlab\n",
    "$ conda install -c conda-forge notebook\n",
    "```\n",
    "````\n",
    "\n",
    "---\n",
    "## Getting the data\n",
    "\n",
    "Most of the data used in this book will be sourced from [OpenStreetMaps](https://www.openstreetmap.org). For any other datasets that are not OSM-related, you can download the data in whatever format it is available in, and import it into `python` using the appropriate methods. Open Data websites hosted by various government bodies are a great source of data related to infrastructure, population metrics, and land use. See the [Datasets](../Datasets.md) section in this book for more details. \n",
    "<br><br>\n",
    "For OpenStreetMaps, there are two primary ways of retrieving the data:\n",
    "1. Download the data as-is from OpenStreetMaps' website and use tools like `osmfilter` to tune it as needed. This is not recommended as it is more difficult and not very efficient.\n",
    "2. Use OpenStreetMaps' API (Overpass API) to query for data. This filters the data on the fly and you only retrieve what you need. The API is accessible in both Java and Python.\n",
    "\n",
    ":::{admonition} Data Completeness\n",
    ":class: tip\n",
    "The data from OSM is not always \"complete\". This doesn't mean that there are major uncharted regions, but rather that neighbouring nodes are not always grouped correctly. For some nodes where there are feasible connections between them in real life, OSM still represents them as having no [way](https://wiki.openstreetmap.org/wiki/Way) or [relation](https://wiki.openstreetmap.org/wiki/Relation) connecting them. This means that using the `osmnx` parser will result in the nodes being placed in separate graph components, which is not accurate to real-world conditions. We can use `osrm` to find routes between these kinds of nodes and thus \"complete\" the graphs.\n",
    "\n",
    "You can read more about the completeness of OpenStreetMaps data here:\n",
    "1. [Completeness](https://wiki.openstreetmap.org/wiki/Completeness)\n",
    "2. [Completeness Metrics](https://wiki.openstreetmap.org/wiki/ONS_Completeness_Metrics)\n",
    ":::\n",
    "\n",
    "\n",
    "The data model of OpenStreetMaps is surprisingly simple and consists only of three [elements](https://wiki.openstreetmap.org/wiki/Elements): </br>\n",
    "\n",
    "1. `Node` represents a specific point on the earth's surface defined by its latitude and longitude\n",
    "2. `Way` is an ordered list of between 2 and 2,000 nodes that define a polyline. Ways are used to represent linear features such as rivers and roads\n",
    "3. `Relation` is a multi-purpose data structure that documents a relationship between two or more data elements (nodes, ways, and/or other relations). Examples include:\n",
    "    * A route relation, which lists the ways that form a major (numbered) highway, a cycle route, or a bus route.\n",
    "    * A turn restriction that describes if a turn can be made from one way onto another.\n",
    "    * A multipolygon that describes an area (whose boundary is the 'outer way') with holes (the 'inner ways').\n",
    "\n",
    "\n",
    "All of the above can be found easily on the linked elements page, but there are two things you should be aware of: \n",
    "1. All ID's of the same element type are unique globally, but they are not unique across element types (you can find a `Way` with the same ID as a `Node`).\n",
    "2. `Ways` and `Relations` are made by listing and referring to the ID's of the `Nodes` that constitute them. \n",
    "\n",
    "\n",
    "## Example: Querying points of interest (POIs) using Overpass API\n",
    "\n",
    "Overpass API is OSM's querying API. It is incredibly powerful in that it can very quickly return queried features, and allows for selection of location, tags, proximity, and more.\n",
    "\n",
    "Let's query for restaurants near the University of Toronto.\n",
    "<br><br>"
   ]
  },
  {
   "cell_type": "code",
   "execution_count": 1,
   "metadata": {},
   "outputs": [],
   "source": [
    "import overpass\n",
    "\n",
    "api = overpass.API()\n",
    "\n",
    "# We're looking for restaurants within 1000m of a given point\n",
    "overpass_query = \"\"\"\n",
    "(node[\"amenity\"=\"restaurant\"](around:1000,43.66, -79.39);\n",
    " way[\"amenity\"=\"restaurant\"](around:1000,43.66, -79.39);\n",
    " rel[\"amenity\"=\"restaurant\"](around:1000,43.66, -79.39);\n",
    ");\n",
    "out center;\n",
    "\"\"\"\n",
    "\n",
    "restaurants = api.get(overpass_query)"
   ]
  },
  {
   "cell_type": "markdown",
   "metadata": {},
   "source": [
    "The example above uses the `overpass` package, which by default returns results in `geojson` format. See the `overpass` [documentation](https://github.com/mvexel/overpass-api-python-wrapper) for more information.\n",
    "<br><br>\n",
    "\n",
    "Next, let's extract some data about each restaurant, and then plot all of them on a map. This time, we'll use a ` plotly` ScatterMapBox, which uses tiles from MapBox. You can refer to `plotly`'s documentation [here](https://plotly.com/python/scattermapbox/). Each POI on that map has a tooltip that shows the restaurant's name when hovered.\n",
    "<br><br>"
   ]
  },
  {
   "cell_type": "code",
   "execution_count": 2,
   "metadata": {},
   "outputs": [
    {
     "data": {
      "application/vnd.plotly.v1+json": {
       "config": {
        "plotlyServerURL": "https://plot.ly"
       },
       "data": [
        {
         "hoverinfo": "text",
         "lat": [
          43.655889,
          43.656166,
          43.655261,
          43.655148,
          43.654856,
          43.666719,
          43.662098,
          43.663671,
          43.66479,
          43.665371,
          43.653768,
          43.656255,
          43.655047,
          43.66084,
          43.66474,
          43.656585,
          43.656604,
          43.657454,
          43.658551,
          43.654807,
          43.656542,
          43.656153,
          43.656598,
          43.656542,
          43.654129,
          43.667463,
          43.654721,
          43.667546,
          43.668396,
          43.667012,
          43.666779,
          43.656158,
          43.665103,
          43.660995,
          43.661417,
          43.661338,
          43.654433,
          43.657708,
          43.668631,
          43.661566,
          43.65506,
          43.655758,
          43.664985,
          43.664646,
          43.668482,
          43.66812,
          43.668133,
          43.668471,
          43.665071,
          43.658858,
          43.658827,
          43.65538,
          43.666419,
          43.656511,
          43.656636,
          43.657518,
          43.658579,
          43.66561,
          43.666124,
          43.655852,
          43.655088,
          43.6546,
          43.660083,
          43.659886,
          43.664173,
          43.656667,
          43.665049,
          43.657704,
          43.654937,
          43.65497,
          43.654982,
          43.655041,
          43.655072,
          43.655102,
          43.655119,
          43.65523,
          43.655865,
          43.661338,
          43.656136,
          43.651278,
          43.6551,
          43.657239,
          43.66149,
          43.661672,
          43.660165,
          43.655813,
          43.661707,
          43.665426,
          43.655073,
          43.668515,
          43.65707,
          43.655465,
          43.65545,
          43.654259,
          43.656115,
          43.657824,
          43.657839,
          43.657845,
          43.65659,
          43.658856,
          43.656237,
          43.653512,
          43.653313,
          43.656132,
          43.657136,
          43.661386,
          43.654045,
          43.657001,
          43.656553,
          43.654642,
          43.654409,
          43.658856,
          43.659006,
          43.659054,
          43.666712,
          43.657806,
          43.65621,
          43.663433,
          43.663477,
          43.665218,
          43.664983,
          43.664749,
          43.656095,
          43.656283,
          43.655764,
          43.656267,
          43.65363,
          43.653892,
          43.658302,
          43.655049,
          43.659219,
          43.654848,
          43.655733,
          43.661519,
          43.658934,
          43.654462,
          43.653394,
          43.655515,
          43.662272,
          43.655511,
          43.664837,
          43.664463,
          43.660404,
          43.658595,
          43.656617,
          43.662369,
          43.661375,
          43.657358,
          43.657404,
          43.657925,
          43.661379,
          43.656346,
          43.6645,
          43.663908,
          43.664181,
          43.664418,
          43.665086,
          43.665833,
          43.655969,
          43.656008,
          43.653168,
          43.655355,
          43.655115,
          43.655609,
          43.655617,
          43.653181,
          43.65379,
          43.653833,
          43.65511,
          43.657168,
          43.657272,
          43.657053,
          43.654398,
          43.654389,
          43.66177,
          43.655063,
          43.655708,
          43.656649,
          43.654554,
          43.666726,
          43.663672,
          43.661585,
          43.663389,
          43.662261,
          43.662308,
          43.659372,
          43.668245,
          43.666241,
          43.665211,
          43.657643,
          43.657663,
          43.661685,
          43.658888,
          43.661322,
          43.657333,
          43.655889,
          43.656166,
          43.655261,
          43.655148,
          43.654856,
          43.666719,
          43.662098,
          43.663671,
          43.66479,
          43.665371,
          43.653768,
          43.656255,
          43.655047,
          43.66084,
          43.66474,
          43.656585,
          43.656604,
          43.657454,
          43.658551,
          43.654807,
          43.656542,
          43.656153,
          43.656598,
          43.656542,
          43.654129,
          43.667463,
          43.654721,
          43.667546,
          43.668396,
          43.667012,
          43.666779,
          43.656158,
          43.665103,
          43.660995,
          43.661417,
          43.661338,
          43.654433,
          43.657708,
          43.668631,
          43.661566,
          43.65506,
          43.655758,
          43.664985,
          43.664646,
          43.668482,
          43.66812,
          43.668133,
          43.668471,
          43.665071,
          43.658858,
          43.658827,
          43.65538,
          43.666419,
          43.656511,
          43.656636,
          43.657518,
          43.658579,
          43.66561,
          43.666124,
          43.655852,
          43.655088,
          43.6546,
          43.660083,
          43.659886,
          43.664173,
          43.656667,
          43.665049,
          43.657704,
          43.654937,
          43.65497,
          43.654982,
          43.655041,
          43.655072,
          43.655102,
          43.655119,
          43.65523,
          43.655865,
          43.661338,
          43.656136,
          43.651278,
          43.6551,
          43.657239,
          43.66149,
          43.661672,
          43.660165,
          43.655813,
          43.661707,
          43.665426,
          43.655073,
          43.668515,
          43.65707,
          43.655465,
          43.65545,
          43.654259,
          43.656115,
          43.657824,
          43.657839,
          43.657845,
          43.65659,
          43.658856,
          43.656237,
          43.653512,
          43.653313,
          43.656132,
          43.657136,
          43.661386,
          43.654045,
          43.657001,
          43.656553,
          43.654642,
          43.654409,
          43.658856,
          43.659006,
          43.659054,
          43.666712,
          43.657806,
          43.65621,
          43.663433,
          43.663477,
          43.665218,
          43.664983,
          43.664749,
          43.656095,
          43.656283,
          43.655764,
          43.656267,
          43.65363,
          43.653892,
          43.658302,
          43.655049,
          43.659219,
          43.654848,
          43.655733,
          43.661519,
          43.658934,
          43.654462,
          43.653394,
          43.655515,
          43.662272,
          43.655511,
          43.664837,
          43.664463,
          43.660404,
          43.658595,
          43.656617,
          43.662369,
          43.661375,
          43.657358,
          43.657404,
          43.657925,
          43.661379,
          43.656346,
          43.6645,
          43.663908,
          43.664181,
          43.664418,
          43.665086,
          43.665833,
          43.655969,
          43.656008,
          43.653168,
          43.655355,
          43.655115,
          43.655609,
          43.655617,
          43.653181,
          43.65379,
          43.653833,
          43.65511,
          43.657168,
          43.657272,
          43.657053,
          43.654398,
          43.654389,
          43.66177,
          43.655063,
          43.655708,
          43.656649,
          43.654554,
          43.666726,
          43.663672,
          43.661585,
          43.663389,
          43.662261,
          43.662308,
          43.659372,
          43.668245,
          43.666241,
          43.665211,
          43.657643,
          43.657663,
          43.661685,
          43.658888,
          43.661322,
          43.657333
         ],
         "lon": [
          -79.393378,
          -79.383636,
          -79.385282,
          -79.385817,
          -79.386186,
          -79.384075,
          -79.401159,
          -79.394524,
          -79.380393,
          -79.380933,
          -79.398692,
          -79.399057,
          -79.398569,
          -79.400321,
          -79.387571,
          -79.380539,
          -79.381198,
          -79.381596,
          -79.382585,
          -79.387501,
          -79.379999,
          -79.382641,
          -79.380406,
          -79.380457,
          -79.385098,
          -79.385383,
          -79.389503,
          -79.385825,
          -79.386202,
          -79.385617,
          -79.38552,
          -79.393203,
          -79.380843,
          -79.384015,
          -79.383684,
          -79.38403,
          -79.381012,
          -79.382108,
          -79.392987,
          -79.381743,
          -79.380157,
          -79.384241,
          -79.384732,
          -79.384955,
          -79.386757,
          -79.387722,
          -79.387207,
          -79.386862,
          -79.384752,
          -79.394241,
          -79.394388,
          -79.380334,
          -79.38748,
          -79.382528,
          -79.383729,
          -79.384124,
          -79.385339,
          -79.387169,
          -79.384919,
          -79.392245,
          -79.38627,
          -79.387143,
          -79.387467,
          -79.378895,
          -79.384096,
          -79.383838,
          -79.385492,
          -79.381698,
          -79.386932,
          -79.386769,
          -79.386709,
          -79.386489,
          -79.386331,
          -79.386199,
          -79.386118,
          -79.385258,
          -79.38186,
          -79.38413,
          -79.399596,
          -79.389119,
          -79.385211,
          -79.384137,
          -79.380447,
          -79.386352,
          -79.37757,
          -79.379061,
          -79.38087,
          -79.387195,
          -79.399689,
          -79.386693,
          -79.381652,
          -79.38428,
          -79.384453,
          -79.390578,
          -79.392391,
          -79.401735,
          -79.401665,
          -79.401606,
          -79.379843,
          -79.382168,
          -79.390698,
          -79.39074,
          -79.381889,
          -79.392308,
          -79.384505,
          -79.380857,
          -79.398761,
          -79.39996,
          -79.399788,
          -79.398995,
          -79.398289,
          -79.390511,
          -79.383343,
          -79.383125,
          -79.385752,
          -79.382798,
          -79.399619,
          -79.38412,
          -79.384136,
          -79.380972,
          -79.380797,
          -79.380683,
          -79.392484,
          -79.392963,
          -79.384595,
          -79.38844,
          -79.398631,
          -79.398712,
          -79.399883,
          -79.386441,
          -79.382608,
          -79.387354,
          -79.379171,
          -79.380241,
          -79.382406,
          -79.398953,
          -79.395606,
          -79.385479,
          -79.386536,
          -79.398792,
          -79.383242,
          -79.387409,
          -79.37894,
          -79.384007,
          -79.383729,
          -79.383693,
          -79.380864,
          -79.38347,
          -79.383275,
          -79.382613,
          -79.380853,
          -79.388275,
          -79.380313,
          -79.380063,
          -79.380182,
          -79.380284,
          -79.380521,
          -79.38112,
          -79.393115,
          -79.392897,
          -79.396645,
          -79.399309,
          -79.380219,
          -79.384872,
          -79.384835,
          -79.39654,
          -79.398088,
          -79.398106,
          -79.386162,
          -79.378508,
          -79.38113,
          -79.399404,
          -79.399283,
          -79.399337,
          -79.379101,
          -79.386379,
          -79.384459,
          -79.386395,
          -79.398975,
          -79.385643,
          -79.384218,
          -79.383387,
          -79.384099,
          -79.38364,
          -79.383661,
          -79.382033,
          -79.386135,
          -79.385275,
          -79.384852,
          -79.400908,
          -79.400862,
          -79.37947,
          -79.384762,
          -79.380612,
          -79.383613,
          -79.393378,
          -79.383636,
          -79.385282,
          -79.385817,
          -79.386186,
          -79.384075,
          -79.401159,
          -79.394524,
          -79.380393,
          -79.380933,
          -79.398692,
          -79.399057,
          -79.398569,
          -79.400321,
          -79.387571,
          -79.380539,
          -79.381198,
          -79.381596,
          -79.382585,
          -79.387501,
          -79.379999,
          -79.382641,
          -79.380406,
          -79.380457,
          -79.385098,
          -79.385383,
          -79.389503,
          -79.385825,
          -79.386202,
          -79.385617,
          -79.38552,
          -79.393203,
          -79.380843,
          -79.384015,
          -79.383684,
          -79.38403,
          -79.381012,
          -79.382108,
          -79.392987,
          -79.381743,
          -79.380157,
          -79.384241,
          -79.384732,
          -79.384955,
          -79.386757,
          -79.387722,
          -79.387207,
          -79.386862,
          -79.384752,
          -79.394241,
          -79.394388,
          -79.380334,
          -79.38748,
          -79.382528,
          -79.383729,
          -79.384124,
          -79.385339,
          -79.387169,
          -79.384919,
          -79.392245,
          -79.38627,
          -79.387143,
          -79.387467,
          -79.378895,
          -79.384096,
          -79.383838,
          -79.385492,
          -79.381698,
          -79.386932,
          -79.386769,
          -79.386709,
          -79.386489,
          -79.386331,
          -79.386199,
          -79.386118,
          -79.385258,
          -79.38186,
          -79.38413,
          -79.399596,
          -79.389119,
          -79.385211,
          -79.384137,
          -79.380447,
          -79.386352,
          -79.37757,
          -79.379061,
          -79.38087,
          -79.387195,
          -79.399689,
          -79.386693,
          -79.381652,
          -79.38428,
          -79.384453,
          -79.390578,
          -79.392391,
          -79.401735,
          -79.401665,
          -79.401606,
          -79.379843,
          -79.382168,
          -79.390698,
          -79.39074,
          -79.381889,
          -79.392308,
          -79.384505,
          -79.380857,
          -79.398761,
          -79.39996,
          -79.399788,
          -79.398995,
          -79.398289,
          -79.390511,
          -79.383343,
          -79.383125,
          -79.385752,
          -79.382798,
          -79.399619,
          -79.38412,
          -79.384136,
          -79.380972,
          -79.380797,
          -79.380683,
          -79.392484,
          -79.392963,
          -79.384595,
          -79.38844,
          -79.398631,
          -79.398712,
          -79.399883,
          -79.386441,
          -79.382608,
          -79.387354,
          -79.379171,
          -79.380241,
          -79.382406,
          -79.398953,
          -79.395606,
          -79.385479,
          -79.386536,
          -79.398792,
          -79.383242,
          -79.387409,
          -79.37894,
          -79.384007,
          -79.383729,
          -79.383693,
          -79.380864,
          -79.38347,
          -79.383275,
          -79.382613,
          -79.380853,
          -79.388275,
          -79.380313,
          -79.380063,
          -79.380182,
          -79.380284,
          -79.380521,
          -79.38112,
          -79.393115,
          -79.392897,
          -79.396645,
          -79.399309,
          -79.380219,
          -79.384872,
          -79.384835,
          -79.39654,
          -79.398088,
          -79.398106,
          -79.386162,
          -79.378508,
          -79.38113,
          -79.399404,
          -79.399283,
          -79.399337,
          -79.379101,
          -79.386379,
          -79.384459,
          -79.386395,
          -79.398975,
          -79.385643,
          -79.384218,
          -79.383387,
          -79.384099,
          -79.38364,
          -79.383661,
          -79.382033,
          -79.386135,
          -79.385275,
          -79.384852,
          -79.400908,
          -79.400862,
          -79.37947,
          -79.384762,
          -79.380612,
          -79.383613
         ],
         "marker": {
          "color": "blue",
          "size": 8
         },
         "mode": "markers",
         "showlegend": false,
         "text": [
          "Jodhpore Club",
          "Red Lobster",
          "Kyoto House Japanese Restaurant",
          "Gyubee Japanese Grill",
          "Hemispheres Restaurant Bistro",
          "Bumpkin's",
          "New College Cafeteria",
          "Sammy's",
          "Garage",
          "Ginger",
          "Dumpling House Restaurant",
          "Xam Yu Seafood Restaurant",
          "Phở Ai My Vietnamese Restaurant",
          "Harvest Noon Cafe",
          "Freshii",
          "Milestones",
          "Pickle Barrel Grand",
          "Yonge Street Warehouse",
          "Market Garden Food Emporium & Terrace",
          "Sushi House",
          "Blaze Pizza",
          "Spring Rolls",
          "Jack Astor's",
          "Spring Sushi",
          "The Chestnut Tree",
          "Aji Sai Restaurant",
          "Three Peppers",
          "Monga Fried Chicken",
          "The Diner’s Corner",
          "The Boil Bar",
          "NONAME",
          "Cafe la Gaffe",
          "Café California",
          "Freshii",
          "Burger Bar",
          "Fran's Restaurant",
          "Trattoria Mercatto",
          "Barberian's Steakhouse and Tavern",
          "Dynasty Chinese Cuisine",
          "Daily Sushi Japanese restaurant",
          "Paramount Middle Eastern Cuisine and Bakery",
          "You Don Ya",
          "Not Just Noodles",
          "Sushi Garden",
          "GBF Gourmet Burger Co.",
          "Sushi Club",
          "Okonomi House",
          "Exotic Tandoori",
          "Coach House Tavern Restaurant",
          "Spicy Mafia",
          "Top Sushi",
          "Asian Bowl",
          "Crown Princess Fine Dining",
          "St. Louis Bar & Grill",
          "Ichimi Sushi",
          "KAKA All You Can Eat",
          "Epicure City Sushi",
          "Tokyo Sushi",
          "Sushi Hana",
          "Midi",
          "Pho Orchid",
          "Wah Too Seafood Restaurant",
          "Mercatto",
          "Katsuya",
          "Sushi Supreme Fusion",
          "Rex's",
          "Segovia",
          "Salad King",
          "Hong Shing Chinese Restaurant",
          "Sushi & Bento",
          "Lan Zhou Ramen",
          "Cali Restaurant",
          "12 o'lunch",
          "Evergreen Thai Restaurant",
          "T&C Restaurant",
          "Yueh Tung Restaurant",
          "Joey Eaton Centre",
          "Screen Lounge & Rooftop Patio",
          "New Ho King",
          "Ema-Tei Authentic Japanese Food",
          "Japango",
          "Eggsmart",
          "Golden Griddle Family Restaurant",
          "Nando's",
          "Bocconcini Pizza and Wings",
          "Jazz Bistro",
          "Carlton Restaurant",
          "Portobello Restaurant & Bar",
          "Hot Beans",
          "7 West",
          "Ugly Duk ling",
          "Dagu Rice Noodle",
          "Denny's",
          "Gallery Sushi",
          "Omai",
          "Fresca Pizza & Pasta",
          "Freeplay",
          "BauZza BauZza",
          "Jack Astor's",
          "Sushi Tower Japanese Restaurant",
          "Bread & Bowl",
          "Manpuku",
          "eggspectation",
          "St. Louis Bar & Grill",
          "Sliced",
          "Daio",
          "Taste of China Seafood Restaurant",
          "Huibing",
          "Hungking",
          "King Lobster",
          "Rol San",
          "Swiss Chalet",
          "Duke's Refresher + Bar",
          "Scaddabush",
          "Ethiopian House Restaurant",
          "Bangkok Garden",
          "Canton Chili",
          "swirlcrêpe",
          "Diyijia",
          "Fresh Burger",
          "Just Thai",
          "Loaded Pierogi",
          "The Winding Road Restaurant",
          "Margarita's Mexican Fiesta",
          "Don Don Izakaya",
          "Freshii",
          "Shi Miaodao Yunnan Rice Noodle",
          "Ajisen Ramen Japanese Noodle",
          "Clubhouse",
          "sansotei ramen",
          "Kaiju",
          "Fugo desserts",
          "Senator Restaurant",
          "Golden Griddle",
          "Elephant & Castle",
          "Phở Hưng",
          "Dim Sum King",
          "New Treasure Restaurant",
          "Green Grotto",
          "Sichuan Garden",
          "The Spice Village",
          "Freshii",
          "Kinka Izakaya",
          "Bb 33 Bistro & Brasserie",
          "GB Hand-Pulled Noodles",
          "Captains Boil",
          "DAIO Authentic Japanese Cuisine",
          "Donatello",
          "Adega",
          "Bangkok Gardens",
          "Ho Jan Chinese Restaurant",
          "Mr Burrito / Baba Geddo",
          "Indian Roti House",
          "Kawa Sushi",
          "Kintaro Izakaya",
          "North of Brooklyn Pizzeria",
          "Sambucas On Church",
          "Tacorrito- Church",
          "Panpan Noodle Bar",
          "Valens",
          "rosewood Asian cuisine",
          "Lavetto",
          "Kanpai Snack Bar",
          "Bapbo Korean Cuisine",
          "Kenzo Ramen",
          "Yummy Yummy Dumplings",
          "Awas Tea Noodle",
          "Swatow Restaurant",
          "Zen Q",
          "The Hummussiah",
          "Vegan Bear",
          "Mother's Dumplings",
          "Saigon Lotus",
          "Ka Chi",
          "NARU Izakaya",
          "Gyugyuya",
          "Artisan+",
          "Pizzeria via Mercanti",
          "Fudao Noodle House",
          "Koyoi Japanese Restaurant & Bar",
          "Bone Soup Malatang",
          "Ritz Caribbean Food",
          "Darvish Persian Cuisine",
          "Blackball",
          "Four Four South Village",
          "Boston Pizza",
          "Kobi Korean Restaurant",
          "Chatime Innovation Bar",
          "Mabu Generation",
          "Mihito",
          "Dak Lak",
          "Pi Co",
          "NONAME",
          "The Lexington",
          "Konjiki Ramen (Downtown)",
          "Jodhpore Club",
          "Red Lobster",
          "Kyoto House Japanese Restaurant",
          "Gyubee Japanese Grill",
          "Hemispheres Restaurant Bistro",
          "Bumpkin's",
          "New College Cafeteria",
          "Sammy's",
          "Garage",
          "Ginger",
          "Dumpling House Restaurant",
          "Xam Yu Seafood Restaurant",
          "Phở Ai My Vietnamese Restaurant",
          "Harvest Noon Cafe",
          "Freshii",
          "Milestones",
          "Pickle Barrel Grand",
          "Yonge Street Warehouse",
          "Market Garden Food Emporium & Terrace",
          "Sushi House",
          "Blaze Pizza",
          "Spring Rolls",
          "Jack Astor's",
          "Spring Sushi",
          "The Chestnut Tree",
          "Aji Sai Restaurant",
          "Three Peppers",
          "Monga Fried Chicken",
          "The Diner’s Corner",
          "The Boil Bar",
          "NONAME",
          "Cafe la Gaffe",
          "Café California",
          "Freshii",
          "Burger Bar",
          "Fran's Restaurant",
          "Trattoria Mercatto",
          "Barberian's Steakhouse and Tavern",
          "Dynasty Chinese Cuisine",
          "Daily Sushi Japanese restaurant",
          "Paramount Middle Eastern Cuisine and Bakery",
          "You Don Ya",
          "Not Just Noodles",
          "Sushi Garden",
          "GBF Gourmet Burger Co.",
          "Sushi Club",
          "Okonomi House",
          "Exotic Tandoori",
          "Coach House Tavern Restaurant",
          "Spicy Mafia",
          "Top Sushi",
          "Asian Bowl",
          "Crown Princess Fine Dining",
          "St. Louis Bar & Grill",
          "Ichimi Sushi",
          "KAKA All You Can Eat",
          "Epicure City Sushi",
          "Tokyo Sushi",
          "Sushi Hana",
          "Midi",
          "Pho Orchid",
          "Wah Too Seafood Restaurant",
          "Mercatto",
          "Katsuya",
          "Sushi Supreme Fusion",
          "Rex's",
          "Segovia",
          "Salad King",
          "Hong Shing Chinese Restaurant",
          "Sushi & Bento",
          "Lan Zhou Ramen",
          "Cali Restaurant",
          "12 o'lunch",
          "Evergreen Thai Restaurant",
          "T&C Restaurant",
          "Yueh Tung Restaurant",
          "Joey Eaton Centre",
          "Screen Lounge & Rooftop Patio",
          "New Ho King",
          "Ema-Tei Authentic Japanese Food",
          "Japango",
          "Eggsmart",
          "Golden Griddle Family Restaurant",
          "Nando's",
          "Bocconcini Pizza and Wings",
          "Jazz Bistro",
          "Carlton Restaurant",
          "Portobello Restaurant & Bar",
          "Hot Beans",
          "7 West",
          "Ugly Duk ling",
          "Dagu Rice Noodle",
          "Denny's",
          "Gallery Sushi",
          "Omai",
          "Fresca Pizza & Pasta",
          "Freeplay",
          "BauZza BauZza",
          "Jack Astor's",
          "Sushi Tower Japanese Restaurant",
          "Bread & Bowl",
          "Manpuku",
          "eggspectation",
          "St. Louis Bar & Grill",
          "Sliced",
          "Daio",
          "Taste of China Seafood Restaurant",
          "Huibing",
          "Hungking",
          "King Lobster",
          "Rol San",
          "Swiss Chalet",
          "Duke's Refresher + Bar",
          "Scaddabush",
          "Ethiopian House Restaurant",
          "Bangkok Garden",
          "Canton Chili",
          "swirlcrêpe",
          "Diyijia",
          "Fresh Burger",
          "Just Thai",
          "Loaded Pierogi",
          "The Winding Road Restaurant",
          "Margarita's Mexican Fiesta",
          "Don Don Izakaya",
          "Freshii",
          "Shi Miaodao Yunnan Rice Noodle",
          "Ajisen Ramen Japanese Noodle",
          "Clubhouse",
          "sansotei ramen",
          "Kaiju",
          "Fugo desserts",
          "Senator Restaurant",
          "Golden Griddle",
          "Elephant & Castle",
          "Phở Hưng",
          "Dim Sum King",
          "New Treasure Restaurant",
          "Green Grotto",
          "Sichuan Garden",
          "The Spice Village",
          "Freshii",
          "Kinka Izakaya",
          "Bb 33 Bistro & Brasserie",
          "GB Hand-Pulled Noodles",
          "Captains Boil",
          "DAIO Authentic Japanese Cuisine",
          "Donatello",
          "Adega",
          "Bangkok Gardens",
          "Ho Jan Chinese Restaurant",
          "Mr Burrito / Baba Geddo",
          "Indian Roti House",
          "Kawa Sushi",
          "Kintaro Izakaya",
          "North of Brooklyn Pizzeria",
          "Sambucas On Church",
          "Tacorrito- Church",
          "Panpan Noodle Bar",
          "Valens",
          "rosewood Asian cuisine",
          "Lavetto",
          "Kanpai Snack Bar",
          "Bapbo Korean Cuisine",
          "Kenzo Ramen",
          "Yummy Yummy Dumplings",
          "Awas Tea Noodle",
          "Swatow Restaurant",
          "Zen Q",
          "The Hummussiah",
          "Vegan Bear",
          "Mother's Dumplings",
          "Saigon Lotus",
          "Ka Chi",
          "NARU Izakaya",
          "Gyugyuya",
          "Artisan+",
          "Pizzeria via Mercanti",
          "Fudao Noodle House",
          "Koyoi Japanese Restaurant & Bar",
          "Bone Soup Malatang",
          "Ritz Caribbean Food",
          "Darvish Persian Cuisine",
          "Blackball",
          "Four Four South Village",
          "Boston Pizza",
          "Kobi Korean Restaurant",
          "Chatime Innovation Bar",
          "Mabu Generation",
          "Mihito",
          "Dak Lak",
          "Pi Co",
          "NONAME",
          "The Lexington",
          "Konjiki Ramen (Downtown)"
         ],
         "type": "scattermapbox"
        }
       ],
       "layout": {
        "mapbox": {
         "center": {
          "lat": 43.662643,
          "lon": -79.395689
         },
         "style": "stamen-terrain",
         "zoom": 13
        },
        "margin": {
         "b": 0,
         "l": 0,
         "r": 0,
         "t": 0
        },
        "template": {
         "data": {
          "bar": [
           {
            "error_x": {
             "color": "#2a3f5f"
            },
            "error_y": {
             "color": "#2a3f5f"
            },
            "marker": {
             "line": {
              "color": "#E5ECF6",
              "width": 0.5
             },
             "pattern": {
              "fillmode": "overlay",
              "size": 10,
              "solidity": 0.2
             }
            },
            "type": "bar"
           }
          ],
          "barpolar": [
           {
            "marker": {
             "line": {
              "color": "#E5ECF6",
              "width": 0.5
             },
             "pattern": {
              "fillmode": "overlay",
              "size": 10,
              "solidity": 0.2
             }
            },
            "type": "barpolar"
           }
          ],
          "carpet": [
           {
            "aaxis": {
             "endlinecolor": "#2a3f5f",
             "gridcolor": "white",
             "linecolor": "white",
             "minorgridcolor": "white",
             "startlinecolor": "#2a3f5f"
            },
            "baxis": {
             "endlinecolor": "#2a3f5f",
             "gridcolor": "white",
             "linecolor": "white",
             "minorgridcolor": "white",
             "startlinecolor": "#2a3f5f"
            },
            "type": "carpet"
           }
          ],
          "choropleth": [
           {
            "colorbar": {
             "outlinewidth": 0,
             "ticks": ""
            },
            "type": "choropleth"
           }
          ],
          "contour": [
           {
            "colorbar": {
             "outlinewidth": 0,
             "ticks": ""
            },
            "colorscale": [
             [
              0,
              "#0d0887"
             ],
             [
              0.1111111111111111,
              "#46039f"
             ],
             [
              0.2222222222222222,
              "#7201a8"
             ],
             [
              0.3333333333333333,
              "#9c179e"
             ],
             [
              0.4444444444444444,
              "#bd3786"
             ],
             [
              0.5555555555555556,
              "#d8576b"
             ],
             [
              0.6666666666666666,
              "#ed7953"
             ],
             [
              0.7777777777777778,
              "#fb9f3a"
             ],
             [
              0.8888888888888888,
              "#fdca26"
             ],
             [
              1,
              "#f0f921"
             ]
            ],
            "type": "contour"
           }
          ],
          "contourcarpet": [
           {
            "colorbar": {
             "outlinewidth": 0,
             "ticks": ""
            },
            "type": "contourcarpet"
           }
          ],
          "heatmap": [
           {
            "colorbar": {
             "outlinewidth": 0,
             "ticks": ""
            },
            "colorscale": [
             [
              0,
              "#0d0887"
             ],
             [
              0.1111111111111111,
              "#46039f"
             ],
             [
              0.2222222222222222,
              "#7201a8"
             ],
             [
              0.3333333333333333,
              "#9c179e"
             ],
             [
              0.4444444444444444,
              "#bd3786"
             ],
             [
              0.5555555555555556,
              "#d8576b"
             ],
             [
              0.6666666666666666,
              "#ed7953"
             ],
             [
              0.7777777777777778,
              "#fb9f3a"
             ],
             [
              0.8888888888888888,
              "#fdca26"
             ],
             [
              1,
              "#f0f921"
             ]
            ],
            "type": "heatmap"
           }
          ],
          "heatmapgl": [
           {
            "colorbar": {
             "outlinewidth": 0,
             "ticks": ""
            },
            "colorscale": [
             [
              0,
              "#0d0887"
             ],
             [
              0.1111111111111111,
              "#46039f"
             ],
             [
              0.2222222222222222,
              "#7201a8"
             ],
             [
              0.3333333333333333,
              "#9c179e"
             ],
             [
              0.4444444444444444,
              "#bd3786"
             ],
             [
              0.5555555555555556,
              "#d8576b"
             ],
             [
              0.6666666666666666,
              "#ed7953"
             ],
             [
              0.7777777777777778,
              "#fb9f3a"
             ],
             [
              0.8888888888888888,
              "#fdca26"
             ],
             [
              1,
              "#f0f921"
             ]
            ],
            "type": "heatmapgl"
           }
          ],
          "histogram": [
           {
            "marker": {
             "pattern": {
              "fillmode": "overlay",
              "size": 10,
              "solidity": 0.2
             }
            },
            "type": "histogram"
           }
          ],
          "histogram2d": [
           {
            "colorbar": {
             "outlinewidth": 0,
             "ticks": ""
            },
            "colorscale": [
             [
              0,
              "#0d0887"
             ],
             [
              0.1111111111111111,
              "#46039f"
             ],
             [
              0.2222222222222222,
              "#7201a8"
             ],
             [
              0.3333333333333333,
              "#9c179e"
             ],
             [
              0.4444444444444444,
              "#bd3786"
             ],
             [
              0.5555555555555556,
              "#d8576b"
             ],
             [
              0.6666666666666666,
              "#ed7953"
             ],
             [
              0.7777777777777778,
              "#fb9f3a"
             ],
             [
              0.8888888888888888,
              "#fdca26"
             ],
             [
              1,
              "#f0f921"
             ]
            ],
            "type": "histogram2d"
           }
          ],
          "histogram2dcontour": [
           {
            "colorbar": {
             "outlinewidth": 0,
             "ticks": ""
            },
            "colorscale": [
             [
              0,
              "#0d0887"
             ],
             [
              0.1111111111111111,
              "#46039f"
             ],
             [
              0.2222222222222222,
              "#7201a8"
             ],
             [
              0.3333333333333333,
              "#9c179e"
             ],
             [
              0.4444444444444444,
              "#bd3786"
             ],
             [
              0.5555555555555556,
              "#d8576b"
             ],
             [
              0.6666666666666666,
              "#ed7953"
             ],
             [
              0.7777777777777778,
              "#fb9f3a"
             ],
             [
              0.8888888888888888,
              "#fdca26"
             ],
             [
              1,
              "#f0f921"
             ]
            ],
            "type": "histogram2dcontour"
           }
          ],
          "mesh3d": [
           {
            "colorbar": {
             "outlinewidth": 0,
             "ticks": ""
            },
            "type": "mesh3d"
           }
          ],
          "parcoords": [
           {
            "line": {
             "colorbar": {
              "outlinewidth": 0,
              "ticks": ""
             }
            },
            "type": "parcoords"
           }
          ],
          "pie": [
           {
            "automargin": true,
            "type": "pie"
           }
          ],
          "scatter": [
           {
            "marker": {
             "colorbar": {
              "outlinewidth": 0,
              "ticks": ""
             }
            },
            "type": "scatter"
           }
          ],
          "scatter3d": [
           {
            "line": {
             "colorbar": {
              "outlinewidth": 0,
              "ticks": ""
             }
            },
            "marker": {
             "colorbar": {
              "outlinewidth": 0,
              "ticks": ""
             }
            },
            "type": "scatter3d"
           }
          ],
          "scattercarpet": [
           {
            "marker": {
             "colorbar": {
              "outlinewidth": 0,
              "ticks": ""
             }
            },
            "type": "scattercarpet"
           }
          ],
          "scattergeo": [
           {
            "marker": {
             "colorbar": {
              "outlinewidth": 0,
              "ticks": ""
             }
            },
            "type": "scattergeo"
           }
          ],
          "scattergl": [
           {
            "marker": {
             "colorbar": {
              "outlinewidth": 0,
              "ticks": ""
             }
            },
            "type": "scattergl"
           }
          ],
          "scattermapbox": [
           {
            "marker": {
             "colorbar": {
              "outlinewidth": 0,
              "ticks": ""
             }
            },
            "type": "scattermapbox"
           }
          ],
          "scatterpolar": [
           {
            "marker": {
             "colorbar": {
              "outlinewidth": 0,
              "ticks": ""
             }
            },
            "type": "scatterpolar"
           }
          ],
          "scatterpolargl": [
           {
            "marker": {
             "colorbar": {
              "outlinewidth": 0,
              "ticks": ""
             }
            },
            "type": "scatterpolargl"
           }
          ],
          "scatterternary": [
           {
            "marker": {
             "colorbar": {
              "outlinewidth": 0,
              "ticks": ""
             }
            },
            "type": "scatterternary"
           }
          ],
          "surface": [
           {
            "colorbar": {
             "outlinewidth": 0,
             "ticks": ""
            },
            "colorscale": [
             [
              0,
              "#0d0887"
             ],
             [
              0.1111111111111111,
              "#46039f"
             ],
             [
              0.2222222222222222,
              "#7201a8"
             ],
             [
              0.3333333333333333,
              "#9c179e"
             ],
             [
              0.4444444444444444,
              "#bd3786"
             ],
             [
              0.5555555555555556,
              "#d8576b"
             ],
             [
              0.6666666666666666,
              "#ed7953"
             ],
             [
              0.7777777777777778,
              "#fb9f3a"
             ],
             [
              0.8888888888888888,
              "#fdca26"
             ],
             [
              1,
              "#f0f921"
             ]
            ],
            "type": "surface"
           }
          ],
          "table": [
           {
            "cells": {
             "fill": {
              "color": "#EBF0F8"
             },
             "line": {
              "color": "white"
             }
            },
            "header": {
             "fill": {
              "color": "#C8D4E3"
             },
             "line": {
              "color": "white"
             }
            },
            "type": "table"
           }
          ]
         },
         "layout": {
          "annotationdefaults": {
           "arrowcolor": "#2a3f5f",
           "arrowhead": 0,
           "arrowwidth": 1
          },
          "autotypenumbers": "strict",
          "coloraxis": {
           "colorbar": {
            "outlinewidth": 0,
            "ticks": ""
           }
          },
          "colorscale": {
           "diverging": [
            [
             0,
             "#8e0152"
            ],
            [
             0.1,
             "#c51b7d"
            ],
            [
             0.2,
             "#de77ae"
            ],
            [
             0.3,
             "#f1b6da"
            ],
            [
             0.4,
             "#fde0ef"
            ],
            [
             0.5,
             "#f7f7f7"
            ],
            [
             0.6,
             "#e6f5d0"
            ],
            [
             0.7,
             "#b8e186"
            ],
            [
             0.8,
             "#7fbc41"
            ],
            [
             0.9,
             "#4d9221"
            ],
            [
             1,
             "#276419"
            ]
           ],
           "sequential": [
            [
             0,
             "#0d0887"
            ],
            [
             0.1111111111111111,
             "#46039f"
            ],
            [
             0.2222222222222222,
             "#7201a8"
            ],
            [
             0.3333333333333333,
             "#9c179e"
            ],
            [
             0.4444444444444444,
             "#bd3786"
            ],
            [
             0.5555555555555556,
             "#d8576b"
            ],
            [
             0.6666666666666666,
             "#ed7953"
            ],
            [
             0.7777777777777778,
             "#fb9f3a"
            ],
            [
             0.8888888888888888,
             "#fdca26"
            ],
            [
             1,
             "#f0f921"
            ]
           ],
           "sequentialminus": [
            [
             0,
             "#0d0887"
            ],
            [
             0.1111111111111111,
             "#46039f"
            ],
            [
             0.2222222222222222,
             "#7201a8"
            ],
            [
             0.3333333333333333,
             "#9c179e"
            ],
            [
             0.4444444444444444,
             "#bd3786"
            ],
            [
             0.5555555555555556,
             "#d8576b"
            ],
            [
             0.6666666666666666,
             "#ed7953"
            ],
            [
             0.7777777777777778,
             "#fb9f3a"
            ],
            [
             0.8888888888888888,
             "#fdca26"
            ],
            [
             1,
             "#f0f921"
            ]
           ]
          },
          "colorway": [
           "#636efa",
           "#EF553B",
           "#00cc96",
           "#ab63fa",
           "#FFA15A",
           "#19d3f3",
           "#FF6692",
           "#B6E880",
           "#FF97FF",
           "#FECB52"
          ],
          "font": {
           "color": "#2a3f5f"
          },
          "geo": {
           "bgcolor": "white",
           "lakecolor": "white",
           "landcolor": "#E5ECF6",
           "showlakes": true,
           "showland": true,
           "subunitcolor": "white"
          },
          "hoverlabel": {
           "align": "left"
          },
          "hovermode": "closest",
          "mapbox": {
           "style": "light"
          },
          "paper_bgcolor": "white",
          "plot_bgcolor": "#E5ECF6",
          "polar": {
           "angularaxis": {
            "gridcolor": "white",
            "linecolor": "white",
            "ticks": ""
           },
           "bgcolor": "#E5ECF6",
           "radialaxis": {
            "gridcolor": "white",
            "linecolor": "white",
            "ticks": ""
           }
          },
          "scene": {
           "xaxis": {
            "backgroundcolor": "#E5ECF6",
            "gridcolor": "white",
            "gridwidth": 2,
            "linecolor": "white",
            "showbackground": true,
            "ticks": "",
            "zerolinecolor": "white"
           },
           "yaxis": {
            "backgroundcolor": "#E5ECF6",
            "gridcolor": "white",
            "gridwidth": 2,
            "linecolor": "white",
            "showbackground": true,
            "ticks": "",
            "zerolinecolor": "white"
           },
           "zaxis": {
            "backgroundcolor": "#E5ECF6",
            "gridcolor": "white",
            "gridwidth": 2,
            "linecolor": "white",
            "showbackground": true,
            "ticks": "",
            "zerolinecolor": "white"
           }
          },
          "shapedefaults": {
           "line": {
            "color": "#2a3f5f"
           }
          },
          "ternary": {
           "aaxis": {
            "gridcolor": "white",
            "linecolor": "white",
            "ticks": ""
           },
           "baxis": {
            "gridcolor": "white",
            "linecolor": "white",
            "ticks": ""
           },
           "bgcolor": "#E5ECF6",
           "caxis": {
            "gridcolor": "white",
            "linecolor": "white",
            "ticks": ""
           }
          },
          "title": {
           "x": 0.05
          },
          "xaxis": {
           "automargin": true,
           "gridcolor": "white",
           "linecolor": "white",
           "ticks": "",
           "title": {
            "standoff": 15
           },
           "zerolinecolor": "white",
           "zerolinewidth": 2
          },
          "yaxis": {
           "automargin": true,
           "gridcolor": "white",
           "linecolor": "white",
           "ticks": "",
           "title": {
            "standoff": 15
           },
           "zerolinecolor": "white",
           "zerolinewidth": 2
          }
         }
        }
       }
      }
     },
     "metadata": {},
     "output_type": "display_data"
    }
   ],
   "source": [
    "import plotly.graph_objects as obj\n",
    "\n",
    "# Extract the lon, lat and name of each restaurant:\n",
    "coords = []\n",
    "text = []\n",
    "for elem in restaurants['features']:\n",
    "    latlon = elem['geometry']['coordinates']\n",
    "    if latlon == []: continue\n",
    "    coords.append(latlon)\n",
    "    if 'name'  not in elem['properties']:\n",
    "        text.append('NONAME')\n",
    "    else:\n",
    "        text.append(elem['properties']['name'])\n",
    "# Convert into a dictionary for plotly\n",
    "restaurant_dict = dict(type='scattermapbox',\n",
    "                   lat=[x[1] for x in coords], \n",
    "                   lon=[x[0] for x in coords],\n",
    "                   mode='markers',\n",
    "                   text=text,\n",
    "                   marker=dict(size=8, color='blue'),\n",
    "                   hoverinfo='text',    \n",
    "                   showlegend=False)\n",
    "\n",
    "\n",
    "# plotting restaurants' locations around University of Toronto\n",
    "\n",
    "center=(43.662643, -79.395689) # UofT main building\n",
    "\n",
    "fig = obj.Figure(obj.Scattermapbox(restaurant_dict))\n",
    "\n",
    "# defining plot layout\n",
    "fig.update_layout(mapbox_style=\"stamen-terrain\")\n",
    "fig.update_layout(margin={\"r\":0,\"t\":0,\"l\":0,\"b\":0}, mapbox = {'center': {'lat': center[0], 'lon': center[1]}, 'zoom': 13})\n",
    "fig.show()"
   ]
  },
  {
   "cell_type": "markdown",
   "metadata": {},
   "source": [
    "## Compile your dataset\n",
    "You can compile your own dataset using the [Overpass QL](https://wiki.openstreetmap.org/wiki/Overpass_API/Overpass_QL) language that runs on [Overpass turbo](http://overpass-turbo.eu/). You can use this query language to mine OpenStreetMaps data, filter it, and get it ready to be used by `osmnx` or any library that parses `.osm` files. Below is a quick review about using [Overpass API](https://wiki.openstreetmap.org/wiki/Overpass_API), which is the official API for reading data from OpenStreetMap servers. All the online [routing services and software](https://wiki.openstreetmap.org/wiki/Routing/online_routers) use it. Additionally, we will usually use [Nominatim](https://github.com/osm-search/Nominatim) to do geocoding/geo-decoding; translating addresses to/from (latitude-longitude). \n",
    "\n",
    "Also be aware of the fact that most of the time if you are building a dataset over a very big area in the map, the graph parsed from the data by `osmnx` won't be complete, even though there are physically feasible routes that could make the graph complete and connect all the nodes. This deficiency is usually because of the incomplete [relations](https://wiki.openstreetmap.org/wiki/Relation) and data of `osm` -- don't worry about that now.\n",
    "\n",
    "For these cases, we will be using [OSRM](http://project-osrm.org/) to fill these gaps when needed, with the help of some utilities in `utilities/src/poi.py`. This can be seen in some of the case studies.\n",
    "\n",
    "### Using `OverPass QL`\n",
    "\n",
    "Fire up [Overpass turbo](http://overpass-turbo.eu/) and run these scripts and export it as `.osm` files.\n",
    "\n",
    "* All hospitals around UofT\n",
    "```none\n",
    "[bbox:43.611968,-79.464798,43.695183,-79.297256];\n",
    "node[\"amenity\"=\"hosptial\"]({{bbox}});\n",
    "out;\n",
    "way[\"amenity\"=\"hospital\"]({{bbox}});\n",
    "out center;\n",
    "relation[\"amenity\"=\"hospital\"]({{bbox}});\n",
    "out center;\n",
    "```\n",
    "* All Tim Hortons in Canada\n",
    "```none\n",
    "[bbox:42.553080,-141.328125,69.960439,-51.679688];\n",
    "node[\"amenity\"=\"cafe\"]({{bbox}});\n",
    "node[\"name\"=\"Tim Hortons\"]({{bbox}});\n",
    "out center;\n",
    "```\n",
    "\n",
    "* All fast food or restaurant places in London*\n",
    "```none\n",
    "area\n",
    "  [\"boundary\"=\"administrative\"]\n",
    "  [\"name\"=\"London\"]->.a;          // Redirect result to \".a\"\n",
    "out body qt;\n",
    "(\n",
    "  node\n",
    "    (area.a)                    // Use result from \".a\"\n",
    "    [\"amenity\"~\"fast_food|restaurant\"];\n",
    "  way\n",
    "    (area.a)                    // Use again result from \".a\"\n",
    "    [\"amenity\"~\"fast_food|restaurant\"];\n",
    ");\n",
    "out body qt;\n",
    ">;\n",
    "out skel qt;\n",
    "```\n",
    "\n",
    "Finding the bounding box around an area of interest is a recurring problem in writing `OverPass QL` queries. To solve for that, we can use [bbox finder](http://bboxfinder.com/). Don't forget to change the coordinate format to latitude/longitude at the right corner after drawing the polygon around the area of interest.\n",
    "\n",
    "### Using `Overpass turbo`'s Wizard\n",
    "[Overpass turbo](http://overpass-turbo.eu/)'s Wizard provides an easy way to auto-generate Overpass QL queries. Wizard syntax is similar to that of a search engine. An example of Wizard syntax is `amenity=hospital` that generates an Overpass QL query to find all the hospitals in a certain region of interest. Hospital locations will be visualized on the map and can be downloaded/copied using the \"Export\" button. The data can be exported as GeoJSON, GPX, KML, raw OSM data, or raw data directly from Overpass API. You can then use `osmnx` to read `.osm` files with [`osmnx.graph_from_xml`](https://osmnx.readthedocs.io/en/stable/osmnx.html?highlight=from%20file#osmnx.graph.graph_from_xml).\n",
    "\n",
    "Some examples of `Overpass turbo`'s wizard syntax include:\n",
    "* **`amenity=restaurant in \"Toronto, Canada\"`** to find all resturants in City of Toronto.\n",
    "* **`amenity=cafe and name=\"Tim Hortons\"`** to find all Tim Hortons coffee shops.\n",
    "* **`(amenity=hospital or amenity=school) and (type:way)`** to find hospitals and schools with close ways mapped.\n",
    "* **`amenity=hospital and name~\"General Hospital\"`** will find all hospitals with \"General Hospital\" part of their names. \n",
    "\n",
    "::: {note}\n",
    "\n",
    "**Contributing:** Do you have something cool and want to share it with us? If you collected your data by downloading it directly from OpenStreetMaps and did some filtering with `osmfilter`, open a pull request with the details of the data and how you filtered it. If you collected your data with [overpass turbo](http://overpass-turbo.eu/), please attach your `Overpass QL` script with the data so we can replicate your results, and maybe we can learn a thing or two from your script.\n",
    ":::"
   ]
  }
 ],
 "metadata": {
  "interpreter": {
   "hash": "a405b721b341898b1c612734a812e53b99bd4311cd409aa0073bcfbe1e3bbb80"
  },
  "kernelspec": {
   "display_name": "Python 3.8.10 64-bit ('book-env': venv)",
   "name": "python3"
  },
  "language_info": {
   "codemirror_mode": {
    "name": "ipython",
    "version": 3
   },
   "file_extension": ".py",
   "mimetype": "text/x-python",
   "name": "python",
   "nbconvert_exporter": "python",
   "pygments_lexer": "ipython3",
   "version": "3.8.10"
  },
  "orig_nbformat": 4
 },
 "nbformat": 4,
 "nbformat_minor": 2
}
