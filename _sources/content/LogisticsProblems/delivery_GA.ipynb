{
 "cells": [
  {
   "cell_type": "markdown",
   "metadata": {},
   "source": [
    "# Delivery Vehicle Routing\n",
    "\n",
    "Consider the following problem:\n",
    "\n",
    "A delivery person is given a list of dropoff locations for his/her daily route. Our goal then is to reach all of our target destinations in as short of a distance as possible. Alternatively, we could also consider other objectives to optimize for, either separately or at the same time:\n",
    "\n",
    "- shortest time\n",
    "- number of left turns\n",
    "- avoiding highways\n",
    "- eco-friendly routes\n",
    "- avoid residential areas"
   ]
  },
  {
   "cell_type": "code",
   "execution_count": 1,
   "metadata": {},
   "outputs": [],
   "source": [
    "import pandas as pd\n",
    "import math\n",
    "import numpy as np\n",
    "import random\n",
    "import time\n",
    "import matplotlib.pyplot as plt\n",
    "import osmnx as ox\n",
    "import networkx as nx\n",
    "from tqdm.notebook import tqdm\n",
    "from smart_mobility_utilities.poi import poi, drawPOIS, drawRouteOrder"
   ]
  },
  {
   "cell_type": "code",
   "execution_count": 2,
   "metadata": {},
   "outputs": [],
   "source": [
    "# You can use different excel data\n",
    "file_path = '../../data/rideshare_GA/rideshare_dropoff.csv'\n",
    "df = pd.read_csv(file_path)\n",
    "numberOfStops = len(df)"
   ]
  },
  {
   "cell_type": "code",
   "execution_count": 3,
   "metadata": {},
   "outputs": [
    {
     "data": {
      "text/plain": [
       "[Name: Bay Street ID: 1601697722,\n",
       " Name: 653 ID: 76112568,\n",
       " Name: Castle Frank ID: 43804186,\n",
       " Name: 719-721 ID: 363349504,\n",
       " Name: Coxwell Avenue ID: 420539103,\n",
       " Name: Don Mills Road ID: 31653252,\n",
       " Name: 3945 ID: 76130372,\n",
       " Name: Fit for Life ID: 1561890202,\n",
       " Name: Dupont ID: 5320349317,\n",
       " Name: Finch ID: 561044357,\n",
       " Name: 1380 ID: 66246309,\n",
       " Name: Scarborough Southwest ID: 685674284,\n",
       " Name: Donlands Avenue ID: 420539141,\n",
       " Name: Kipling Station ID: 32052148,\n",
       " Name: 1870 ID: 67739333,\n",
       " Name: Canadian Tire/TVO ID: 95758198]"
      ]
     },
     "execution_count": 3,
     "metadata": {},
     "output_type": "execute_result"
    }
   ],
   "source": [
    "POIS = []\n",
    "for _ in df.itertuples():\n",
    "    POIS.append(poi(_.Address,\"canada\",_.Latitude, _.Longitude))\n",
    "POIS"
   ]
  },
  {
   "cell_type": "code",
   "execution_count": 4,
   "metadata": {},
   "outputs": [
    {
     "data": {
      "application/vnd.jupyter.widget-view+json": {
       "model_id": "4ee11940e8024414a5da439f138a92c6",
       "version_major": 2,
       "version_minor": 0
      },
      "text/plain": [
       "Map(center=[43.70017248810806, -79.3957161482716], close_popup_on_click=False, controls=(ZoomControl(options=[…"
      ]
     },
     "metadata": {},
     "output_type": "display_data"
    }
   ],
   "source": [
    "drawPOIS(POIS, zoom=10)"
   ]
  },
  {
   "cell_type": "code",
   "execution_count": 5,
   "metadata": {},
   "outputs": [],
   "source": [
    "G = nx.DiGraph()\n",
    "G.add_nodes_from(POIS)"
   ]
  },
  {
   "cell_type": "code",
   "execution_count": 6,
   "metadata": {},
   "outputs": [
    {
     "data": {
      "application/vnd.jupyter.widget-view+json": {
       "model_id": "af439b0b3a4049b3a38b26023d7071ea",
       "version_major": 2,
       "version_minor": 0
      },
      "text/plain": [
       "  0%|          | 0/256 [00:00<?, ?it/s]"
      ]
     },
     "metadata": {},
     "output_type": "display_data"
    }
   ],
   "source": [
    "# this will take 3-4 minutes because you need to find\n",
    "# two routes between each pair of POIs\n",
    "durations = []\n",
    "pbar = tqdm(total=len(G.nodes())**2)\n",
    "for source in G.nodes():\n",
    "    duration = []\n",
    "    for destination in G.nodes():\n",
    "        pbar.update()\n",
    "        if source == destination: \n",
    "            duration.append(0)\n",
    "            continue\n",
    "        G.add_edge(source, destination, route = source.route_to(destination))\n",
    "        route = source.route_to(destination)\n",
    "        duration.append(route['duration'])\n",
    "    durations.append(duration)"
   ]
  },
  {
   "cell_type": "code",
   "execution_count": 7,
   "metadata": {},
   "outputs": [
    {
     "data": {
      "text/plain": [
       "array([[   0. , 1244. ,  212.7,  270.4,  649.5, 1163.3, 1116.7,  192.9,\n",
       "         224.3, 1383.2,  739.6, 1234.1,  511.6, 1254.3,  728.7,  526. ],\n",
       "       [1230.5,    0. , 1169.1, 1268.4, 1125.2,  230.2,  610.7, 1349.9,\n",
       "        1221.8,  434.5,  701. ,  894.8, 1059.7, 1596.4, 1335.2,  872.3],\n",
       "       [ 215.5, 1131.5,    0. ,  485.9,  441.2,  955. , 1288.4,  341.8,\n",
       "         403.4, 1451.4,  912.1, 1025.8,  303.3, 1329.6,  944.2,  646.4],\n",
       "       [ 270.4, 1206. ,  483.1,    0. ,  919.9, 1406.4,  972.6,  463.3,\n",
       "         223.3, 1394.8,  553.8, 1504.5,  782. , 1123.3,  458.3,  693. ],\n",
       "       [ 649.3, 1110.1,  587.9,  919.7,    0. ,  933.6, 1507.5,  765.2,\n",
       "         837.2, 1430. , 1241.2,  848.5,  137.9, 1608. , 1332.3, 1031.8],\n",
       "       [1089.6,  230. , 1028.2, 1360. ,  984.3,    0. ,  761.3, 1209. ,\n",
       "        1277.5,  635.2,  834.5,  827.9,  918.8, 1732.7, 1471.5, 1008.6],\n",
       "       [1116.2,  628.3, 1277.8,  971.6, 1512.7,  841.3,    0. , 1309.1,\n",
       "         927. ,  620.3,  404.2, 1282.3, 1447.2, 1368.5, 1051.9,  811.6],\n",
       "       [ 192.9, 1318.8,  342. ,  463.3,  765.3, 1142.3, 1292.9,    0. ,\n",
       "         400.5, 1552. ,  915.8, 1213.1,  640.9, 1125.2,  788.8,  694.8],\n",
       "       [ 219.9, 1139.1,  400.2,  226.6,  837. , 1308.2,  928. ,  406.5,\n",
       "           0. , 1327.9,  531.6, 1379. ,  699.1, 1177. ,  612.4,  499.7],\n",
       "       [1334.5,  450.3, 1472.7, 1370.8, 1453.7,  621.5,  562.7, 1524.3,\n",
       "        1324.2,    0. ,  803.4, 1244.9, 1388.2, 1698.8, 1437.6,  952. ],\n",
       "       [ 720.3,  652.2,  888.4,  567.4, 1238.6,  852.6,  418.8,  913.2,\n",
       "         522.8,  841. ,    0. , 1293.5, 1105.7, 1108.4,  647.7,  422.2],\n",
       "       [1279. ,  994.6, 1217.6, 1549.4,  918.5,  912.8, 1391.8, 1397.9,\n",
       "        1466.9, 1314.5, 1465. ,    0. , 1056.4, 2145.9, 1870.2, 1263.3],\n",
       "       [ 511.4, 1047.1,  450. ,  781.8,  137.9,  870.6, 1444.5,  637.7,\n",
       "         699.3, 1367. , 1106.8,  941.4,    0. , 1571.9, 1240.1,  897.4],\n",
       "       [1302.2, 1439.4, 1372.1, 1114.8, 1662.6, 1652.3, 1295.3, 1175.9,\n",
       "        1178.8, 1628.2, 1104.5, 2037. , 1621.3,    0. ,  656.5, 1433. ],\n",
       "       [ 728.7, 1293.5,  941.4,  458.3, 1352.6, 1493.9, 1060.1,  785.6,\n",
       "         611.1, 1482.3,  641.3, 1727. , 1240.3,  665. ,    0. ,  969.8],\n",
       "       [ 509.4,  854.4,  652.6,  740.5, 1022.7, 1067.4,  801.6,  699.2,\n",
       "         530.2,  990.5,  425.3, 1158.4,  889.8, 1485.3, 1024.6,    0. ]])"
      ]
     },
     "execution_count": 7,
     "metadata": {},
     "output_type": "execute_result"
    }
   ],
   "source": [
    "trip = np.array(durations)\n",
    "trip"
   ]
  },
  {
   "cell_type": "code",
   "execution_count": 8,
   "metadata": {},
   "outputs": [],
   "source": [
    "# define a function that can compute the fitness value of each solution in the population\n",
    "def cal_pop_objective_1(m, pop):\n",
    "    M = np.zeros([8,numberOfStops-1])\n",
    "    fitness = np.zeros(8)\n",
    "    for i in range(8):\n",
    "        for j in range(numberOfStops-1):\n",
    "            M[i,j] = m[pop[i,j]-1,pop[i,j+1]-1]\n",
    "    for k in range(8):\n",
    "        fitness[k] = np.sum(M[k])\n",
    "    return fitness\n"
   ]
  },
  {
   "cell_type": "code",
   "execution_count": 9,
   "metadata": {},
   "outputs": [],
   "source": [
    "# define a function that can select the best individuals in the current generation as the parents to produce the offsprings\n",
    "def select_mating(pop, fitness, num_parents):\n",
    "    parents = np.zeros([num_parents, pop.shape[1]])\n",
    "    for parent_num in range(num_parents):\n",
    "        min_fitness_index = np.where(fitness == np.min(fitness))\n",
    "        min_fitness_index = min_fitness_index[0][0]\n",
    "        parents[parent_num, :] = pop[min_fitness_index, :]\n",
    "        fitness[min_fitness_index] = 999999999\n",
    "    return parents\n"
   ]
  },
  {
   "cell_type": "code",
   "execution_count": 10,
   "metadata": {},
   "outputs": [],
   "source": [
    "# implementation of order 1 crossover\n",
    "def crossover(mum, dad):\n",
    "    size = len(mum)\n",
    "\n",
    "    # select random start/end position for crossover\n",
    "    alice, bob = [-1] * size, [-1] * size\n",
    "    start, end = sorted([random.randrange(size) for _ in range(2)])\n",
    "\n",
    "    # replicate mum's sequence for alice\n",
    "    alice_inherited = []\n",
    "    for i in range(start, end + 1):\n",
    "        alice[i] = mum[i]\n",
    "        alice_inherited.append(mum[i])\n",
    "\n",
    "    current_dad_position, current_mum_position = 0, 0\n",
    "\n",
    "    fixed_pos = list(range(start, end + 1))\n",
    "    i = 0\n",
    "    while i < size:\n",
    "        if i in fixed_pos:\n",
    "            i += 1\n",
    "            continue\n",
    "        test_alice = alice[i]\n",
    "        if test_alice==-1:\n",
    "            dad_trait = dad[current_dad_position]\n",
    "            while dad_trait in alice_inherited:\n",
    "                dad_trait = dad[current_dad_position]\n",
    "                current_dad_position += 1\n",
    "            alice[i] = dad_trait\n",
    "            alice_inherited.append(dad_trait)\n",
    "        i += 1\n",
    "    return alice\n"
   ]
  },
  {
   "cell_type": "code",
   "execution_count": 11,
   "metadata": {},
   "outputs": [],
   "source": [
    "# implementation of swap mutation\n",
    "def mutation(offspring_crossover):\n",
    "    a = random.randint(0,numberOfStops-1)\n",
    "    b = random.randint(0,numberOfStops-1)\n",
    "    for i in range(offspring_crossover.shape[0]):\n",
    "        mut_1 = offspring_crossover[i,a]\n",
    "        mut_2 = offspring_crossover[i,b]\n",
    "        offspring_crossover[i,a] = mut_2\n",
    "        offspring_crossover[i,b] = mut_1\n",
    "    return offspring_crossover\n"
   ]
  },
  {
   "cell_type": "code",
   "execution_count": 12,
   "metadata": {},
   "outputs": [
    {
     "data": {
      "application/vnd.jupyter.widget-view+json": {
       "model_id": "ad9871218075439fab9e9a21251615de",
       "version_major": 2,
       "version_minor": 0
      },
      "text/plain": [
       "  0%|          | 0/30000 [00:00<?, ?it/s]"
      ]
     },
     "metadata": {},
     "output_type": "display_data"
    }
   ],
   "source": [
    "\"implementation of genetic algorithm on ride sharing problem\"\n",
    "\n",
    "# ga parameters\n",
    "sol_per_pop = 8\n",
    "num_parents_mating = 4\n",
    "num_offsprings = 4\n",
    "\n",
    "# define population size and offspring size\n",
    "pop_size = (sol_per_pop, trip.shape[1])\n",
    "offspring_size = (num_offsprings, trip.shape[1])\n",
    "\n",
    "# generate the initial population\n",
    "new_population = np.zeros(pop_size)\n",
    "for i in range(8):\n",
    "    new_population[i] = np.arange(1,numberOfStops+1)\n",
    "    random.shuffle(new_population[i])\n",
    "new_population = new_population.astype(int)\n",
    "\n",
    "best_outputs = []\n",
    "num_of_generation = 30000\n",
    "\n",
    "running_time = np.zeros(num_of_generation)\n",
    "\n",
    "for generation in tqdm(range(num_of_generation), total=num_of_generation):\n",
    "\n",
    "    # record the starting time\n",
    "    start_time = time.time()\n",
    "\n",
    "    # compute the fitness of each individual in the population\n",
    "    fitness = cal_pop_objective_1(trip, new_population)\n",
    "\n",
    "    # record the best fitness in the current generation\n",
    "    best_outputs.append(np.min(fitness))\n",
    "\n",
    "    # select the best 4 individuals in the population as parents for mating\n",
    "    parents = select_mating(new_population, fitness, num_parents_mating)\n",
    "\n",
    "    # generate offsprings using crossover\n",
    "    offspring_crossover = np.zeros(offspring_size)\n",
    "    r_1 = np.random.random()\n",
    "    if r_1 < 0.7: # crossover probability = 0.7\n",
    "        offspring_crossover[0] = crossover(parents[0], parents[1])\n",
    "        offspring_crossover[1] = crossover(parents[1], parents[0])\n",
    "        offspring_crossover[2] = crossover(parents[2], parents[3])\n",
    "        offspring_crossover[3] = crossover(parents[3], parents[2])\n",
    "    else:\n",
    "        offspring_crossover[0] = parents[0]\n",
    "        offspring_crossover[1] = parents[1]\n",
    "        offspring_crossover[2] = parents[2]\n",
    "        offspring_crossover[3] = parents[3]\n",
    "\n",
    "    # offsprings mutation\n",
    "    r_2 = np.random.random()\n",
    "    if r_2 < 0.05: # mutation probability = 0.05\n",
    "        offspring_mutation = mutation(offspring_crossover)\n",
    "    else:\n",
    "        offspring_mutation = offspring_crossover\n",
    "\n",
    "    # generate the new population based on parents and offsprings\n",
    "    new_population[0:parents.shape[0], :] = parents\n",
    "    new_population[parents.shape[0]:, :] = offspring_mutation\n",
    "\n",
    "    # compute and store the running time\n",
    "    running_time[generation] = time.time() - start_time\n"
   ]
  },
  {
   "cell_type": "code",
   "execution_count": 13,
   "metadata": {},
   "outputs": [
    {
     "name": "stdout",
     "output_type": "stream",
     "text": [
      "Best solution: [10  7 11 15 14  8  1  4  9 16  3 13  5 12  6  2]\n",
      "Best fitness: 7726.900000000001\n",
      "The algorithm converges in 13481 iterations.\n",
      "The algorithm converges in 2.101207733154297 seconds.\n"
     ]
    }
   ],
   "source": [
    "# get the best solution after iterating all the generations\n",
    "# compute the fitness of each individual in the final generation\n",
    "fitness = cal_pop_objective_1(trip, new_population)\n",
    "# return the index of the solution corresponding to the best fitness\n",
    "best_index = np.where(fitness == np.min(fitness))\n",
    "\n",
    "running_time = running_time.cumsum()\n",
    "\n",
    "# to get the index of iteration when the fitness reaches its minimum value (convergence point of the algorithm)\n",
    "convergence_index = np.where(best_outputs == np.min(best_outputs))\n",
    "convergence_time = running_time[convergence_index]\n",
    "\n",
    "print(\"Best solution:\", new_population[best_index, :][0][0])\n",
    "print(\"Best fitness:\", fitness[best_index][0])\n",
    "print(\"The algorithm converges in\", np.min(convergence_index), \"iterations.\")\n",
    "print(\"The algorithm converges in\", np.min(convergence_time), \"seconds.\")\n"
   ]
  },
  {
   "cell_type": "code",
   "execution_count": 14,
   "metadata": {},
   "outputs": [
    {
     "data": {
      "image/png": "[encoded data removed]",
      "text/plain": [
       "<Figure size 576x1008 with 2 Axes>"
      ]
     },
     "metadata": {
      "needs_background": "light"
     },
     "output_type": "display_data"
    }
   ],
   "source": [
    "fig, ax = plt.subplots(2, figsize = (8,numberOfStops-2))\n",
    "ax[0].plot(best_outputs, 'green')\n",
    "ax[0].set_xlabel(\"Iteration\", fontsize = 10)\n",
    "ax[0].set_ylabel(\"Fitness\", fontsize = 10)\n",
    "ax[0].set_title(\"GA (Fitness vs # of iterations)   1 station\", fontsize = 12)\n",
    "\n",
    "ax[1].plot(running_time, best_outputs, 'red')\n",
    "ax[1].set_xlabel(\"Running time/s\", fontsize = 10)\n",
    "ax[1].set_ylabel(\"Fitness\", fontsize = 10)\n",
    "ax[1].set_title(\"GA (Fitness vs Running time)   1 station\", fontsize = 12)\n",
    "plt.show()"
   ]
  },
  {
   "cell_type": "code",
   "execution_count": 15,
   "metadata": {},
   "outputs": [
    {
     "data": {
      "text/html": [
       "<div style=\"width:100%;\"><div style=\"position:relative;width:100%;height:0;padding-bottom:60%;\"><span style=\"color:#565656\">Make this Notebook Trusted to load map: File -> Trust Notebook</span><iframe src=\"about:blank\" style=\"position:absolute;width:100%;height:100%;left:0;top:0;border:none !important;\" data-html=%3C%21DOCTYPE%20html%3E%0A%3Chead%3E%20%20%20%20%0A%20%20%20%20%3Cmeta%20http-equiv%3D%22content-type%22%20content%3D%22text/html%3B%20charset%3DUTF-8%22%20/%3E%0A%20%20%20%20%0A%20%20%20%20%20%20%20%20%3Cscript%3E%0A%20%20%20%20%20%20%20%20%20%20%20%20L_NO_TOUCH%20%3D%20false%3B%0A%20%20%20%20%20%20%20%20%20%20%20%20L_DISABLE_3D%20%3D%20false%3B%0A%20%20%20%20%20%20%20%20%3C/script%3E%0A%20%20%20%20%0A%20%20%20%20%3Cstyle%3Ehtml%2C%20body%20%7Bwidth%3A%20100%25%3Bheight%3A%20100%25%3Bmargin%3A%200%3Bpadding%3A%200%3B%7D%3C/style%3E%0A%20%20%20%20%3Cstyle%3E%23map%20%7Bposition%3Aabsolute%3Btop%3A0%3Bbottom%3A0%3Bright%3A0%3Bleft%3A0%3B%7D%3C/style%3E%0A%20%20%20%20%3Cscript%20src%3D%22https%3A//cdn.jsdelivr.net/npm/leaflet%401.6.0/dist/leaflet.js%22%3E%3C/script%3E%0A%20%20%20%20%3Cscript%20src%3D%22https%3A//code.jquery.com/jquery-1.12.4.min.js%22%3E%3C/script%3E%0A%20%20%20%20%3Cscript%20src%3D%22https%3A//maxcdn.bootstrapcdn.com/bootstrap/3.2.0/js/bootstrap.min.js%22%3E%3C/script%3E%0A%20%20%20%20%3Cscript%20src%3D%22https%3A//cdnjs.cloudflare.com/ajax/libs/Leaflet.awesome-markers/2.0.2/leaflet.awesome-markers.js%22%3E%3C/script%3E%0A%20%20%20%20%3Clink%20rel%3D%22stylesheet%22%20href%3D%22https%3A//cdn.jsdelivr.net/npm/leaflet%401.6.0/dist/leaflet.css%22/%3E%0A%20%20%20%20%3Clink%20rel%3D%22stylesheet%22%20href%3D%22https%3A//maxcdn.bootstrapcdn.com/bootstrap/3.2.0/css/bootstrap.min.css%22/%3E%0A%20%20%20%20%3Clink%20rel%3D%22stylesheet%22%20href%3D%22https%3A//maxcdn.bootstrapcdn.com/bootstrap/3.2.0/css/bootstrap-theme.min.css%22/%3E%0A%20%20%20%20%3Clink%20rel%3D%22stylesheet%22%20href%3D%22https%3A//maxcdn.bootstrapcdn.com/font-awesome/4.6.3/css/font-awesome.min.css%22/%3E%0A%20%20%20%20%3Clink%20rel%3D%22stylesheet%22%20href%3D%22https%3A//cdnjs.cloudflare.com/ajax/libs/Leaflet.awesome-markers/2.0.2/leaflet.awesome-markers.css%22/%3E%0A%20%20%20%20%3Clink%20rel%3D%22stylesheet%22%20href%3D%22https%3A//cdn.jsdelivr.net/gh/python-visualization/folium/folium/templates/leaflet.awesome.rotate.min.css%22/%3E%0A%20%20%20%20%0A%20%20%20%20%20%20%20%20%20%20%20%20%3Cmeta%20name%3D%22viewport%22%20content%3D%22width%3Ddevice-width%2C%0A%20%20%20%20%20%20%20%20%20%20%20%20%20%20%20%20initial-scale%3D1.0%2C%20maximum-scale%3D1.0%2C%20user-scalable%3Dno%22%20/%3E%0A%20%20%20%20%20%20%20%20%20%20%20%20%3Cstyle%3E%0A%20%20%20%20%20%20%20%20%20%20%20%20%20%20%20%20%23map_35b9420397a141f080695ebff6036418%20%7B%0A%20%20%20%20%20%20%20%20%20%20%20%20%20%20%20%20%20%20%20%20position%3A%20relative%3B%0A%20%20%20%20%20%20%20%20%20%20%20%20%20%20%20%20%20%20%20%20width%3A%20100.0%25%3B%0A%20%20%20%20%20%20%20%20%20%20%20%20%20%20%20%20%20%20%20%20height%3A%20100.0%25%3B%0A%20%20%20%20%20%20%20%20%20%20%20%20%20%20%20%20%20%20%20%20left%3A%200.0%25%3B%0A%20%20%20%20%20%20%20%20%20%20%20%20%20%20%20%20%20%20%20%20top%3A%200.0%25%3B%0A%20%20%20%20%20%20%20%20%20%20%20%20%20%20%20%20%7D%0A%20%20%20%20%20%20%20%20%20%20%20%20%3C/style%3E%0A%20%20%20%20%20%20%20%20%0A%20%20%20%20%3Cscript%20src%3D%22https%3A//cdn.jsdelivr.net/npm/leaflet-ant-path%401.1.2/dist/leaflet-ant-path.min.js%22%3E%3C/script%3E%0A%3C/head%3E%0A%3Cbody%3E%20%20%20%20%0A%20%20%20%20%0A%20%20%20%20%20%20%20%20%20%20%20%20%3Cdiv%20class%3D%22folium-map%22%20id%3D%22map_35b9420397a141f080695ebff6036418%22%20%3E%3C/div%3E%0A%20%20%20%20%20%20%20%20%0A%3C/body%3E%0A%3Cscript%3E%20%20%20%20%0A%20%20%20%20%0A%20%20%20%20%20%20%20%20%20%20%20%20var%20map_35b9420397a141f080695ebff6036418%20%3D%20L.map%28%0A%20%20%20%20%20%20%20%20%20%20%20%20%20%20%20%20%22map_35b9420397a141f080695ebff6036418%22%2C%0A%20%20%20%20%20%20%20%20%20%20%20%20%20%20%20%20%7B%0A%20%20%20%20%20%20%20%20%20%20%20%20%20%20%20%20%20%20%20%20center%3A%20%5B0%2C%200%5D%2C%0A%20%20%20%20%20%20%20%20%20%20%20%20%20%20%20%20%20%20%20%20crs%3A%20L.CRS.EPSG3857%2C%0A%20%20%20%20%20%20%20%20%20%20%20%20%20%20%20%20%20%20%20%20zoom%3A%201%2C%0A%20%20%20%20%20%20%20%20%20%20%20%20%20%20%20%20%20%20%20%20zoomControl%3A%20true%2C%0A%20%20%20%20%20%20%20%20%20%20%20%20%20%20%20%20%20%20%20%20preferCanvas%3A%20false%2C%0A%20%20%20%20%20%20%20%20%20%20%20%20%20%20%20%20%7D%0A%20%20%20%20%20%20%20%20%20%20%20%20%29%3B%0A%0A%20%20%20%20%20%20%20%20%20%20%20%20%0A%0A%20%20%20%20%20%20%20%20%0A%20%20%20%20%0A%20%20%20%20%20%20%20%20%20%20%20%20var%20tile_layer_b414b9cbaff5473bafcdc2867b5b7a5c%20%3D%20L.tileLayer%28%0A%20%20%20%20%20%20%20%20%20%20%20%20%20%20%20%20%22https%3A//%7Bs%7D.tile.openstreetmap.org/%7Bz%7D/%7Bx%7D/%7By%7D.png%22%2C%0A%20%20%20%20%20%20%20%20%20%20%20%20%20%20%20%20%7B%22attribution%22%3A%20%22Data%20by%20%5Cu0026copy%3B%20%5Cu003ca%20href%3D%5C%22http%3A//openstreetmap.org%5C%22%5Cu003eOpenStreetMap%5Cu003c/a%5Cu003e%2C%20under%20%5Cu003ca%20href%3D%5C%22http%3A//www.openstreetmap.org/copyright%5C%22%5Cu003eODbL%5Cu003c/a%5Cu003e.%22%2C%20%22detectRetina%22%3A%20false%2C%20%22maxNativeZoom%22%3A%2018%2C%20%22maxZoom%22%3A%2018%2C%20%22minZoom%22%3A%200%2C%20%22noWrap%22%3A%20false%2C%20%22opacity%22%3A%201%2C%20%22subdomains%22%3A%20%22abc%22%2C%20%22tms%22%3A%20false%7D%0A%20%20%20%20%20%20%20%20%20%20%20%20%29.addTo%28map_35b9420397a141f080695ebff6036418%29%3B%0A%20%20%20%20%20%20%20%20%0A%20%20%20%20%0A%20%20%20%20%20%20%20%20%20%20%20%20map_35b9420397a141f080695ebff6036418.fitBounds%28%0A%20%20%20%20%20%20%20%20%20%20%20%20%20%20%20%20%5B%5B%5B43.617461%2C%20-79.525739%5D%2C%20%5B43.637764%2C%20-79.535983%5D%5D%2C%20%5B%5B43.77646%2C%20-79.337698%5D%2C%20%5B43.734473%2C%20-79.258177%5D%5D%5D%2C%0A%20%20%20%20%20%20%20%20%20%20%20%20%20%20%20%20%7B%7D%0A%20%20%20%20%20%20%20%20%20%20%20%20%29%3B%0A%20%20%20%20%20%20%20%20%0A%20%20%20%20%0A%20%20%20%20%20%20%20%20%20%20%20%20var%20marker_cf1dbf1e865441d699bda080924c8383%20%3D%20L.marker%28%0A%20%20%20%20%20%20%20%20%20%20%20%20%20%20%20%20%5B43.669599%2C%20-79.389684%5D%2C%0A%20%20%20%20%20%20%20%20%20%20%20%20%20%20%20%20%7B%7D%0A%20%20%20%20%20%20%20%20%20%20%20%20%29.addTo%28map_35b9420397a141f080695ebff6036418%29%3B%0A%20%20%20%20%20%20%20%20%0A%20%20%20%20%0A%20%20%20%20%20%20%20%20%20%20%20%20var%20icon_2ac28d02780b49f9a06ca69a311b8a5e%20%3D%20L.AwesomeMarkers.icon%28%0A%20%20%20%20%20%20%20%20%20%20%20%20%20%20%20%20%7B%22extraClasses%22%3A%20%22fa-rotate-0%22%2C%20%22icon%22%3A%20%22info-sign%22%2C%20%22iconColor%22%3A%20%22white%22%2C%20%22markerColor%22%3A%20%22white%22%2C%20%22prefix%22%3A%20%22glyphicon%22%7D%0A%20%20%20%20%20%20%20%20%20%20%20%20%29%3B%0A%20%20%20%20%20%20%20%20%20%20%20%20marker_cf1dbf1e865441d699bda080924c8383.setIcon%28icon_2ac28d02780b49f9a06ca69a311b8a5e%29%3B%0A%20%20%20%20%20%20%20%20%0A%20%20%20%20%0A%20%20%20%20%20%20%20%20%20%20%20%20var%20marker_243809eb8416448d90f7787cdbb49b6a%20%3D%20L.marker%28%0A%20%20%20%20%20%20%20%20%20%20%20%20%20%20%20%20%5B43.669599%2C%20-79.389684%5D%2C%0A%20%20%20%20%20%20%20%20%20%20%20%20%20%20%20%20%7B%7D%0A%20%20%20%20%20%20%20%20%20%20%20%20%29.addTo%28map_35b9420397a141f080695ebff6036418%29%3B%0A%20%20%20%20%20%20%20%20%0A%20%20%20%20%0A%20%20%20%20%20%20%20%20%20%20%20%20var%20div_icon_1f5daf65e82e4dafafc33dc21132d096%20%3D%20L.divIcon%28%7B%22className%22%3A%20%22empty%22%2C%20%22html%22%3A%20%22%5Cu003cspan%20class%3D%5C%22fa-stack%20%5C%22%20style%3D%5C%22font-size%3A%2012pt%5C%22%20%5Cu003e%5Cn%20%20%20%20%20%20%20%20%20%20%20%20%20%20%20%20%20%20%20%20%5Cu003cspan%20class%3D%5C%22fa%20fa-circle-o%20fa-stack-2x%5C%22%20style%3D%5C%22color%20%3A%20blue%5C%22%5Cu003e%5Cu003c/span%5Cu003e%5Cn%20%20%20%20%20%20%20%20%20%20%20%20%20%20%20%20%20%20%20%20%5Cu003cstrong%20class%3D%5C%22fa-stack-1x%5C%22%5Cu003e%5Cn%20%20%20%20%20%20%20%20%20%20%20%20%20%20%20%20%20%20%20%20%20%20%20%20%20%207%20%20%5Cn%20%20%20%20%20%20%20%20%20%20%20%20%20%20%20%20%20%20%20%20%5Cu003c/strong%5Cu003e%5Cn%20%20%20%20%20%20%20%20%20%20%20%20%20%20%20%20%5Cu003c/span%5Cu003e%22%2C%20%22iconAnchor%22%3A%20%5B12%2C%2040%5D%2C%20%22iconSize%22%3A%20%5B150%2C%2036%5D%7D%29%3B%0A%20%20%20%20%20%20%20%20%20%20%20%20marker_243809eb8416448d90f7787cdbb49b6a.setIcon%28div_icon_1f5daf65e82e4dafafc33dc21132d096%29%3B%0A%20%20%20%20%20%20%20%20%0A%20%20%20%20%0A%20%20%20%20%20%20%20%20%20%20%20%20var%20marker_a3539d11d2694516b836016acd3e7984%20%3D%20L.marker%28%0A%20%20%20%20%20%20%20%20%20%20%20%20%20%20%20%20%5B43.768440136562106%2C%20-79.37951694547007%5D%2C%0A%20%20%20%20%20%20%20%20%20%20%20%20%20%20%20%20%7B%7D%0A%20%20%20%20%20%20%20%20%20%20%20%20%29.addTo%28map_35b9420397a141f080695ebff6036418%29%3B%0A%20%20%20%20%20%20%20%20%0A%20%20%20%20%0A%20%20%20%20%20%20%20%20%20%20%20%20var%20icon_07aa654012174ff1a2d8c5a9d8618e96%20%3D%20L.AwesomeMarkers.icon%28%0A%20%20%20%20%20%20%20%20%20%20%20%20%20%20%20%20%7B%22extraClasses%22%3A%20%22fa-rotate-0%22%2C%20%22icon%22%3A%20%22info-sign%22%2C%20%22iconColor%22%3A%20%22white%22%2C%20%22markerColor%22%3A%20%22white%22%2C%20%22prefix%22%3A%20%22glyphicon%22%7D%0A%20%20%20%20%20%20%20%20%20%20%20%20%29%3B%0A%20%20%20%20%20%20%20%20%20%20%20%20marker_a3539d11d2694516b836016acd3e7984.setIcon%28icon_07aa654012174ff1a2d8c5a9d8618e96%29%3B%0A%20%20%20%20%20%20%20%20%0A%20%20%20%20%0A%20%20%20%20%20%20%20%20%20%20%20%20var%20marker_b1e0fc0f8a48464f9d9f3d153421cc7e%20%3D%20L.marker%28%0A%20%20%20%20%20%20%20%20%20%20%20%20%20%20%20%20%5B43.768440136562106%2C%20-79.37951694547007%5D%2C%0A%20%20%20%20%20%20%20%20%20%20%20%20%20%20%20%20%7B%7D%0A%20%20%20%20%20%20%20%20%20%20%20%20%29.addTo%28map_35b9420397a141f080695ebff6036418%29%3B%0A%20%20%20%20%20%20%20%20%0A%20%20%20%20%0A%20%20%20%20%20%20%20%20%20%20%20%20var%20div_icon_561eb80ff33f4239a640b5923d2d73e2%20%3D%20L.divIcon%28%7B%22className%22%3A%20%22empty%22%2C%20%22html%22%3A%20%22%5Cu003cspan%20class%3D%5C%22fa-stack%20%5C%22%20style%3D%5C%22font-size%3A%2012pt%5C%22%20%5Cu003e%5Cn%20%20%20%20%20%20%20%20%20%20%20%20%20%20%20%20%20%20%20%20%5Cu003cspan%20class%3D%5C%22fa%20fa-circle-o%20fa-stack-2x%5C%22%20style%3D%5C%22color%20%3A%20blue%5C%22%5Cu003e%5Cu003c/span%5Cu003e%5Cn%20%20%20%20%20%20%20%20%20%20%20%20%20%20%20%20%20%20%20%20%5Cu003cstrong%20class%3D%5C%22fa-stack-1x%5C%22%5Cu003e%5Cn%20%20%20%20%20%20%20%20%20%20%20%20%20%20%20%20%20%20%20%20%20%20%20%20%2016%20%20%5Cn%20%20%20%20%20%20%20%20%20%20%20%20%20%20%20%20%20%20%20%20%5Cu003c/strong%5Cu003e%5Cn%20%20%20%20%20%20%20%20%20%20%20%20%20%20%20%20%5Cu003c/span%5Cu003e%22%2C%20%22iconAnchor%22%3A%20%5B12%2C%2040%5D%2C%20%22iconSize%22%3A%20%5B150%2C%2036%5D%7D%29%3B%0A%20%20%20%20%20%20%20%20%20%20%20%20marker_b1e0fc0f8a48464f9d9f3d153421cc7e.setIcon%28div_icon_561eb80ff33f4239a640b5923d2d73e2%29%3B%0A%20%20%20%20%20%20%20%20%0A%20%20%20%20%0A%20%20%20%20%20%20%20%20%20%20%20%20var%20marker_f518335560c849ee9e8bd5f1288372f0%20%3D%20L.marker%28%0A%20%20%20%20%20%20%20%20%20%20%20%20%20%20%20%20%5B43.673509%2C%20-79.36903055286996%5D%2C%0A%20%20%20%20%20%20%20%20%20%20%20%20%20%20%20%20%7B%7D%0A%20%20%20%20%20%20%20%20%20%20%20%20%29.addTo%28map_35b9420397a141f080695ebff6036418%29%3B%0A%20%20%20%20%20%20%20%20%0A%20%20%20%20%0A%20%20%20%20%20%20%20%20%20%20%20%20var%20icon_936b2f91c685440eaf4c68b1272a9671%20%3D%20L.AwesomeMarkers.icon%28%0A%20%20%20%20%20%20%20%20%20%20%20%20%20%20%20%20%7B%22extraClasses%22%3A%20%22fa-rotate-0%22%2C%20%22icon%22%3A%20%22info-sign%22%2C%20%22iconColor%22%3A%20%22white%22%2C%20%22markerColor%22%3A%20%22white%22%2C%20%22prefix%22%3A%20%22glyphicon%22%7D%0A%20%20%20%20%20%20%20%20%20%20%20%20%29%3B%0A%20%20%20%20%20%20%20%20%20%20%20%20marker_f518335560c849ee9e8bd5f1288372f0.setIcon%28icon_936b2f91c685440eaf4c68b1272a9671%29%3B%0A%20%20%20%20%20%20%20%20%0A%20%20%20%20%0A%20%20%20%20%20%20%20%20%20%20%20%20var%20marker_914dfb617ab840a9b14eb352e3606793%20%3D%20L.marker%28%0A%20%20%20%20%20%20%20%20%20%20%20%20%20%20%20%20%5B43.673509%2C%20-79.36903055286996%5D%2C%0A%20%20%20%20%20%20%20%20%20%20%20%20%20%20%20%20%7B%7D%0A%20%20%20%20%20%20%20%20%20%20%20%20%29.addTo%28map_35b9420397a141f080695ebff6036418%29%3B%0A%20%20%20%20%20%20%20%20%0A%20%20%20%20%0A%20%20%20%20%20%20%20%20%20%20%20%20var%20div_icon_dd24e61afb5b4ae6a13e81e95bb3a0e4%20%3D%20L.divIcon%28%7B%22className%22%3A%20%22empty%22%2C%20%22html%22%3A%20%22%5Cu003cspan%20class%3D%5C%22fa-stack%20%5C%22%20style%3D%5C%22font-size%3A%2012pt%5C%22%20%5Cu003e%5Cn%20%20%20%20%20%20%20%20%20%20%20%20%20%20%20%20%20%20%20%20%5Cu003cspan%20class%3D%5C%22fa%20fa-circle-o%20fa-stack-2x%5C%22%20style%3D%5C%22color%20%3A%20blue%5C%22%5Cu003e%5Cu003c/span%5Cu003e%5Cn%20%20%20%20%20%20%20%20%20%20%20%20%20%20%20%20%20%20%20%20%5Cu003cstrong%20class%3D%5C%22fa-stack-1x%5C%22%5Cu003e%5Cn%20%20%20%20%20%20%20%20%20%20%20%20%20%20%20%20%20%20%20%20%20%20%20%20%2011%20%20%5Cn%20%20%20%20%20%20%20%20%20%20%20%20%20%20%20%20%20%20%20%20%5Cu003c/strong%5Cu003e%5Cn%20%20%20%20%20%20%20%20%20%20%20%20%20%20%20%20%5Cu003c/span%5Cu003e%22%2C%20%22iconAnchor%22%3A%20%5B12%2C%2040%5D%2C%20%22iconSize%22%3A%20%5B150%2C%2036%5D%7D%29%3B%0A%20%20%20%20%20%20%20%20%20%20%20%20marker_914dfb617ab840a9b14eb352e3606793.setIcon%28div_icon_dd24e61afb5b4ae6a13e81e95bb3a0e4%29%3B%0A%20%20%20%20%20%20%20%20%0A%20%20%20%20%0A%20%20%20%20%20%20%20%20%20%20%20%20var%20marker_ea0c2a7b31bd4855b5446378d83f1785%20%3D%20L.marker%28%0A%20%20%20%20%20%20%20%20%20%20%20%20%20%20%20%20%5B43.6634446%2C%20-79.418063115%5D%2C%0A%20%20%20%20%20%20%20%20%20%20%20%20%20%20%20%20%7B%7D%0A%20%20%20%20%20%20%20%20%20%20%20%20%29.addTo%28map_35b9420397a141f080695ebff6036418%29%3B%0A%20%20%20%20%20%20%20%20%0A%20%20%20%20%0A%20%20%20%20%20%20%20%20%20%20%20%20var%20icon_165b1cb6c36140539e5de8f0c8650531%20%3D%20L.AwesomeMarkers.icon%28%0A%20%20%20%20%20%20%20%20%20%20%20%20%20%20%20%20%7B%22extraClasses%22%3A%20%22fa-rotate-0%22%2C%20%22icon%22%3A%20%22info-sign%22%2C%20%22iconColor%22%3A%20%22white%22%2C%20%22markerColor%22%3A%20%22white%22%2C%20%22prefix%22%3A%20%22glyphicon%22%7D%0A%20%20%20%20%20%20%20%20%20%20%20%20%29%3B%0A%20%20%20%20%20%20%20%20%20%20%20%20marker_ea0c2a7b31bd4855b5446378d83f1785.setIcon%28icon_165b1cb6c36140539e5de8f0c8650531%29%3B%0A%20%20%20%20%20%20%20%20%0A%20%20%20%20%0A%20%20%20%20%20%20%20%20%20%20%20%20var%20marker_5213d662d76b4119910759cc4311d9c1%20%3D%20L.marker%28%0A%20%20%20%20%20%20%20%20%20%20%20%20%20%20%20%20%5B43.6634446%2C%20-79.418063115%5D%2C%0A%20%20%20%20%20%20%20%20%20%20%20%20%20%20%20%20%7B%7D%0A%20%20%20%20%20%20%20%20%20%20%20%20%29.addTo%28map_35b9420397a141f080695ebff6036418%29%3B%0A%20%20%20%20%20%20%20%20%0A%20%20%20%20%0A%20%20%20%20%20%20%20%20%20%20%20%20var%20div_icon_ee857fe187ba41629e08b47a4a6169b9%20%3D%20L.divIcon%28%7B%22className%22%3A%20%22empty%22%2C%20%22html%22%3A%20%22%5Cu003cspan%20class%3D%5C%22fa-stack%20%5C%22%20style%3D%5C%22font-size%3A%2012pt%5C%22%20%5Cu003e%5Cn%20%20%20%20%20%20%20%20%20%20%20%20%20%20%20%20%20%20%20%20%5Cu003cspan%20class%3D%5C%22fa%20fa-circle-o%20fa-stack-2x%5C%22%20style%3D%5C%22color%20%3A%20blue%5C%22%5Cu003e%5Cu003c/span%5Cu003e%5Cn%20%20%20%20%20%20%20%20%20%20%20%20%20%20%20%20%20%20%20%20%5Cu003cstrong%20class%3D%5C%22fa-stack-1x%5C%22%5Cu003e%5Cn%20%20%20%20%20%20%20%20%20%20%20%20%20%20%20%20%20%20%20%20%20%20%20%20%20%208%20%20%5Cn%20%20%20%20%20%20%20%20%20%20%20%20%20%20%20%20%20%20%20%20%5Cu003c/strong%5Cu003e%5Cn%20%20%20%20%20%20%20%20%20%20%20%20%20%20%20%20%5Cu003c/span%5Cu003e%22%2C%20%22iconAnchor%22%3A%20%5B12%2C%2040%5D%2C%20%22iconSize%22%3A%20%5B150%2C%2036%5D%7D%29%3B%0A%20%20%20%20%20%20%20%20%20%20%20%20marker_5213d662d76b4119910759cc4311d9c1.setIcon%28div_icon_ee857fe187ba41629e08b47a4a6169b9%29%3B%0A%20%20%20%20%20%20%20%20%0A%20%20%20%20%0A%20%20%20%20%20%20%20%20%20%20%20%20var%20marker_e6bf4ef74aee4d1283ed57fdac33ba18%20%3D%20L.marker%28%0A%20%20%20%20%20%20%20%20%20%20%20%20%20%20%20%20%5B43.6832448%2C%20-79.323685%5D%2C%0A%20%20%20%20%20%20%20%20%20%20%20%20%20%20%20%20%7B%7D%0A%20%20%20%20%20%20%20%20%20%20%20%20%29.addTo%28map_35b9420397a141f080695ebff6036418%29%3B%0A%20%20%20%20%20%20%20%20%0A%20%20%20%20%0A%20%20%20%20%20%20%20%20%20%20%20%20var%20icon_68c9bec4ca6947df99dcb6461c847cad%20%3D%20L.AwesomeMarkers.icon%28%0A%20%20%20%20%20%20%20%20%20%20%20%20%20%20%20%20%7B%22extraClasses%22%3A%20%22fa-rotate-0%22%2C%20%22icon%22%3A%20%22info-sign%22%2C%20%22iconColor%22%3A%20%22white%22%2C%20%22markerColor%22%3A%20%22white%22%2C%20%22prefix%22%3A%20%22glyphicon%22%7D%0A%20%20%20%20%20%20%20%20%20%20%20%20%29%3B%0A%20%20%20%20%20%20%20%20%20%20%20%20marker_e6bf4ef74aee4d1283ed57fdac33ba18.setIcon%28icon_68c9bec4ca6947df99dcb6461c847cad%29%3B%0A%20%20%20%20%20%20%20%20%0A%20%20%20%20%0A%20%20%20%20%20%20%20%20%20%20%20%20var%20marker_a6ca94d9ea1a4e4d9ffbf2f9d269be87%20%3D%20L.marker%28%0A%20%20%20%20%20%20%20%20%20%20%20%20%20%20%20%20%5B43.6832448%2C%20-79.323685%5D%2C%0A%20%20%20%20%20%20%20%20%20%20%20%20%20%20%20%20%7B%7D%0A%20%20%20%20%20%20%20%20%20%20%20%20%29.addTo%28map_35b9420397a141f080695ebff6036418%29%3B%0A%20%20%20%20%20%20%20%20%0A%20%20%20%20%0A%20%20%20%20%20%20%20%20%20%20%20%20var%20div_icon_8ed30b49f8da49c48acae6c8d60922de%20%3D%20L.divIcon%28%7B%22className%22%3A%20%22empty%22%2C%20%22html%22%3A%20%22%5Cu003cspan%20class%3D%5C%22fa-stack%20%5C%22%20style%3D%5C%22font-size%3A%2012pt%5C%22%20%5Cu003e%5Cn%20%20%20%20%20%20%20%20%20%20%20%20%20%20%20%20%20%20%20%20%5Cu003cspan%20class%3D%5C%22fa%20fa-circle-o%20fa-stack-2x%5C%22%20style%3D%5C%22color%20%3A%20blue%5C%22%5Cu003e%5Cu003c/span%5Cu003e%5Cn%20%20%20%20%20%20%20%20%20%20%20%20%20%20%20%20%20%20%20%20%5Cu003cstrong%20class%3D%5C%22fa-stack-1x%5C%22%5Cu003e%5Cn%20%20%20%20%20%20%20%20%20%20%20%20%20%20%20%20%20%20%20%20%20%20%20%20%2013%20%20%5Cn%20%20%20%20%20%20%20%20%20%20%20%20%20%20%20%20%20%20%20%20%5Cu003c/strong%5Cu003e%5Cn%20%20%20%20%20%20%20%20%20%20%20%20%20%20%20%20%5Cu003c/span%5Cu003e%22%2C%20%22iconAnchor%22%3A%20%5B12%2C%2040%5D%2C%20%22iconSize%22%3A%20%5B150%2C%2036%5D%7D%29%3B%0A%20%20%20%20%20%20%20%20%20%20%20%20marker_a6ca94d9ea1a4e4d9ffbf2f9d269be87.setIcon%28div_icon_8ed30b49f8da49c48acae6c8d60922de%29%3B%0A%20%20%20%20%20%20%20%20%0A%20%20%20%20%0A%20%20%20%20%20%20%20%20%20%20%20%20var%20marker_517505e0cd564ae8a3d8b99dfa8d1a9d%20%3D%20L.marker%28%0A%20%20%20%20%20%20%20%20%20%20%20%20%20%20%20%20%5B43.775110311583354%2C%20-79.34695132329497%5D%2C%0A%20%20%20%20%20%20%20%20%20%20%20%20%20%20%20%20%7B%7D%0A%20%20%20%20%20%20%20%20%20%20%20%20%29.addTo%28map_35b9420397a141f080695ebff6036418%29%3B%0A%20%20%20%20%20%20%20%20%0A%20%20%20%20%0A%20%20%20%20%20%20%20%20%20%20%20%20var%20icon_0d4151eddf424b25ae8151cb35eaecf2%20%3D%20L.AwesomeMarkers.icon%28%0A%20%20%20%20%20%20%20%20%20%20%20%20%20%20%20%20%7B%22extraClasses%22%3A%20%22fa-rotate-0%22%2C%20%22icon%22%3A%20%22info-sign%22%2C%20%22iconColor%22%3A%20%22white%22%2C%20%22markerColor%22%3A%20%22white%22%2C%20%22prefix%22%3A%20%22glyphicon%22%7D%0A%20%20%20%20%20%20%20%20%20%20%20%20%29%3B%0A%20%20%20%20%20%20%20%20%20%20%20%20marker_517505e0cd564ae8a3d8b99dfa8d1a9d.setIcon%28icon_0d4151eddf424b25ae8151cb35eaecf2%29%3B%0A%20%20%20%20%20%20%20%20%0A%20%20%20%20%0A%20%20%20%20%20%20%20%20%20%20%20%20var%20marker_a64e3c1aa60549aca264d5f9993992e7%20%3D%20L.marker%28%0A%20%20%20%20%20%20%20%20%20%20%20%20%20%20%20%20%5B43.775110311583354%2C%20-79.34695132329497%5D%2C%0A%20%20%20%20%20%20%20%20%20%20%20%20%20%20%20%20%7B%7D%0A%20%20%20%20%20%20%20%20%20%20%20%20%29.addTo%28map_35b9420397a141f080695ebff6036418%29%3B%0A%20%20%20%20%20%20%20%20%0A%20%20%20%20%0A%20%20%20%20%20%20%20%20%20%20%20%20var%20div_icon_2a89a10fe09b4aefb13c0dff12e0f620%20%3D%20L.divIcon%28%7B%22className%22%3A%20%22empty%22%2C%20%22html%22%3A%20%22%5Cu003cspan%20class%3D%5C%22fa-stack%20%5C%22%20style%3D%5C%22font-size%3A%2012pt%5C%22%20%5Cu003e%5Cn%20%20%20%20%20%20%20%20%20%20%20%20%20%20%20%20%20%20%20%20%5Cu003cspan%20class%3D%5C%22fa%20fa-circle-o%20fa-stack-2x%5C%22%20style%3D%5C%22color%20%3A%20blue%5C%22%5Cu003e%5Cu003c/span%5Cu003e%5Cn%20%20%20%20%20%20%20%20%20%20%20%20%20%20%20%20%20%20%20%20%5Cu003cstrong%20class%3D%5C%22fa-stack-1x%5C%22%5Cu003e%5Cn%20%20%20%20%20%20%20%20%20%20%20%20%20%20%20%20%20%20%20%20%20%20%20%20%2015%20%20%5Cn%20%20%20%20%20%20%20%20%20%20%20%20%20%20%20%20%20%20%20%20%5Cu003c/strong%5Cu003e%5Cn%20%20%20%20%20%20%20%20%20%20%20%20%20%20%20%20%5Cu003c/span%5Cu003e%22%2C%20%22iconAnchor%22%3A%20%5B12%2C%2040%5D%2C%20%22iconSize%22%3A%20%5B150%2C%2036%5D%7D%29%3B%0A%20%20%20%20%20%20%20%20%20%20%20%20marker_a64e3c1aa60549aca264d5f9993992e7.setIcon%28div_icon_2a89a10fe09b4aefb13c0dff12e0f620%29%3B%0A%20%20%20%20%20%20%20%20%0A%20%20%20%20%0A%20%20%20%20%20%20%20%20%20%20%20%20var%20marker_d27fa536fc494f3caee285acfa0cb697%20%3D%20L.marker%28%0A%20%20%20%20%20%20%20%20%20%20%20%20%20%20%20%20%5B43.7506433%2C%20-79.4626837%5D%2C%0A%20%20%20%20%20%20%20%20%20%20%20%20%20%20%20%20%7B%7D%0A%20%20%20%20%20%20%20%20%20%20%20%20%29.addTo%28map_35b9420397a141f080695ebff6036418%29%3B%0A%20%20%20%20%20%20%20%20%0A%20%20%20%20%0A%20%20%20%20%20%20%20%20%20%20%20%20var%20icon_96e202fc53c142feac7dcf553a3b7835%20%3D%20L.AwesomeMarkers.icon%28%0A%20%20%20%20%20%20%20%20%20%20%20%20%20%20%20%20%7B%22extraClasses%22%3A%20%22fa-rotate-0%22%2C%20%22icon%22%3A%20%22info-sign%22%2C%20%22iconColor%22%3A%20%22white%22%2C%20%22markerColor%22%3A%20%22white%22%2C%20%22prefix%22%3A%20%22glyphicon%22%7D%0A%20%20%20%20%20%20%20%20%20%20%20%20%29%3B%0A%20%20%20%20%20%20%20%20%20%20%20%20marker_d27fa536fc494f3caee285acfa0cb697.setIcon%28icon_96e202fc53c142feac7dcf553a3b7835%29%3B%0A%20%20%20%20%20%20%20%20%0A%20%20%20%20%0A%20%20%20%20%20%20%20%20%20%20%20%20var%20marker_b174f8c9444b4df48c70269780fe2f87%20%3D%20L.marker%28%0A%20%20%20%20%20%20%20%20%20%20%20%20%20%20%20%20%5B43.7506433%2C%20-79.4626837%5D%2C%0A%20%20%20%20%20%20%20%20%20%20%20%20%20%20%20%20%7B%7D%0A%20%20%20%20%20%20%20%20%20%20%20%20%29.addTo%28map_35b9420397a141f080695ebff6036418%29%3B%0A%20%20%20%20%20%20%20%20%0A%20%20%20%20%0A%20%20%20%20%20%20%20%20%20%20%20%20var%20div_icon_a22ff6abc53c45348f4375fa9248200d%20%3D%20L.divIcon%28%7B%22className%22%3A%20%22empty%22%2C%20%22html%22%3A%20%22%5Cu003cspan%20class%3D%5C%22fa-stack%20%5C%22%20style%3D%5C%22font-size%3A%2012pt%5C%22%20%5Cu003e%5Cn%20%20%20%20%20%20%20%20%20%20%20%20%20%20%20%20%20%20%20%20%5Cu003cspan%20class%3D%5C%22fa%20fa-circle-o%20fa-stack-2x%5C%22%20style%3D%5C%22color%20%3A%20blue%5C%22%5Cu003e%5Cu003c/span%5Cu003e%5Cn%20%20%20%20%20%20%20%20%20%20%20%20%20%20%20%20%20%20%20%20%5Cu003cstrong%20class%3D%5C%22fa-stack-1x%5C%22%5Cu003e%5Cn%20%20%20%20%20%20%20%20%20%20%20%20%20%20%20%20%20%20%20%20%20%20%20%20%20%202%20%20%5Cn%20%20%20%20%20%20%20%20%20%20%20%20%20%20%20%20%20%20%20%20%5Cu003c/strong%5Cu003e%5Cn%20%20%20%20%20%20%20%20%20%20%20%20%20%20%20%20%5Cu003c/span%5Cu003e%22%2C%20%22iconAnchor%22%3A%20%5B12%2C%2040%5D%2C%20%22iconSize%22%3A%20%5B150%2C%2036%5D%7D%29%3B%0A%20%20%20%20%20%20%20%20%20%20%20%20marker_b174f8c9444b4df48c70269780fe2f87.setIcon%28div_icon_a22ff6abc53c45348f4375fa9248200d%29%3B%0A%20%20%20%20%20%20%20%20%0A%20%20%20%20%0A%20%20%20%20%20%20%20%20%20%20%20%20var%20marker_765124d522eb488cbc4cfcb577ab7896%20%3D%20L.marker%28%0A%20%20%20%20%20%20%20%20%20%20%20%20%20%20%20%20%5B43.656349%2C%20-79.380986%5D%2C%0A%20%20%20%20%20%20%20%20%20%20%20%20%20%20%20%20%7B%7D%0A%20%20%20%20%20%20%20%20%20%20%20%20%29.addTo%28map_35b9420397a141f080695ebff6036418%29%3B%0A%20%20%20%20%20%20%20%20%0A%20%20%20%20%0A%20%20%20%20%20%20%20%20%20%20%20%20var%20icon_37d767a71cc04f07948bf218e99e8aef%20%3D%20L.AwesomeMarkers.icon%28%0A%20%20%20%20%20%20%20%20%20%20%20%20%20%20%20%20%7B%22extraClasses%22%3A%20%22fa-rotate-0%22%2C%20%22icon%22%3A%20%22info-sign%22%2C%20%22iconColor%22%3A%20%22white%22%2C%20%22markerColor%22%3A%20%22white%22%2C%20%22prefix%22%3A%20%22glyphicon%22%7D%0A%20%20%20%20%20%20%20%20%20%20%20%20%29%3B%0A%20%20%20%20%20%20%20%20%20%20%20%20marker_765124d522eb488cbc4cfcb577ab7896.setIcon%28icon_37d767a71cc04f07948bf218e99e8aef%29%3B%0A%20%20%20%20%20%20%20%20%0A%20%20%20%20%0A%20%20%20%20%20%20%20%20%20%20%20%20var%20marker_3f4d3a5d359041e7b272e33405f6962a%20%3D%20L.marker%28%0A%20%20%20%20%20%20%20%20%20%20%20%20%20%20%20%20%5B43.656349%2C%20-79.380986%5D%2C%0A%20%20%20%20%20%20%20%20%20%20%20%20%20%20%20%20%7B%7D%0A%20%20%20%20%20%20%20%20%20%20%20%20%29.addTo%28map_35b9420397a141f080695ebff6036418%29%3B%0A%20%20%20%20%20%20%20%20%0A%20%20%20%20%0A%20%20%20%20%20%20%20%20%20%20%20%20var%20div_icon_4f1ae5786e6b4c7c82496c5330a1c9b2%20%3D%20L.divIcon%28%7B%22className%22%3A%20%22empty%22%2C%20%22html%22%3A%20%22%5Cu003cspan%20class%3D%5C%22fa-stack%20%5C%22%20style%3D%5C%22font-size%3A%2012pt%5C%22%20%5Cu003e%5Cn%20%20%20%20%20%20%20%20%20%20%20%20%20%20%20%20%20%20%20%20%5Cu003cspan%20class%3D%5C%22fa%20fa-circle-o%20fa-stack-2x%5C%22%20style%3D%5C%22color%20%3A%20blue%5C%22%5Cu003e%5Cu003c/span%5Cu003e%5Cn%20%20%20%20%20%20%20%20%20%20%20%20%20%20%20%20%20%20%20%20%5Cu003cstrong%20class%3D%5C%22fa-stack-1x%5C%22%5Cu003e%5Cn%20%20%20%20%20%20%20%20%20%20%20%20%20%20%20%20%20%20%20%20%20%20%20%20%20%206%20%20%5Cn%20%20%20%20%20%20%20%20%20%20%20%20%20%20%20%20%20%20%20%20%5Cu003c/strong%5Cu003e%5Cn%20%20%20%20%20%20%20%20%20%20%20%20%20%20%20%20%5Cu003c/span%5Cu003e%22%2C%20%22iconAnchor%22%3A%20%5B12%2C%2040%5D%2C%20%22iconSize%22%3A%20%5B150%2C%2036%5D%7D%29%3B%0A%20%20%20%20%20%20%20%20%20%20%20%20marker_3f4d3a5d359041e7b272e33405f6962a.setIcon%28div_icon_4f1ae5786e6b4c7c82496c5330a1c9b2%29%3B%0A%20%20%20%20%20%20%20%20%0A%20%20%20%20%0A%20%20%20%20%20%20%20%20%20%20%20%20var%20marker_974cbba548674ed89b112272713896e6%20%3D%20L.marker%28%0A%20%20%20%20%20%20%20%20%20%20%20%20%20%20%20%20%5B43.6747046%2C%20-79.406983%5D%2C%0A%20%20%20%20%20%20%20%20%20%20%20%20%20%20%20%20%7B%7D%0A%20%20%20%20%20%20%20%20%20%20%20%20%29.addTo%28map_35b9420397a141f080695ebff6036418%29%3B%0A%20%20%20%20%20%20%20%20%0A%20%20%20%20%0A%20%20%20%20%20%20%20%20%20%20%20%20var%20icon_305deb78570c49a38bae24810e3e44ef%20%3D%20L.AwesomeMarkers.icon%28%0A%20%20%20%20%20%20%20%20%20%20%20%20%20%20%20%20%7B%22extraClasses%22%3A%20%22fa-rotate-0%22%2C%20%22icon%22%3A%20%22info-sign%22%2C%20%22iconColor%22%3A%20%22white%22%2C%20%22markerColor%22%3A%20%22white%22%2C%20%22prefix%22%3A%20%22glyphicon%22%7D%0A%20%20%20%20%20%20%20%20%20%20%20%20%29%3B%0A%20%20%20%20%20%20%20%20%20%20%20%20marker_974cbba548674ed89b112272713896e6.setIcon%28icon_305deb78570c49a38bae24810e3e44ef%29%3B%0A%20%20%20%20%20%20%20%20%0A%20%20%20%20%0A%20%20%20%20%20%20%20%20%20%20%20%20var%20marker_32737e4c94c145309d5afc5873e671c7%20%3D%20L.marker%28%0A%20%20%20%20%20%20%20%20%20%20%20%20%20%20%20%20%5B43.6747046%2C%20-79.406983%5D%2C%0A%20%20%20%20%20%20%20%20%20%20%20%20%20%20%20%20%7B%7D%0A%20%20%20%20%20%20%20%20%20%20%20%20%29.addTo%28map_35b9420397a141f080695ebff6036418%29%3B%0A%20%20%20%20%20%20%20%20%0A%20%20%20%20%0A%20%20%20%20%20%20%20%20%20%20%20%20var%20div_icon_6a0bad71bac24517863d70e64199d06e%20%3D%20L.divIcon%28%7B%22className%22%3A%20%22empty%22%2C%20%22html%22%3A%20%22%5Cu003cspan%20class%3D%5C%22fa-stack%20%5C%22%20style%3D%5C%22font-size%3A%2012pt%5C%22%20%5Cu003e%5Cn%20%20%20%20%20%20%20%20%20%20%20%20%20%20%20%20%20%20%20%20%5Cu003cspan%20class%3D%5C%22fa%20fa-circle-o%20fa-stack-2x%5C%22%20style%3D%5C%22color%20%3A%20blue%5C%22%5Cu003e%5Cu003c/span%5Cu003e%5Cn%20%20%20%20%20%20%20%20%20%20%20%20%20%20%20%20%20%20%20%20%5Cu003cstrong%20class%3D%5C%22fa-stack-1x%5C%22%5Cu003e%5Cn%20%20%20%20%20%20%20%20%20%20%20%20%20%20%20%20%20%20%20%20%20%20%20%20%20%209%20%20%5Cn%20%20%20%20%20%20%20%20%20%20%20%20%20%20%20%20%20%20%20%20%5Cu003c/strong%5Cu003e%5Cn%20%20%20%20%20%20%20%20%20%20%20%20%20%20%20%20%5Cu003c/span%5Cu003e%22%2C%20%22iconAnchor%22%3A%20%5B12%2C%2040%5D%2C%20%22iconSize%22%3A%20%5B150%2C%2036%5D%7D%29%3B%0A%20%20%20%20%20%20%20%20%20%20%20%20marker_32737e4c94c145309d5afc5873e671c7.setIcon%28div_icon_6a0bad71bac24517863d70e64199d06e%29%3B%0A%20%20%20%20%20%20%20%20%0A%20%20%20%20%0A%20%20%20%20%20%20%20%20%20%20%20%20var%20marker_1e852b03d7c84125951dd3c2b36e89e7%20%3D%20L.marker%28%0A%20%20%20%20%20%20%20%20%20%20%20%20%20%20%20%20%5B43.7801533%2C%20-79.4158201%5D%2C%0A%20%20%20%20%20%20%20%20%20%20%20%20%20%20%20%20%7B%7D%0A%20%20%20%20%20%20%20%20%20%20%20%20%29.addTo%28map_35b9420397a141f080695ebff6036418%29%3B%0A%20%20%20%20%20%20%20%20%0A%20%20%20%20%0A%20%20%20%20%20%20%20%20%20%20%20%20var%20icon_ac8c90209cb9421a9de64bddfa48d083%20%3D%20L.AwesomeMarkers.icon%28%0A%20%20%20%20%20%20%20%20%20%20%20%20%20%20%20%20%7B%22extraClasses%22%3A%20%22fa-rotate-0%22%2C%20%22icon%22%3A%20%22info-sign%22%2C%20%22iconColor%22%3A%20%22white%22%2C%20%22markerColor%22%3A%20%22white%22%2C%20%22prefix%22%3A%20%22glyphicon%22%7D%0A%20%20%20%20%20%20%20%20%20%20%20%20%29%3B%0A%20%20%20%20%20%20%20%20%20%20%20%20marker_1e852b03d7c84125951dd3c2b36e89e7.setIcon%28icon_ac8c90209cb9421a9de64bddfa48d083%29%3B%0A%20%20%20%20%20%20%20%20%0A%20%20%20%20%0A%20%20%20%20%20%20%20%20%20%20%20%20var%20marker_b95c8c3c8bf54aa2830435eb2b6d0910%20%3D%20L.marker%28%0A%20%20%20%20%20%20%20%20%20%20%20%20%20%20%20%20%5B43.7801533%2C%20-79.4158201%5D%2C%0A%20%20%20%20%20%20%20%20%20%20%20%20%20%20%20%20%7B%7D%0A%20%20%20%20%20%20%20%20%20%20%20%20%29.addTo%28map_35b9420397a141f080695ebff6036418%29%3B%0A%20%20%20%20%20%20%20%20%0A%20%20%20%20%0A%20%20%20%20%20%20%20%20%20%20%20%20var%20div_icon_0b9041945be1410a9d3cc3dd4949b6cc%20%3D%20L.divIcon%28%7B%22className%22%3A%20%22empty%22%2C%20%22html%22%3A%20%22%5Cu003cspan%20class%3D%5C%22fa-stack%20%5C%22%20style%3D%5C%22font-size%3A%2012pt%5C%22%20%5Cu003e%5Cn%20%20%20%20%20%20%20%20%20%20%20%20%20%20%20%20%20%20%20%20%5Cu003cspan%20class%3D%5C%22fa%20fa-circle-o%20fa-stack-2x%5C%22%20style%3D%5C%22color%20%3A%20blue%5C%22%5Cu003e%5Cu003c/span%5Cu003e%5Cn%20%20%20%20%20%20%20%20%20%20%20%20%20%20%20%20%20%20%20%20%5Cu003cstrong%20class%3D%5C%22fa-stack-1x%5C%22%5Cu003e%5Cn%20%20%20%20%20%20%20%20%20%20%20%20%20%20%20%20%20%20%20%20%20%20%20%20%20%201%20%20%5Cn%20%20%20%20%20%20%20%20%20%20%20%20%20%20%20%20%20%20%20%20%5Cu003c/strong%5Cu003e%5Cn%20%20%20%20%20%20%20%20%20%20%20%20%20%20%20%20%5Cu003c/span%5Cu003e%22%2C%20%22iconAnchor%22%3A%20%5B12%2C%2040%5D%2C%20%22iconSize%22%3A%20%5B150%2C%2036%5D%7D%29%3B%0A%20%20%20%20%20%20%20%20%20%20%20%20marker_b95c8c3c8bf54aa2830435eb2b6d0910.setIcon%28div_icon_0b9041945be1410a9d3cc3dd4949b6cc%29%3B%0A%20%20%20%20%20%20%20%20%0A%20%20%20%20%0A%20%20%20%20%20%20%20%20%20%20%20%20var%20marker_65e4b9149fe14f52b084a6f84db3bc9c%20%3D%20L.marker%28%0A%20%20%20%20%20%20%20%20%20%20%20%20%20%20%20%20%5B43.69852327795436%2C%20-79.43773790229741%5D%2C%0A%20%20%20%20%20%20%20%20%20%20%20%20%20%20%20%20%7B%7D%0A%20%20%20%20%20%20%20%20%20%20%20%20%29.addTo%28map_35b9420397a141f080695ebff6036418%29%3B%0A%20%20%20%20%20%20%20%20%0A%20%20%20%20%0A%20%20%20%20%20%20%20%20%20%20%20%20var%20icon_9c45aa4b387342b2a69e6a92a072abec%20%3D%20L.AwesomeMarkers.icon%28%0A%20%20%20%20%20%20%20%20%20%20%20%20%20%20%20%20%7B%22extraClasses%22%3A%20%22fa-rotate-0%22%2C%20%22icon%22%3A%20%22info-sign%22%2C%20%22iconColor%22%3A%20%22white%22%2C%20%22markerColor%22%3A%20%22white%22%2C%20%22prefix%22%3A%20%22glyphicon%22%7D%0A%20%20%20%20%20%20%20%20%20%20%20%20%29%3B%0A%20%20%20%20%20%20%20%20%20%20%20%20marker_65e4b9149fe14f52b084a6f84db3bc9c.setIcon%28icon_9c45aa4b387342b2a69e6a92a072abec%29%3B%0A%20%20%20%20%20%20%20%20%0A%20%20%20%20%0A%20%20%20%20%20%20%20%20%20%20%20%20var%20marker_353c529d9ea3428595b8cca7ce6c8fe8%20%3D%20L.marker%28%0A%20%20%20%20%20%20%20%20%20%20%20%20%20%20%20%20%5B43.69852327795436%2C%20-79.43773790229741%5D%2C%0A%20%20%20%20%20%20%20%20%20%20%20%20%20%20%20%20%7B%7D%0A%20%20%20%20%20%20%20%20%20%20%20%20%29.addTo%28map_35b9420397a141f080695ebff6036418%29%3B%0A%20%20%20%20%20%20%20%20%0A%20%20%20%20%0A%20%20%20%20%20%20%20%20%20%20%20%20var%20div_icon_18fb58ed94bc4ad096e8c3991dd29b7c%20%3D%20L.divIcon%28%7B%22className%22%3A%20%22empty%22%2C%20%22html%22%3A%20%22%5Cu003cspan%20class%3D%5C%22fa-stack%20%5C%22%20style%3D%5C%22font-size%3A%2012pt%5C%22%20%5Cu003e%5Cn%20%20%20%20%20%20%20%20%20%20%20%20%20%20%20%20%20%20%20%20%5Cu003cspan%20class%3D%5C%22fa%20fa-circle-o%20fa-stack-2x%5C%22%20style%3D%5C%22color%20%3A%20blue%5C%22%5Cu003e%5Cu003c/span%5Cu003e%5Cn%20%20%20%20%20%20%20%20%20%20%20%20%20%20%20%20%20%20%20%20%5Cu003cstrong%20class%3D%5C%22fa-stack-1x%5C%22%5Cu003e%5Cn%20%20%20%20%20%20%20%20%20%20%20%20%20%20%20%20%20%20%20%20%20%20%20%20%20%203%20%20%5Cn%20%20%20%20%20%20%20%20%20%20%20%20%20%20%20%20%20%20%20%20%5Cu003c/strong%5Cu003e%5Cn%20%20%20%20%20%20%20%20%20%20%20%20%20%20%20%20%5Cu003c/span%5Cu003e%22%2C%20%22iconAnchor%22%3A%20%5B12%2C%2040%5D%2C%20%22iconSize%22%3A%20%5B150%2C%2036%5D%7D%29%3B%0A%20%20%20%20%20%20%20%20%20%20%20%20marker_353c529d9ea3428595b8cca7ce6c8fe8.setIcon%28div_icon_18fb58ed94bc4ad096e8c3991dd29b7c%29%3B%0A%20%20%20%20%20%20%20%20%0A%20%20%20%20%0A%20%20%20%20%20%20%20%20%20%20%20%20var%20marker_074bacf02291453ea2c831c49ccaf6f4%20%3D%20L.marker%28%0A%20%20%20%20%20%20%20%20%20%20%20%20%20%20%20%20%5B43.73271585862922%2C%20-79.26454606202786%5D%2C%0A%20%20%20%20%20%20%20%20%20%20%20%20%20%20%20%20%7B%7D%0A%20%20%20%20%20%20%20%20%20%20%20%20%29.addTo%28map_35b9420397a141f080695ebff6036418%29%3B%0A%20%20%20%20%20%20%20%20%0A%20%20%20%20%0A%20%20%20%20%20%20%20%20%20%20%20%20var%20icon_241b4c5a935d4678b79e130a7e656fd2%20%3D%20L.AwesomeMarkers.icon%28%0A%20%20%20%20%20%20%20%20%20%20%20%20%20%20%20%20%7B%22extraClasses%22%3A%20%22fa-rotate-0%22%2C%20%22icon%22%3A%20%22info-sign%22%2C%20%22iconColor%22%3A%20%22white%22%2C%20%22markerColor%22%3A%20%22white%22%2C%20%22prefix%22%3A%20%22glyphicon%22%7D%0A%20%20%20%20%20%20%20%20%20%20%20%20%29%3B%0A%20%20%20%20%20%20%20%20%20%20%20%20marker_074bacf02291453ea2c831c49ccaf6f4.setIcon%28icon_241b4c5a935d4678b79e130a7e656fd2%29%3B%0A%20%20%20%20%20%20%20%20%0A%20%20%20%20%0A%20%20%20%20%20%20%20%20%20%20%20%20var%20marker_f441309e989241518b80fcc69b64c2b6%20%3D%20L.marker%28%0A%20%20%20%20%20%20%20%20%20%20%20%20%20%20%20%20%5B43.73271585862922%2C%20-79.26454606202786%5D%2C%0A%20%20%20%20%20%20%20%20%20%20%20%20%20%20%20%20%7B%7D%0A%20%20%20%20%20%20%20%20%20%20%20%20%29.addTo%28map_35b9420397a141f080695ebff6036418%29%3B%0A%20%20%20%20%20%20%20%20%0A%20%20%20%20%0A%20%20%20%20%20%20%20%20%20%20%20%20var%20div_icon_bc98139e5aed48ce9b119cc1306501c2%20%3D%20L.divIcon%28%7B%22className%22%3A%20%22empty%22%2C%20%22html%22%3A%20%22%5Cu003cspan%20class%3D%5C%22fa-stack%20%5C%22%20style%3D%5C%22font-size%3A%2012pt%5C%22%20%5Cu003e%5Cn%20%20%20%20%20%20%20%20%20%20%20%20%20%20%20%20%20%20%20%20%5Cu003cspan%20class%3D%5C%22fa%20fa-circle-o%20fa-stack-2x%5C%22%20style%3D%5C%22color%20%3A%20blue%5C%22%5Cu003e%5Cu003c/span%5Cu003e%5Cn%20%20%20%20%20%20%20%20%20%20%20%20%20%20%20%20%20%20%20%20%5Cu003cstrong%20class%3D%5C%22fa-stack-1x%5C%22%5Cu003e%5Cn%20%20%20%20%20%20%20%20%20%20%20%20%20%20%20%20%20%20%20%20%20%20%20%20%2014%20%20%5Cn%20%20%20%20%20%20%20%20%20%20%20%20%20%20%20%20%20%20%20%20%5Cu003c/strong%5Cu003e%5Cn%20%20%20%20%20%20%20%20%20%20%20%20%20%20%20%20%5Cu003c/span%5Cu003e%22%2C%20%22iconAnchor%22%3A%20%5B12%2C%2040%5D%2C%20%22iconSize%22%3A%20%5B150%2C%2036%5D%7D%29%3B%0A%20%20%20%20%20%20%20%20%20%20%20%20marker_f441309e989241518b80fcc69b64c2b6.setIcon%28div_icon_bc98139e5aed48ce9b119cc1306501c2%29%3B%0A%20%20%20%20%20%20%20%20%0A%20%20%20%20%0A%20%20%20%20%20%20%20%20%20%20%20%20var%20marker_a46dea901e084d57a8c5fbc44fd66e13%20%3D%20L.marker%28%0A%20%20%20%20%20%20%20%20%20%20%20%20%20%20%20%20%5B43.6803099%2C%20-79.3374419%5D%2C%0A%20%20%20%20%20%20%20%20%20%20%20%20%20%20%20%20%7B%7D%0A%20%20%20%20%20%20%20%20%20%20%20%20%29.addTo%28map_35b9420397a141f080695ebff6036418%29%3B%0A%20%20%20%20%20%20%20%20%0A%20%20%20%20%0A%20%20%20%20%20%20%20%20%20%20%20%20var%20icon_81cdc8a293a747cea8ab58311fb21d2e%20%3D%20L.AwesomeMarkers.icon%28%0A%20%20%20%20%20%20%20%20%20%20%20%20%20%20%20%20%7B%22extraClasses%22%3A%20%22fa-rotate-0%22%2C%20%22icon%22%3A%20%22info-sign%22%2C%20%22iconColor%22%3A%20%22white%22%2C%20%22markerColor%22%3A%20%22white%22%2C%20%22prefix%22%3A%20%22glyphicon%22%7D%0A%20%20%20%20%20%20%20%20%20%20%20%20%29%3B%0A%20%20%20%20%20%20%20%20%20%20%20%20marker_a46dea901e084d57a8c5fbc44fd66e13.setIcon%28icon_81cdc8a293a747cea8ab58311fb21d2e%29%3B%0A%20%20%20%20%20%20%20%20%0A%20%20%20%20%0A%20%20%20%20%20%20%20%20%20%20%20%20var%20marker_19bdc856c20049038d9ae12730fdcb8a%20%3D%20L.marker%28%0A%20%20%20%20%20%20%20%20%20%20%20%20%20%20%20%20%5B43.6803099%2C%20-79.3374419%5D%2C%0A%20%20%20%20%20%20%20%20%20%20%20%20%20%20%20%20%7B%7D%0A%20%20%20%20%20%20%20%20%20%20%20%20%29.addTo%28map_35b9420397a141f080695ebff6036418%29%3B%0A%20%20%20%20%20%20%20%20%0A%20%20%20%20%0A%20%20%20%20%20%20%20%20%20%20%20%20var%20div_icon_5ad28012919d42888156103b1b60c7b1%20%3D%20L.divIcon%28%7B%22className%22%3A%20%22empty%22%2C%20%22html%22%3A%20%22%5Cu003cspan%20class%3D%5C%22fa-stack%20%5C%22%20style%3D%5C%22font-size%3A%2012pt%5C%22%20%5Cu003e%5Cn%20%20%20%20%20%20%20%20%20%20%20%20%20%20%20%20%20%20%20%20%5Cu003cspan%20class%3D%5C%22fa%20fa-circle-o%20fa-stack-2x%5C%22%20style%3D%5C%22color%20%3A%20blue%5C%22%5Cu003e%5Cu003c/span%5Cu003e%5Cn%20%20%20%20%20%20%20%20%20%20%20%20%20%20%20%20%20%20%20%20%5Cu003cstrong%20class%3D%5C%22fa-stack-1x%5C%22%5Cu003e%5Cn%20%20%20%20%20%20%20%20%20%20%20%20%20%20%20%20%20%20%20%20%20%20%20%20%2012%20%20%5Cn%20%20%20%20%20%20%20%20%20%20%20%20%20%20%20%20%20%20%20%20%5Cu003c/strong%5Cu003e%5Cn%20%20%20%20%20%20%20%20%20%20%20%20%20%20%20%20%5Cu003c/span%5Cu003e%22%2C%20%22iconAnchor%22%3A%20%5B12%2C%2040%5D%2C%20%22iconSize%22%3A%20%5B150%2C%2036%5D%7D%29%3B%0A%20%20%20%20%20%20%20%20%20%20%20%20marker_19bdc856c20049038d9ae12730fdcb8a.setIcon%28div_icon_5ad28012919d42888156103b1b60c7b1%29%3B%0A%20%20%20%20%20%20%20%20%0A%20%20%20%20%0A%20%20%20%20%20%20%20%20%20%20%20%20var%20marker_2f30849de58b4ecc8c435cdaf8676944%20%3D%20L.marker%28%0A%20%20%20%20%20%20%20%20%20%20%20%20%20%20%20%20%5B43.63753245%2C%20-79.53560410315569%5D%2C%0A%20%20%20%20%20%20%20%20%20%20%20%20%20%20%20%20%7B%7D%0A%20%20%20%20%20%20%20%20%20%20%20%20%29.addTo%28map_35b9420397a141f080695ebff6036418%29%3B%0A%20%20%20%20%20%20%20%20%0A%20%20%20%20%0A%20%20%20%20%20%20%20%20%20%20%20%20var%20icon_27d11a13bac74e7183d91a402ded35a0%20%3D%20L.AwesomeMarkers.icon%28%0A%20%20%20%20%20%20%20%20%20%20%20%20%20%20%20%20%7B%22extraClasses%22%3A%20%22fa-rotate-0%22%2C%20%22icon%22%3A%20%22info-sign%22%2C%20%22iconColor%22%3A%20%22white%22%2C%20%22markerColor%22%3A%20%22white%22%2C%20%22prefix%22%3A%20%22glyphicon%22%7D%0A%20%20%20%20%20%20%20%20%20%20%20%20%29%3B%0A%20%20%20%20%20%20%20%20%20%20%20%20marker_2f30849de58b4ecc8c435cdaf8676944.setIcon%28icon_27d11a13bac74e7183d91a402ded35a0%29%3B%0A%20%20%20%20%20%20%20%20%0A%20%20%20%20%0A%20%20%20%20%20%20%20%20%20%20%20%20var%20marker_b4bd88dd168149e9aba2b0065b9bcccd%20%3D%20L.marker%28%0A%20%20%20%20%20%20%20%20%20%20%20%20%20%20%20%20%5B43.63753245%2C%20-79.53560410315569%5D%2C%0A%20%20%20%20%20%20%20%20%20%20%20%20%20%20%20%20%7B%7D%0A%20%20%20%20%20%20%20%20%20%20%20%20%29.addTo%28map_35b9420397a141f080695ebff6036418%29%3B%0A%20%20%20%20%20%20%20%20%0A%20%20%20%20%0A%20%20%20%20%20%20%20%20%20%20%20%20var%20div_icon_425b540a3cd74d9c95ad6a6d2dfd473a%20%3D%20L.divIcon%28%7B%22className%22%3A%20%22empty%22%2C%20%22html%22%3A%20%22%5Cu003cspan%20class%3D%5C%22fa-stack%20%5C%22%20style%3D%5C%22font-size%3A%2012pt%5C%22%20%5Cu003e%5Cn%20%20%20%20%20%20%20%20%20%20%20%20%20%20%20%20%20%20%20%20%5Cu003cspan%20class%3D%5C%22fa%20fa-circle-o%20fa-stack-2x%5C%22%20style%3D%5C%22color%20%3A%20blue%5C%22%5Cu003e%5Cu003c/span%5Cu003e%5Cn%20%20%20%20%20%20%20%20%20%20%20%20%20%20%20%20%20%20%20%20%5Cu003cstrong%20class%3D%5C%22fa-stack-1x%5C%22%5Cu003e%5Cn%20%20%20%20%20%20%20%20%20%20%20%20%20%20%20%20%20%20%20%20%20%20%20%20%20%205%20%20%5Cn%20%20%20%20%20%20%20%20%20%20%20%20%20%20%20%20%20%20%20%20%5Cu003c/strong%5Cu003e%5Cn%20%20%20%20%20%20%20%20%20%20%20%20%20%20%20%20%5Cu003c/span%5Cu003e%22%2C%20%22iconAnchor%22%3A%20%5B12%2C%2040%5D%2C%20%22iconSize%22%3A%20%5B150%2C%2036%5D%7D%29%3B%0A%20%20%20%20%20%20%20%20%20%20%20%20marker_b4bd88dd168149e9aba2b0065b9bcccd.setIcon%28div_icon_425b540a3cd74d9c95ad6a6d2dfd473a%29%3B%0A%20%20%20%20%20%20%20%20%0A%20%20%20%20%0A%20%20%20%20%20%20%20%20%20%20%20%20var%20marker_bad92d264d584d029559dac7d91835e1%20%3D%20L.marker%28%0A%20%20%20%20%20%20%20%20%20%20%20%20%20%20%20%20%5B43.653866125%2C%20-79.4644185%5D%2C%0A%20%20%20%20%20%20%20%20%20%20%20%20%20%20%20%20%7B%7D%0A%20%20%20%20%20%20%20%20%20%20%20%20%29.addTo%28map_35b9420397a141f080695ebff6036418%29%3B%0A%20%20%20%20%20%20%20%20%0A%20%20%20%20%0A%20%20%20%20%20%20%20%20%20%20%20%20var%20icon_3fb882f100da4f1c8bf6b3d89aaab568%20%3D%20L.AwesomeMarkers.icon%28%0A%20%20%20%20%20%20%20%20%20%20%20%20%20%20%20%20%7B%22extraClasses%22%3A%20%22fa-rotate-0%22%2C%20%22icon%22%3A%20%22info-sign%22%2C%20%22iconColor%22%3A%20%22white%22%2C%20%22markerColor%22%3A%20%22white%22%2C%20%22prefix%22%3A%20%22glyphicon%22%7D%0A%20%20%20%20%20%20%20%20%20%20%20%20%29%3B%0A%20%20%20%20%20%20%20%20%20%20%20%20marker_bad92d264d584d029559dac7d91835e1.setIcon%28icon_3fb882f100da4f1c8bf6b3d89aaab568%29%3B%0A%20%20%20%20%20%20%20%20%0A%20%20%20%20%0A%20%20%20%20%20%20%20%20%20%20%20%20var%20marker_7b0a32127b284ed7adb3f62004f7f3cd%20%3D%20L.marker%28%0A%20%20%20%20%20%20%20%20%20%20%20%20%20%20%20%20%5B43.653866125%2C%20-79.4644185%5D%2C%0A%20%20%20%20%20%20%20%20%20%20%20%20%20%20%20%20%7B%7D%0A%20%20%20%20%20%20%20%20%20%20%20%20%29.addTo%28map_35b9420397a141f080695ebff6036418%29%3B%0A%20%20%20%20%20%20%20%20%0A%20%20%20%20%0A%20%20%20%20%20%20%20%20%20%20%20%20var%20div_icon_559e9c5e14cf4fa5884d2df63951deee%20%3D%20L.divIcon%28%7B%22className%22%3A%20%22empty%22%2C%20%22html%22%3A%20%22%5Cu003cspan%20class%3D%5C%22fa-stack%20%5C%22%20style%3D%5C%22font-size%3A%2012pt%5C%22%20%5Cu003e%5Cn%20%20%20%20%20%20%20%20%20%20%20%20%20%20%20%20%20%20%20%20%5Cu003cspan%20class%3D%5C%22fa%20fa-circle-o%20fa-stack-2x%5C%22%20style%3D%5C%22color%20%3A%20blue%5C%22%5Cu003e%5Cu003c/span%5Cu003e%5Cn%20%20%20%20%20%20%20%20%20%20%20%20%20%20%20%20%20%20%20%20%5Cu003cstrong%20class%3D%5C%22fa-stack-1x%5C%22%5Cu003e%5Cn%20%20%20%20%20%20%20%20%20%20%20%20%20%20%20%20%20%20%20%20%20%20%20%20%20%204%20%20%5Cn%20%20%20%20%20%20%20%20%20%20%20%20%20%20%20%20%20%20%20%20%5Cu003c/strong%5Cu003e%5Cn%20%20%20%20%20%20%20%20%20%20%20%20%20%20%20%20%5Cu003c/span%5Cu003e%22%2C%20%22iconAnchor%22%3A%20%5B12%2C%2040%5D%2C%20%22iconSize%22%3A%20%5B150%2C%2036%5D%7D%29%3B%0A%20%20%20%20%20%20%20%20%20%20%20%20marker_7b0a32127b284ed7adb3f62004f7f3cd.setIcon%28div_icon_559e9c5e14cf4fa5884d2df63951deee%29%3B%0A%20%20%20%20%20%20%20%20%0A%20%20%20%20%0A%20%20%20%20%20%20%20%20%20%20%20%20var%20marker_6789ce317ee0425f97397ba1b60d63cb%20%3D%20L.marker%28%0A%20%20%20%20%20%20%20%20%20%20%20%20%20%20%20%20%5B43.70461415%2C%20-79.39830616822974%5D%2C%0A%20%20%20%20%20%20%20%20%20%20%20%20%20%20%20%20%7B%7D%0A%20%20%20%20%20%20%20%20%20%20%20%20%29.addTo%28map_35b9420397a141f080695ebff6036418%29%3B%0A%20%20%20%20%20%20%20%20%0A%20%20%20%20%0A%20%20%20%20%20%20%20%20%20%20%20%20var%20icon_b4c88b26d795445294f433cc33c8b07c%20%3D%20L.AwesomeMarkers.icon%28%0A%20%20%20%20%20%20%20%20%20%20%20%20%20%20%20%20%7B%22extraClasses%22%3A%20%22fa-rotate-0%22%2C%20%22icon%22%3A%20%22info-sign%22%2C%20%22iconColor%22%3A%20%22white%22%2C%20%22markerColor%22%3A%20%22white%22%2C%20%22prefix%22%3A%20%22glyphicon%22%7D%0A%20%20%20%20%20%20%20%20%20%20%20%20%29%3B%0A%20%20%20%20%20%20%20%20%20%20%20%20marker_6789ce317ee0425f97397ba1b60d63cb.setIcon%28icon_b4c88b26d795445294f433cc33c8b07c%29%3B%0A%20%20%20%20%20%20%20%20%0A%20%20%20%20%0A%20%20%20%20%20%20%20%20%20%20%20%20var%20marker_5869839c06b04be0b525d5bc90f3fd85%20%3D%20L.marker%28%0A%20%20%20%20%20%20%20%20%20%20%20%20%20%20%20%20%5B43.70461415%2C%20-79.39830616822974%5D%2C%0A%20%20%20%20%20%20%20%20%20%20%20%20%20%20%20%20%7B%7D%0A%20%20%20%20%20%20%20%20%20%20%20%20%29.addTo%28map_35b9420397a141f080695ebff6036418%29%3B%0A%20%20%20%20%20%20%20%20%0A%20%20%20%20%0A%20%20%20%20%20%20%20%20%20%20%20%20var%20div_icon_b73e2d96c6ee454492662af5ebcbf1df%20%3D%20L.divIcon%28%7B%22className%22%3A%20%22empty%22%2C%20%22html%22%3A%20%22%5Cu003cspan%20class%3D%5C%22fa-stack%20%5C%22%20style%3D%5C%22font-size%3A%2012pt%5C%22%20%5Cu003e%5Cn%20%20%20%20%20%20%20%20%20%20%20%20%20%20%20%20%20%20%20%20%5Cu003cspan%20class%3D%5C%22fa%20fa-circle-o%20fa-stack-2x%5C%22%20style%3D%5C%22color%20%3A%20blue%5C%22%5Cu003e%5Cu003c/span%5Cu003e%5Cn%20%20%20%20%20%20%20%20%20%20%20%20%20%20%20%20%20%20%20%20%5Cu003cstrong%20class%3D%5C%22fa-stack-1x%5C%22%5Cu003e%5Cn%20%20%20%20%20%20%20%20%20%20%20%20%20%20%20%20%20%20%20%20%20%20%20%20%2010%20%20%5Cn%20%20%20%20%20%20%20%20%20%20%20%20%20%20%20%20%20%20%20%20%5Cu003c/strong%5Cu003e%5Cn%20%20%20%20%20%20%20%20%20%20%20%20%20%20%20%20%5Cu003c/span%5Cu003e%22%2C%20%22iconAnchor%22%3A%20%5B12%2C%2040%5D%2C%20%22iconSize%22%3A%20%5B150%2C%2036%5D%7D%29%3B%0A%20%20%20%20%20%20%20%20%20%20%20%20marker_5869839c06b04be0b525d5bc90f3fd85.setIcon%28div_icon_b73e2d96c6ee454492662af5ebcbf1df%29%3B%0A%20%20%20%20%20%20%20%20%0A%20%20%20%20%0A%20%20%20%20%20%20%20%20%20%20%20%20ant_path_3b2115f526e64678adccf07fd6242711%20%3D%20L.polyline.antPath%28%0A%20%20%20%20%20%20%20%20%20%20%20%20%20%20%5B%5B43.78017%2C%20-79.41571%5D%2C%20%5B43.77976%2C%20-79.41561%5D%2C%20%5B43.77418%2C%20-79.44067%5D%2C%20%5B43.77388%2C%20-79.44306%5D%2C%20%5B43.75551%2C%20-79.43851%5D%2C%20%5B43.75096%2C%20-79.46002%5D%2C%20%5B43.75042%2C%20-79.46279%5D%2C%20%5B43.75063%2C%20-79.46284%5D%2C%20%5B43.75063%2C%20-79.46284%5D%2C%20%5B43.75028%2C%20-79.46345%5D%2C%20%5B43.74805%2C%20-79.46263%5D%2C%20%5B43.74557%2C%20-79.45862%5D%2C%20%5B43.73903%2C%20-79.45202%5D%2C%20%5B43.73249%2C%20-79.44961%5D%2C%20%5B43.72583%2C%20-79.44821%5D%2C%20%5B43.71247%2C%20-79.44314%5D%2C%20%5B43.70255%2C%20-79.43765%5D%2C%20%5B43.69865%2C%20-79.43651%5D%2C%20%5B43.69838%2C%20-79.43768%5D%2C%20%5B43.69838%2C%20-79.43768%5D%2C%20%5B43.69569%2C%20-79.45031%5D%2C%20%5B43.69626%2C%20-79.45074%5D%2C%20%5B43.67802%2C%20-79.44309%5D%2C%20%5B43.67262%2C%20-79.46763%5D%2C%20%5B43.65471%2C%20-79.46001%5D%2C%20%5B43.65375%2C%20-79.46437%5D%2C%20%5B43.65375%2C%20-79.46437%5D%2C%20%5B43.64932%2C%20-79.48444%5D%2C%20%5B43.64824%2C%20-79.48588%5D%2C%20%5B43.6478%2C%20-79.4874%5D%2C%20%5B43.64785%2C%20-79.48993%5D%2C%20%5B43.64976%2C%20-79.49596%5D%2C%20%5B43.65009%2C%20-79.49933%5D%2C%20%5B43.6431%2C%20-79.53083%5D%2C%20%5B43.64264%2C%20-79.53245%5D%2C%20%5B43.64167%2C%20-79.53226%5D%2C%20%5B43.641%2C%20-79.53307%5D%2C%20%5B43.64031%2C%20-79.53246%5D%2C%20%5B43.63776%2C%20-79.53598%5D%2C%20%5B43.63776%2C%20-79.53598%5D%2C%20%5B43.63894%2C%20-79.53456%5D%2C%20%5B43.63971%2C%20-79.5352%5D%2C%20%5B43.63999%2C%20-79.53469%5D%2C%20%5B43.6198%2C%20-79.52631%5D%2C%20%5B43.61746%2C%20-79.52574%5D%2C%20%5B43.61658%2C%20-79.52631%5D%2C%20%5B43.61695%2C%20-79.52689%5D%2C%20%5B43.61744%2C%20-79.52634%5D%2C%20%5B43.62194%2C%20-79.50411%5D%2C%20%5B43.62734%2C%20-79.48213%5D%2C%20%5B43.63553%2C%20-79.46902%5D%2C%20%5B43.6375%2C%20-79.46425%5D%2C%20%5B43.63862%2C%20-79.45947%5D%2C%20%5B43.63885%2C%20-79.45389%5D%2C%20%5B43.63806%2C%20-79.44802%5D%2C%20%5B43.63293%2C%20-79.43472%5D%2C%20%5B43.6324%2C%20-79.43155%5D%2C%20%5B43.6373%2C%20-79.41222%5D%2C%20%5B43.6379%2C%20-79.40238%5D%2C%20%5B43.63773%2C%20-79.39728%5D%2C%20%5B43.63852%2C%20-79.39252%5D%2C%20%5B43.65296%2C%20-79.39795%5D%2C%20%5B43.65632%2C%20-79.38098%5D%2C%20%5B43.65632%2C%20-79.38098%5D%2C%20%5B43.65573%2C%20-79.38373%5D%2C%20%5B43.66605%2C%20-79.38786%5D%2C%20%5B43.66972%2C%20-79.38947%5D%2C%20%5B43.66967%2C%20-79.38972%5D%2C%20%5B43.66967%2C%20-79.38972%5D%2C%20%5B43.66362%2C%20-79.41814%5D%2C%20%5B43.66362%2C%20-79.41814%5D%2C%20%5B43.66513%2C%20-79.41121%5D%2C%20%5B43.67315%2C%20-79.41433%5D%2C%20%5B43.67415%2C%20-79.40959%5D%2C%20%5B43.67452%2C%20-79.40876%5D%2C%20%5B43.67487%2C%20-79.40706%5D%2C%20%5B43.6747%2C%20-79.407%5D%2C%20%5B43.6747%2C%20-79.407%5D%2C%20%5B43.67487%2C%20-79.40706%5D%2C%20%5B43.67585%2C%20-79.40238%5D%2C%20%5B43.6772%2C%20-79.39758%5D%2C%20%5B43.68656%2C%20-79.40147%5D%2C%20%5B43.68804%2C%20-79.39408%5D%2C%20%5B43.6902%2C%20-79.39492%5D%2C%20%5B43.70415%2C%20-79.3978%5D%2C%20%5B43.70387%2C%20-79.39917%5D%2C%20%5B43.70426%2C%20-79.39936%5D%2C%20%5B43.7045%2C%20-79.39942%5D%2C%20%5B43.7046%2C%20-79.39857%5D%2C%20%5B43.7046%2C%20-79.39857%5D%2C%20%5B43.7045%2C%20-79.39942%5D%2C%20%5B43.70426%2C%20-79.39936%5D%2C%20%5B43.70387%2C%20-79.39917%5D%2C%20%5B43.70415%2C%20-79.3978%5D%2C%20%5B43.69%2C%20-79.39487%5D%2C%20%5B43.67287%2C%20-79.38784%5D%2C%20%5B43.67215%2C%20-79.38531%5D%2C%20%5B43.67221%2C%20-79.38385%5D%2C%20%5B43.67104%2C%20-79.38314%5D%2C%20%5B43.67246%2C%20-79.37625%5D%2C%20%5B43.67191%2C%20-79.37112%5D%2C%20%5B43.67334%2C%20-79.36882%5D%2C%20%5B43.67334%2C%20-79.36882%5D%2C%20%5B43.67469%2C%20-79.3667%5D%2C%20%5B43.68039%2C%20-79.33747%5D%2C%20%5B43.68039%2C%20-79.33747%5D%2C%20%5B43.68334%2C%20-79.32372%5D%2C%20%5B43.68334%2C%20-79.32372%5D%2C%20%5B43.6857%2C%20-79.31278%5D%2C%20%5B43.70007%2C%20-79.31913%5D%2C%20%5B43.7047%2C%20-79.3134%5D%2C%20%5B43.71513%2C%20-79.30534%5D%2C%20%5B43.72161%2C%20-79.30402%5D%2C%20%5B43.72288%2C%20-79.30297%5D%2C%20%5B43.72413%2C%20-79.30081%5D%2C%20%5B43.72487%2C%20-79.30056%5D%2C%20%5B43.73296%2C%20-79.26466%5D%2C%20%5B43.73296%2C%20-79.26466%5D%2C%20%5B43.7345%2C%20-79.25804%5D%2C%20%5B43.73231%2C%20-79.26794%5D%2C%20%5B43.77537%2C%20-79.28466%5D%2C%20%5B43.77625%2C%20-79.28462%5D%2C%20%5B43.77631%2C%20-79.28373%5D%2C%20%5B43.7754%2C%20-79.28413%5D%2C%20%5B43.77402%2C%20-79.28961%5D%2C%20%5B43.76914%2C%20-79.3109%5D%2C%20%5B43.76861%2C%20-79.31561%5D%2C%20%5B43.76872%2C%20-79.33155%5D%2C%20%5B43.76992%2C%20-79.33651%5D%2C%20%5B43.77102%2C%20-79.33804%5D%2C%20%5B43.77249%2C%20-79.33873%5D%2C%20%5B43.77653%2C%20-79.33941%5D%2C%20%5B43.77725%2C%20-79.33906%5D%2C%20%5B43.77732%2C%20-79.33822%5D%2C%20%5B43.77673%2C%20-79.33765%5D%2C%20%5B43.77606%2C%20-79.3381%5D%2C%20%5B43.7762%2C%20-79.34227%5D%2C%20%5B43.77511%2C%20-79.34695%5D%2C%20%5B43.77511%2C%20-79.34695%5D%2C%20%5B43.77512%2C%20-79.34729%5D%2C%20%5B43.77212%2C%20-79.36094%5D%2C%20%5B43.77136%2C%20-79.36706%5D%2C%20%5B43.76857%2C%20-79.37957%5D%5D%2C%0A%20%20%20%20%20%20%20%20%20%20%20%20%20%20%7B%22bubblingMouseEvents%22%3A%20true%2C%20%22color%22%3A%20%22red%22%2C%20%22dashArray%22%3A%20%5B1%2C%2010%5D%2C%20%22dashOffset%22%3A%20null%2C%20%22delay%22%3A%201000%2C%20%22fill%22%3A%20false%2C%20%22fillColor%22%3A%20%22red%22%2C%20%22fillOpacity%22%3A%200.2%2C%20%22fillRule%22%3A%20%22evenodd%22%2C%20%22hardwareAcceleration%22%3A%20false%2C%20%22lineCap%22%3A%20%22round%22%2C%20%22lineJoin%22%3A%20%22round%22%2C%20%22noClip%22%3A%20false%2C%20%22opacity%22%3A%200.5%2C%20%22paused%22%3A%20false%2C%20%22pulseColor%22%3A%20%22orange%22%2C%20%22reverse%22%3A%20false%2C%20%22smoothFactor%22%3A%201.0%2C%20%22stroke%22%3A%20true%2C%20%22weight%22%3A%205%7D%0A%20%20%20%20%20%20%20%20%29.addTo%28map_35b9420397a141f080695ebff6036418%29%3B%0A%20%20%20%20%20%20%20%20%0A%3C/script%3E onload=\"this.contentDocument.open();this.contentDocument.write(    decodeURIComponent(this.getAttribute('data-html')));this.contentDocument.close();\" allowfullscreen webkitallowfullscreen mozallowfullscreen></iframe></div></div>"
      ],
      "text/plain": [
       "<folium.folium.Map at 0x7f09bc509be0>"
      ]
     },
     "execution_count": 15,
     "metadata": {},
     "output_type": "execute_result"
    }
   ],
   "source": [
    "#Visualization\n",
    "\n",
    "optimalRoute = new_population[best_index, :]\n",
    "optimalRoute = optimalRoute[0][0]\n",
    "currentRoute = G[POIS[optimalRoute[0]]][POIS[optimalRoute[1]]]['route']['coords']\n",
    "for i in range(1,len(optimalRoute)-1):\n",
    "    currentRoute += G[POIS[optimalRoute[i]-1]][POIS[optimalRoute[i+1]-1]]['route']['coords']\n",
    "drawRouteOrder(route = currentRoute, POIS = list(G.nodes), order= list(new_population[best_index][0]))"
   ]
  }
 ],
 "metadata": {
  "interpreter": {
   "hash": "a405b721b341898b1c612734a812e53b99bd4311cd409aa0073bcfbe1e3bbb80"
  },
  "kernelspec": {
   "display_name": "Python 3.8.10 64-bit ('book-env': venv)",
   "name": "python3"
  },
  "language_info": {
   "codemirror_mode": {
    "name": "ipython",
    "version": 3
   },
   "file_extension": ".py",
   "mimetype": "text/x-python",
   "name": "python",
   "nbconvert_exporter": "python",
   "pygments_lexer": "ipython3",
   "version": "3.8.10"
  }
 },
 "nbformat": 4,
 "nbformat_minor": 4
}
