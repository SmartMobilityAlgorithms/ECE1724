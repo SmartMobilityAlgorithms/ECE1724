{
 "cells": [
  {
   "cell_type": "markdown",
   "metadata": {},
   "source": [
    "# Trip Itinerary Planning"
   ]
  },
  {
   "cell_type": "markdown",
   "metadata": {},
   "source": [
    "**Authors:** Jingkai Jia, Yuli Chen and Yuxuan Liu<br>\n",
    "**Course:** ECE1724H: Bio-inspired Algorithms for Smart Mobility - Fall 2021<br>\n",
    "**Instructor:** Dr. Alaa Khamis<br>\n",
    "**Department:** Edward S. Rogers Sr. Department of Electrical & Computer Engineering, University of Toronto"
   ]
  },
  {
   "cell_type": "markdown",
   "metadata": {},
   "source": [
    "## Introduction\n",
    "\n",
    "The Trip Itinerary Problem (TIP) consists of a problem where a list of locations to visit must be selected, and have routes formulated between them, such that some sort of cost function (such as number of visited places, POI ranking, traveller satisfaction, etc) is maximized. <br>\n",
    "\n",
    "Essentially, the problem can be broken down into the following:\n",
    "\n",
    "1. Select a subset from a set of POIs (or candidate points).\n",
    "2. Construct one or more routes between a home point (like a hotel, etc.) and those points, in order to satisfy time and distance constraints.\n"
   ]
  },
  {
   "cell_type": "code",
   "execution_count": 44,
   "metadata": {},
   "outputs": [],
   "source": [
    "from ipyleaflet import AntPath,Map,Marker\n",
    "from ipywidgets import HTML\n",
    "import osmnx as ox\n",
    "import pandas as pd\n",
    "import numpy as np\n",
    "import os\n",
    "import requests\n",
    "import json\n",
    "import random\n",
    "import time\n",
    "import folium\n",
    "import folium.plugins\n",
    "import matplotlib.pyplot as plt\n",
    "from tqdm.notebook import tqdm\n",
    "from collections import OrderedDict\n",
    "from itertools import combinations\n",
    "from smart_mobility_utilities.poi import number_DivIcon"
   ]
  },
  {
   "cell_type": "markdown",
   "metadata": {},
   "source": [
    "## Dataset\n",
    "\n",
    "This implementation uses a dataset compiled from a [public source listing POIs and Attractions in Toronto](https://ckan0.cf.opendata.inter.prod-toronto.ca/tr/dataset/places-of-interest-and-toronto-attractions), supplemented with further data from mapping APIs such as Google Maps API.\n",
    "\n",
    "A total of 165 POIs exist in the dataset.\n",
    "\n",
    "Additionally, a precomputed matrix of distances between POIs was created in order eliminate the need for real-time distance queries and speed up the algorithm running times."
   ]
  },
  {
   "cell_type": "markdown",
   "metadata": {},
   "source": [
    "## Problem Formulation\n",
    "\n",
    "### Variables\n",
    "\n",
    "$V_i$ : poi i<br>\n",
    "$R_i$ : rating of $V_i$<br>\n",
    "$C_{ij}$ : the time it takes for the user to travel from $V_i$ to $V_j$<br>\n",
    "$L_{ij}$ : the distance between $V_i$ and $V_j$<br>\n",
    "$O_i,E_i$ : the openning/closing time of $V_i$<br>\n",
    "$D_i$ : duration visitor want to spend on $V_i$<br>\n",
    "$S_i$ : the time when the visitor arrives $V_i$<br>\n",
    "$a_{ijk}$ : whether $V_j$ is visited after $V_i$ in tour $k$. True -> 1, False -> 0<br>\n",
    "$b_{ij}$ : whether $V_i$ is visited in tour $j$. True -> 1, False -> 0<br>\n",
    "$m$ : the number of tours a visitor wants to take<br>\n",
    "$\\gamma$ : weight of soft constraint<br>\n",
    "$ T_{start}, T_{end}$ : start and end time of the tour<br>\n",
    "$Q$ : a large positive constant used for integer programming modelling\n",
    "\n",
    "### Objective\n",
    "\n",
    "$\\sum_{i=0}^{m} \\sum_{j=1}^{n} R_i b_{ij} - \\sum_{i=1}^{n} \\sum_{j=1}^{n}  \\sum_{k=1}^{m} \\gamma L_{ij} a_{ijk}$\n",
    "\n",
    "### Constraints\n",
    "\n",
    "$\\sum_{i=0}^{m} \\sum_{j=1}^{n} a_{1ij} = \\sum_{i=0}^{m} \\sum_{j=1}^{n} a_{nij} = m$ (m tours are start from V1\n",
    "and end with Vn)\n",
    "\n",
    "$\\sum_{i=2}^{n-1} \\sum_{j=1}^{m} b_{ij} \\le 1$ (all vertices\n",
    "are visited only once)\n",
    "\n",
    "$\\sum_{i=1}^{n-1} a_{ijk} = b_{kj}, k=2,...,n-1; j=1,...,m$ (all tours are connected, used together with the constraint below)\n",
    "\n",
    "$\\sum_{i=2}^{n} a_{ijk} = b_{kj}, k=2,...,n-1; j=1,...,m$ (all tours are connected, used together with the constraint above)\n",
    "\n",
    "$S_{ik} + D_{i} + C_{ij} - S_{jk} \\le Q(1-a_{ijk}), \\> i=1,...,n-1;j = 2,... n; k = 1,...,m$ (travel time is continuous)\n",
    "\n",
    "$O_{i} \\le S_{ij} + D_{i} \\le E_{i}, \\> i = 1,...,n; j = 1,...,m$ (vertices are visited within the time window)\n"
   ]
  },
  {
   "cell_type": "markdown",
   "metadata": {},
   "source": [
    "## Data Object\n",
    "\n",
    "The following class stores information about POIs, as well as loads POI distance information from the precomputed matrix."
   ]
  },
  {
   "cell_type": "code",
   "execution_count": 45,
   "metadata": {},
   "outputs": [],
   "source": [
    "class POI:\n",
    "    def __init__(self, name, id, category, lat, lng, rating=None, openings=None):\n",
    "        self.name = name\n",
    "        self.id = id\n",
    "        self.category = category\n",
    "        self.coordinates = (lat,lng)\n",
    "        if np.isnan(lat) or np.isnan(lng):\n",
    "            self.coordinates = (0,0)\n",
    "        self.rating = rating\n",
    "        self.visit_duration = 100.0\n",
    "        self.open_time, self.close_time = openings\n",
    "        \n",
    "        self.open_time = self.open_time // 100 * 60 + self.open_time % 100\n",
    "        self.close_time = self.close_time // 100 * 60 + self.close_time % 100\n",
    "        self.BASE_DIR = \"\"\n",
    "        self.route_cache = dict()\n",
    "        self.min_duration = float('inf')\n",
    "        if self.id >= 0:\n",
    "            self.warm_cache()\n",
    "        \n",
    "    def warm_cache(self):\n",
    "        from_id = int(self.id)\n",
    "        \n",
    "        df = pd.read_csv('{}cache/poi_pair_cost_{}.csv'.format(self.BASE_DIR, from_id))\n",
    "        with open('cache/coords_db_{}.json'.format(from_id)) as f:\n",
    "            coord_db = json.loads(f.read())\n",
    "        \n",
    "        for index, row in df.iterrows():\n",
    "            result = {\n",
    "                'coords': None,\n",
    "                'length': None,\n",
    "                'duration': None\n",
    "            }\n",
    "            to_id = int(row['to_id'])\n",
    "            result['duration'] = float(row['duration']) / 60.0\n",
    "            self.min_duration = min(self.min_duration, result['duration'])\n",
    "            result['length'] = float(row['length'])\n",
    "            result['coords'] = coord_db[str(from_id)][str(to_id)]\n",
    "            self.route_cache[(from_id, to_id)] = result\n",
    "            \n",
    "        \n",
    "        \n",
    "    def query_route_db(self, from_id, to_id):\n",
    "        if (from_id, to_id) not in self.route_cache:\n",
    "            result = {\n",
    "                'coords': None,\n",
    "                'length': None,\n",
    "                'duration': None\n",
    "            }\n",
    "            df = pd.read_csv('{}cache/poi_pair_cost_{}.csv'.format(self.BASE_DIR, from_id))\n",
    "            \n",
    "            result['duration'] = float(df[ df['to_id'] == to_id ]['duration']) / 60.0\n",
    "            result['length'] = float(df[ df['to_id'] == to_id ]['length'])\n",
    "            with open('cache/coords_db_{}.json'.format(from_id)) as f:\n",
    "                result['coords'] = json.loads(f.read())[str(from_id)][str(to_id)]\n",
    "            self.route_cache[(from_id, to_id)] = result\n",
    "        else:\n",
    "            result = self.route_cache[(from_id, to_id)]\n",
    "        return result\n",
    "\n",
    "    def route_to(self, destination, mode = \"driving\"):\n",
    "        from_id = self.id\n",
    "        to_id = destination.id\n",
    "        try:\n",
    "            result = self.query_route_db(from_id, to_id)\n",
    "        except:\n",
    "            print(from_id, to_id)\n",
    "            raise\n",
    "        return result\n",
    "    \n",
    "    def __eq__(self, other):\n",
    "        return self.id == other.id\n",
    "\n",
    "    def __hash__(self):\n",
    "        return self.id\n",
    "    \n",
    "    def __repr__(self):\n",
    "        return f\"ID: {self.id}, Name: {self.name}, Score: {self.rating}\"\n",
    "\n",
    "def get_pois(file):\n",
    "    df = pd.read_csv(file)\n",
    "    my_pois = []\n",
    "    for i, row in df.iterrows():\n",
    "        name,category,geoid,lat,lng,rating,openings,closings = row.values.tolist()\n",
    "        poi = POI(name, i, category, lng, lat , rating, (openings, closings))\n",
    "        my_pois.append(poi)\n",
    "    return my_pois\n",
    "\n",
    "\n",
    "def getRouteBounds(tours):\n",
    "    for tour in tours:\n",
    "        route = [ (t.coordinates[1], t.coordinates[0]) for t in tour]\n",
    "        minLat = min(route, key=lambda x:x[0])\n",
    "        maxLat = max(route, key=lambda x:x[0])\n",
    "        minLng = min(route, key=lambda x:x[1])\n",
    "        maxLng = max(route, key=lambda x:x[1])\n",
    "    return [(minLat, minLng), (maxLat, maxLng)]"
   ]
  },
  {
   "cell_type": "markdown",
   "metadata": {},
   "source": [
    "## Problem Class"
   ]
  },
  {
   "cell_type": "code",
   "execution_count": 46,
   "metadata": {},
   "outputs": [],
   "source": [
    "class Problem:\n",
    "    def __init__(self, use_soft_constraint=False, alpha=1e-5, number_of_tour=2):\n",
    "        self.pois = get_pois('pois.csv')\n",
    "        self.home_poi = POI('Home', 166, 'HOME',  -79.3969, 43.6596,  rating=0, openings=(900, 1700))\n",
    "        self.number_of_tour = number_of_tour\n",
    "        self.id_pois_map = { poi.id: poi for poi in self.pois}\n",
    "        self.evaluation_cache = {}\n",
    "        for i in range(self.number_of_tour-1):\n",
    "            self.id_pois_map[-(i+1)] = POI('Spliter', -(i+1), 'SPL', 0,0,  rating=0, openings=(0, 0))\n",
    "        self.use_evaluation_cache = True\n",
    "        # if use soft constraint, we apply some penalty to the evaluation function wrt the length driving\n",
    "        self.use_soft_constraint = use_soft_constraint\n",
    "        self.alpha = alpha\n",
    "        self.min_duration = [poi.min_duration for poi in self.pois]\n",
    "        \n",
    "    def reset(self):\n",
    "        use_soft_constraint = self.use_soft_constraint\n",
    "        alpha = self.alpha\n",
    "        number_of_tour = self.number_of_tour\n",
    "        self.__init__(use_soft_constraint, alpha, number_of_tour)\n",
    "\n",
    "    \n",
    "    def navie_decode(self, gaint_tour):\n",
    "        '''\n",
    "        split a gaint tour into a list of single tour\n",
    "        with out feasibility check\n",
    "        \n",
    "        example\n",
    "        >> a = [1,3,-1,2,4]\n",
    "        >> b = naive_decode(a)\n",
    "        >> b # 5 is the id for home\n",
    "        [ [5, 1, 3, 5],\n",
    "          [5, 2, 4, 5] ]\n",
    "        '''\n",
    "        solution = []\n",
    "        tour = []\n",
    "        gaint_tour = [self.home_poi] + gaint_tour\n",
    "        for poi in gaint_tour:\n",
    "            if poi.id < 0:\n",
    "                tour.append(self.home_poi)\n",
    "                solution.append(tour)\n",
    "                tour = [self.home_poi]\n",
    "            else:\n",
    "                tour.append(poi)\n",
    "        solution.append(tour)\n",
    "        solution[-1].append(self.home_poi)\n",
    "        return solution\n",
    "    \n",
    "    def can_visit(self, current_time, current_poi, next_poi):\n",
    "        if current_time + current_poi.route_to(next_poi)['duration'] + next_poi.visit_duration> next_poi.close_time:\n",
    "            return False\n",
    "        tentative_arrive_time = max(next_poi.open_time, current_time + current_poi.route_to(next_poi)['duration'])\n",
    "        tentative_leave_time = tentative_arrive_time + next_poi.visit_duration\n",
    "        earliest_back_home_time = tentative_leave_time + next_poi.route_to(self.home_poi)['duration']\n",
    "        if earliest_back_home_time > self.home_poi.close_time:\n",
    "            return False\n",
    "        return True\n",
    "    \n",
    "    def filter_infeasible_pois(self, tour):\n",
    "        current_time = None\n",
    "        feasible_tour = []\n",
    "        for i, next_poi in enumerate(tour):\n",
    "            if i == 0:\n",
    "                current_time = next_poi.open_time\n",
    "                current_poi = next_poi\n",
    "                feasible_tour.append(current_poi)\n",
    "                continue\n",
    "            if next_poi == self.home_poi:\n",
    "                feasible_tour.append(self.home_poi)\n",
    "                break\n",
    "            \n",
    "            if self.can_visit(current_time, current_poi, next_poi):\n",
    "                current_time = max(next_poi.open_time, current_time + current_poi.route_to(next_poi)['duration']) + next_poi.visit_duration\n",
    "                current_poi = next_poi\n",
    "                feasible_tour.append(current_poi)            \n",
    "        return feasible_tour\n",
    "    \n",
    "    def build_feasible_solution(self, solution):\n",
    "        feasible_soluion = []\n",
    "        for tour in solution:\n",
    "\n",
    "            feasible_tour = self.filter_infeasible_pois(tour)\n",
    "            feasible_soluion.append(feasible_tour)\n",
    "\n",
    "        return feasible_soluion\n",
    "        \n",
    "            \n",
    "    def gaint_tour_decode(self, gaint_tour):\n",
    "        infeasible_solution = self.navie_decode(gaint_tour)\n",
    "        feasible_solution = self.build_feasible_solution(infeasible_solution)                \n",
    "        return feasible_solution\n",
    "                    \n",
    "    \n",
    "    def get_initial_soluton(self, mode='random'):\n",
    "        if mode == 'random':\n",
    "            gaint_tour = random.sample([poi.id for poi in self.pois], len(self.pois))\n",
    "            for i in range(self.number_of_tour - 1):\n",
    "                gaint_tour.insert(random.randrange(len(gaint_tour)+1), -(i+1))\n",
    "        return gaint_tour\n",
    "    \n",
    "    def evaluate(self, gaint_tour):\n",
    "        if self.use_evaluation_cache and tuple(gaint_tour) in self.evaluation_cache:\n",
    "            return self.evaluation_cache[tuple(gaint_tour)]\n",
    "        gaint_poi_tour = [self.id_pois_map[i] for i in gaint_tour]\n",
    "        solution = self.gaint_tour_decode(gaint_poi_tour)\n",
    "        score = 0.0\n",
    "        for tour in solution:\n",
    "            for poi in tour:\n",
    "                score += poi.rating\n",
    "            if self.use_soft_constraint:\n",
    "                score -= self.alpha * (self.get_tour_length(tour))\n",
    "        if self.use_evaluation_cache and tuple(gaint_tour) not in self.evaluation_cache:\n",
    "            self.evaluation_cache[tuple(gaint_tour)] = score\n",
    "        return score\n",
    "    \n",
    "    @staticmethod\n",
    "    def draw_tours(tours):\n",
    "        center = [43.6596,-79.3969]\n",
    "        m = folium.Map(zoom_start = 12)\n",
    "        bounds = getRouteBounds(tours)\n",
    "        m.fit_bounds(bounds)\n",
    "        color_set = ['yellow','green','red','blue']\n",
    "        for tour in tours:\n",
    "            tour_route = []\n",
    "            color = color_set.pop()\n",
    "            i = 1\n",
    "            for u,v in zip(tour[0:],tour[1:]):\n",
    "                if i == len(tour) - 1:\n",
    "                    i = 0\n",
    "                folium.Marker(location=list(v.coordinates)[::-1], icon=folium.Icon(color='white', icon_color='white')).add_to(m)\n",
    "                folium.Marker(location=list(v.coordinates)[::-1],  icon=number_DivIcon(color,i)).add_to(m)\n",
    "                r = u.route_to(v)['coords']\n",
    "                tour_route += r\n",
    "                i += 1\n",
    "            ant_path = folium.plugins.AntPath(\n",
    "                locations=[\n",
    "                    tour_route\n",
    "                ],\n",
    "                dash_array=[1, 10],\n",
    "                delay=1000,\n",
    "                color=color,\n",
    "            )\n",
    "            ant_path.add_to(m)\n",
    "        return m\n",
    "    \n",
    "    @staticmethod\n",
    "    def get_tour_length(tour):\n",
    "        length = 0\n",
    "        for u,v in zip(tour[0:],tour[1:]):\n",
    "            if u != v:\n",
    "                length += u.route_to(v)['length']\n",
    "        return length"
   ]
  },
  {
   "cell_type": "markdown",
   "metadata": {},
   "source": [
    "## GA Solver\n",
    "\n",
    "A solution class for Genetic Algorithm"
   ]
  },
  {
   "cell_type": "code",
   "execution_count": 47,
   "metadata": {},
   "outputs": [],
   "source": [
    "class GeneticAlgorithmSolver:\n",
    "    def __init__(self, population_size=20):\n",
    "        \n",
    "        self.global_solution = None\n",
    "        self.global_score = float('-inf')\n",
    "        \n",
    "        self.max_geneartions = 1000\n",
    "        self.population = []\n",
    "        self.population_size = population_size\n",
    "        self.problem = None\n",
    "        self.mutation_prob = 0.1\n",
    "        self.crossover_prob = 0.7\n",
    "\n",
    "        self.adaptive = False\n",
    "        self.converge_threshold = 0.1\n",
    "        self.fitness_level = 1.0\n",
    "        \n",
    "        self.score_history = []\n",
    "        self.converge_history = []\n",
    "        self.terminate_threshold = float('-inf')\n",
    "        \n",
    "        \n",
    "    def reset(self):\n",
    "        population_size = self.population_size\n",
    "        self.__init__(population_size)\n",
    "        \n",
    "        \n",
    "        \n",
    "    def update_global(self, score, solution):\n",
    "        if score > self.global_score:\n",
    "            self.global_solution = solution\n",
    "            self.global_score = score\n",
    "            \n",
    "    \n",
    "    def pmx(self, a, b):\n",
    "        c = [None] * len(a)\n",
    "        start = random.randint(0, len(a)//2 - 1)\n",
    "        kept_idx = set([i for i in range(start, start+len(a)//2)])\n",
    "        kept_val = {a[i] for i in kept_idx}\n",
    "        for i in kept_idx:\n",
    "            c[i] = a[i]\n",
    "            if b[i] in kept_val:\n",
    "                continue\n",
    "            val = a[i]\n",
    "            j = b.index(val)\n",
    "            while j in kept_idx:\n",
    "                val = a[j]\n",
    "                j = b.index(val)          \n",
    "            c[j] = b[i]\n",
    "        for i in range(len(c)):\n",
    "            if c[i] is None:\n",
    "                c[i] = b[i]\n",
    "        return c\n",
    "        \n",
    "        \n",
    "    def permutation_cross_over(self, a, b, mode='pmx'):\n",
    "        if mode == 'pmx':\n",
    "            child = self.pmx(a, b)\n",
    "        return child\n",
    "    \n",
    "    def mutate(self, individual):\n",
    "        if self.adaptive:\n",
    "            mutation_prob = self.mutation_prob * ( 1.0 / (self.fitness_level + 1e-2) )\n",
    "        else:\n",
    "            mutation_prob = self.mutation_prob\n",
    "            \n",
    "        if mutation_prob > np.random.uniform():\n",
    "            for i in range( int( 1 + 1.0 / (self.fitness_level + 1e-2) ) ):\n",
    "                idx = range(len(individual))\n",
    "                c1, c2 = random.sample(idx, 2)\n",
    "                individual[c1], individual[c2] = individual[c2], individual[c1]\n",
    "        return individual\n",
    "        \n",
    "        \n",
    "    def generate_next(self, population):\n",
    "        next_generation = population[:]\n",
    "        for i in range(10):\n",
    "            if len(population) <= 2:\n",
    "                break\n",
    "            if self.crossover_prob > np.random.uniform():\n",
    "                parent_a = population.pop(random.randrange(0, len(population)))\n",
    "                parent_b = population.pop(random.randrange(0, len(population)))\n",
    "                child = self.permutation_cross_over(parent_a, parent_b)\n",
    "                child = self.mutate(child)\n",
    "                next_generation.append(child)\n",
    "        \n",
    "        return next_generation\n",
    "    \n",
    "    def select(self, population):\n",
    "        score_board = []\n",
    "        for individual in population:\n",
    "            score = self.problem.evaluate(individual)\n",
    "            self.update_global(score, individual)\n",
    "            score_board.append( [score, individual] )\n",
    "        score_board.sort(key=lambda x: x[0], reverse=True)\n",
    "        scores = [x[0] for x in score_board]\n",
    "        score_board = [x[1] for x in score_board]\n",
    "\n",
    "        self.converge_history.append(np.average(scores[:self.population_size]))\n",
    "\n",
    "        next_gen = score_board[:self.population_size]\n",
    "        if self.adaptive and np.var(scores) < self.converge_threshold:\n",
    "            for i in range(self.population_size//2, self.population_size):\n",
    "                random.shuffle(next_gen[i])\n",
    "        if self.adaptive:\n",
    "            self.fitness_level = np.var(scores)\n",
    "        \n",
    "        return next_gen\n",
    "                \n",
    "    def solve(self, problem):\n",
    "        self.problem = problem\n",
    "        for _ in range(self.population_size):\n",
    "            individual = problem.get_initial_soluton()\n",
    "            score = problem.evaluate(individual)\n",
    "            self.update_global( score, individual)\n",
    "            self.population.append(individual)\n",
    "        for geneartion in tqdm(range(self.max_geneartions)):\n",
    "            next_population_candidates = self.generate_next(self.population)\n",
    "            self.population = self.select(next_population_candidates)\n",
    "            self.score_history.append(self.global_score)\n",
    "        return geneartion"
   ]
  },
  {
   "cell_type": "markdown",
   "metadata": {},
   "source": [
    "## Adaptive GA Solver\n",
    "\n",
    "Adaptive variant of GA Solver"
   ]
  },
  {
   "cell_type": "code",
   "execution_count": 48,
   "metadata": {},
   "outputs": [],
   "source": [
    "import numpy as np\n",
    "\n",
    "class AdaptiveGeneticAlgorithmSolver:\n",
    "    def __init__(self, population_size=20):\n",
    "        \n",
    "        self.global_solution = None\n",
    "        self.global_score = float('-inf')\n",
    "        \n",
    "        self.max_geneartions = 1000\n",
    "        self.population = []\n",
    "        self.population_size = population_size\n",
    "        self.problem = None\n",
    "        self.mutation_prob = 0.1\n",
    "        self.crossover_prob = 0.7\n",
    "\n",
    "        self.adaptive = True\n",
    "        self.converge_threshold = 0.1\n",
    "        self.fitness_level = 1.0\n",
    "        \n",
    "        self.score_history = []\n",
    "        self.converge_history = []\n",
    "        self.terminate_threshold = float('-inf')\n",
    "        \n",
    "        \n",
    "    def reset(self):\n",
    "        population_size = self.population_size\n",
    "        self.__init__(population_size)\n",
    "        \n",
    "        \n",
    "        \n",
    "    def update_global(self, score, solution):\n",
    "        if score > self.global_score:\n",
    "            self.global_solution = solution\n",
    "            self.global_score = score\n",
    "            \n",
    "    \n",
    "    def pmx(self, a, b):\n",
    "        c = [None] * len(a)\n",
    "        start = random.randint(0, len(a)//2 - 1)\n",
    "        kept_idx = set([i for i in range(start, start+len(a)//2)])\n",
    "        kept_val = {a[i] for i in kept_idx}\n",
    "        for i in kept_idx:\n",
    "            c[i] = a[i]\n",
    "            if b[i] in kept_val:\n",
    "                continue\n",
    "            val = a[i]\n",
    "            j = b.index(val)\n",
    "            while j in kept_idx:\n",
    "                val = a[j]\n",
    "                j = b.index(val)          \n",
    "            c[j] = b[i]\n",
    "        for i in range(len(c)):\n",
    "            if c[i] is None:\n",
    "                c[i] = b[i]\n",
    "        return c\n",
    "        \n",
    "        \n",
    "    def permutation_cross_over(self, a, b, mode='pmx'):\n",
    "        if mode == 'pmx':\n",
    "            child = self.pmx(a, b)\n",
    "        return child\n",
    "    \n",
    "    def mutate(self, individual):\n",
    "        if self.adaptive:\n",
    "            mutation_prob = self.mutation_prob * ( 1.0 / (self.fitness_level + 1e-2) )\n",
    "        else:\n",
    "            mutation_prob = self.mutation_prob\n",
    "            \n",
    "        if mutation_prob > np.random.uniform():\n",
    "            for i in range( int( 1 + 1.0 / (self.fitness_level + 1e-2) ) ):\n",
    "                idx = range(len(individual))\n",
    "                c1, c2 = random.sample(idx, 2)\n",
    "                individual[c1], individual[c2] = individual[c2], individual[c1]\n",
    "        return individual\n",
    "        \n",
    "        \n",
    "    def generate_next(self, population):\n",
    "        next_generation = population[:]\n",
    "        for i in range(10):\n",
    "            if len(population) <= 2:\n",
    "                break\n",
    "            if self.crossover_prob > np.random.uniform():\n",
    "                parent_a = population.pop(random.randrange(0, len(population)))\n",
    "                parent_b = population.pop(random.randrange(0, len(population)))\n",
    "                child = self.permutation_cross_over(parent_a, parent_b)\n",
    "                child = self.mutate(child)\n",
    "                next_generation.append(child)\n",
    "        \n",
    "        return next_generation\n",
    "    \n",
    "    def select(self, population):\n",
    "        score_board = []\n",
    "        for individual in population:\n",
    "            score = self.problem.evaluate(individual)\n",
    "            self.update_global(score, individual)\n",
    "            score_board.append( [score, individual] )\n",
    "        score_board.sort(key=lambda x: x[0], reverse=True)\n",
    "        scores = [x[0] for x in score_board]\n",
    "        score_board = [x[1] for x in score_board]\n",
    "        self.converge_history.append(np.average(scores[:self.population_size]))\n",
    "        next_gen = score_board[:self.population_size]\n",
    "        if self.adaptive and np.var(scores) < self.converge_threshold:\n",
    "            for i in range(self.population_size//2, self.population_size):\n",
    "                random.shuffle(next_gen[i])\n",
    "        if self.adaptive:\n",
    "            self.fitness_level = np.var(scores)\n",
    "        \n",
    "        return next_gen\n",
    "                \n",
    "    def solve(self, problem):\n",
    "        self.problem = problem\n",
    "        for _ in range(self.population_size):\n",
    "            individual = problem.get_initial_soluton()\n",
    "            score = problem.evaluate(individual)\n",
    "            self.update_global( score, individual)\n",
    "            self.population.append(individual)\n",
    "        for geneartion in tqdm(range(self.max_geneartions)):\n",
    "            next_population_candidates = self.generate_next(self.population)\n",
    "            self.population = self.select(next_population_candidates)\n",
    "            self.score_history.append(self.global_score)\n",
    "        return geneartion"
   ]
  },
  {
   "cell_type": "markdown",
   "metadata": {},
   "source": [
    "## ABC Solver\n",
    "\n",
    "Solution class for Artificial Bee Colony Solver"
   ]
  },
  {
   "cell_type": "code",
   "execution_count": 49,
   "metadata": {},
   "outputs": [],
   "source": [
    "class AritificalBeeColonySolver:\n",
    "    def __init__(self, population_size=20):\n",
    "        \n",
    "        self.global_solution = None\n",
    "        self.global_score = float('-inf')\n",
    "        \n",
    "        self.max_iterations = 1000\n",
    "        self.num_of_bees = population_size\n",
    "        self.food_sources = []\n",
    "        self.food_source_size = self.num_of_bees // 2\n",
    "        \n",
    "        self.improvement_histories = []\n",
    "        self.problem = None\n",
    "        self.pairs = None\n",
    "        \n",
    "        self.score_history = []\n",
    "        self.converge_history = []\n",
    "        self.terminate_threshold = float('-inf')\n",
    "        \n",
    "        \n",
    "    def reset(self):\n",
    "        population_size = self.num_of_bees\n",
    "        self.__init__(population_size)\n",
    "        \n",
    "        \n",
    "    def update_global(self, score, solution):\n",
    "        if score > self.global_score:\n",
    "            self.global_solution = solution\n",
    "            self.global_score = score\n",
    "      \n",
    "    def move_around(self, source):\n",
    "        for i in range(10):\n",
    "            i, j = random.sample(range(len(source)), 2)\n",
    "            source[i], source[j] = source[j], source[i]\n",
    "        return source\n",
    "    \n",
    "    def employ_bee_update(self, source_id):\n",
    "        source = self.food_sources[source_id]\n",
    "        neighbour = self.move_around(source)\n",
    "        diff = self.evaluate(neighbour) - self.problem.evaluate(source)\n",
    "        self.improvement_histories[source_id].append(diff > 0)\n",
    "        if diff > 0:\n",
    "            return neighbour\n",
    "        return source\n",
    "    \n",
    "    def get_abandoned(self):\n",
    "        abandoned = []\n",
    "        for i, improvement_history in enumerate(self.improvement_histories):\n",
    "            if len(improvement_history) > 10:\n",
    "                if sum(improvement_history[-10:]) / 10 <= 0.4:\n",
    "                    abandoned.append(i)\n",
    "        return abandoned\n",
    "    \n",
    "    def scout_bee_update(self, source_id):\n",
    "        random.shuffle(self.food_sources[source_id])\n",
    "        self.evaluate(self.food_sources[source_id])\n",
    "        self.improvement_histories[source_id] = [True]\n",
    "        return self.food_sources[source_id]\n",
    "    \n",
    "    def evaluate(self, solution):\n",
    "        score = self.problem.evaluate(solution)\n",
    "        self.update_global(score, solution)\n",
    "        return score\n",
    "                    \n",
    "                \n",
    "    def solve(self, problem):\n",
    "        self.problem = problem\n",
    "        for _ in range(self.food_source_size):\n",
    "            food_source = problem.get_initial_soluton()\n",
    "            self.evaluate(food_source)\n",
    "            self.food_sources.append(food_source)\n",
    "            self.improvement_histories.append([True])\n",
    "        for iteration in tqdm(range(self.max_iterations)):\n",
    "            for i in range(self.num_of_bees // 2):\n",
    "                self.food_sources[i] = self.employ_bee_update(i)\n",
    "                \n",
    "            for _ in range(self.num_of_bees // 2):\n",
    "                scores = [ self.evaluate(source) for source in self.food_sources ]\n",
    "                distribution = [ s / sum(scores) for s in scores ]\n",
    "                i = random.choices(range(0, self.food_source_size), k=1, weights=distribution)[0]\n",
    "                self.food_sources[i] = self.employ_bee_update(i)\n",
    "            \n",
    "            self.converge_history.append(np.average(scores))\n",
    "\n",
    "            for i in self.get_abandoned():\n",
    "                self.food_sources[i] = self.scout_bee_update(i)\n",
    "            self.score_history.append(self.global_score)\n",
    "            if len(self.score_history) > 10:\n",
    "                if np.var(self.score_history[-10:]) < self.terminate_threshold:\n",
    "                    break\n",
    "        return iteration"
   ]
  },
  {
   "cell_type": "markdown",
   "metadata": {},
   "source": [
    "## Solving the Problem\n",
    "\n",
    "We can solve the problem using different algorithms and compare the results.\n",
    "\n",
    "For this case, we will assume the following parameters:"
   ]
  },
  {
   "cell_type": "code",
   "execution_count": 50,
   "metadata": {},
   "outputs": [],
   "source": [
    "p = Problem(use_soft_constraint=True,alpha=1e-5, number_of_tour=2)"
   ]
  },
  {
   "cell_type": "markdown",
   "metadata": {},
   "source": [
    "### GA Solution\n",
    "\n",
    "This implementation seeks to produce two tours, using the Genetic Algorithm Solver."
   ]
  },
  {
   "cell_type": "code",
   "execution_count": 51,
   "metadata": {},
   "outputs": [
    {
     "data": {
      "application/vnd.jupyter.widget-view+json": {
       "model_id": "fbdf80b60d224fc8b62a3f72961ffa22",
       "version_major": 2,
       "version_minor": 0
      },
      "text/plain": [
       "  0%|          | 0/1000 [00:00<?, ?it/s]"
      ]
     },
     "metadata": {},
     "output_type": "display_data"
    }
   ],
   "source": [
    "# defaults are max_generations = 1000, population_size = 20\n",
    "ga = GeneticAlgorithmSolver()\n",
    "ga.solve(p)\n",
    "sol = p.gaint_tour_decode([p.id_pois_map[i] for i in ga.global_solution])"
   ]
  },
  {
   "cell_type": "markdown",
   "metadata": {},
   "source": [
    "#### Visualizing Results"
   ]
  },
  {
   "cell_type": "code",
   "execution_count": 52,
   "metadata": {},
   "outputs": [
    {
     "ename": "NameError",
     "evalue": "name 'loc' is not defined",
     "output_type": "error",
     "traceback": [
      "\u001b[0;31m---------------------------------------------------------------------------\u001b[0m",
      "\u001b[0;31mNameError\u001b[0m                                 Traceback (most recent call last)",
      "\u001b[0;32m/tmp/ipykernel_4124/3014936520.py\u001b[0m in \u001b[0;36m<module>\u001b[0;34m\u001b[0m\n\u001b[0;32m----> 1\u001b[0;31m \u001b[0mProblem\u001b[0m\u001b[0;34m.\u001b[0m\u001b[0mdraw_tours\u001b[0m\u001b[0;34m(\u001b[0m\u001b[0msol\u001b[0m\u001b[0;34m)\u001b[0m\u001b[0;34m\u001b[0m\u001b[0;34m\u001b[0m\u001b[0m\n\u001b[0m",
      "\u001b[0;32m/tmp/ipykernel_4124/703988465.py\u001b[0m in \u001b[0;36mdraw_tours\u001b[0;34m(tours)\u001b[0m\n\u001b[1;32m    128\u001b[0m                 \u001b[0;32mif\u001b[0m \u001b[0mi\u001b[0m \u001b[0;34m==\u001b[0m \u001b[0mlen\u001b[0m\u001b[0;34m(\u001b[0m\u001b[0mtour\u001b[0m\u001b[0;34m)\u001b[0m \u001b[0;34m-\u001b[0m \u001b[0;36m1\u001b[0m\u001b[0;34m:\u001b[0m\u001b[0;34m\u001b[0m\u001b[0;34m\u001b[0m\u001b[0m\n\u001b[1;32m    129\u001b[0m                     \u001b[0mi\u001b[0m \u001b[0;34m=\u001b[0m \u001b[0;36m0\u001b[0m\u001b[0;34m\u001b[0m\u001b[0;34m\u001b[0m\u001b[0m\n\u001b[0;32m--> 130\u001b[0;31m                 \u001b[0mfolium\u001b[0m\u001b[0;34m.\u001b[0m\u001b[0mMarker\u001b[0m\u001b[0;34m(\u001b[0m\u001b[0mlocation\u001b[0m\u001b[0;34m=\u001b[0m\u001b[0mloc\u001b[0m\u001b[0;34m,\u001b[0m \u001b[0micon\u001b[0m\u001b[0;34m=\u001b[0m\u001b[0mfolium\u001b[0m\u001b[0;34m.\u001b[0m\u001b[0mIcon\u001b[0m\u001b[0;34m(\u001b[0m\u001b[0mcolor\u001b[0m\u001b[0;34m=\u001b[0m\u001b[0;34m'white'\u001b[0m\u001b[0;34m,\u001b[0m \u001b[0micon_color\u001b[0m\u001b[0;34m=\u001b[0m\u001b[0;34m'white'\u001b[0m\u001b[0;34m)\u001b[0m\u001b[0;34m)\u001b[0m\u001b[0;34m.\u001b[0m\u001b[0madd_to\u001b[0m\u001b[0;34m(\u001b[0m\u001b[0mm\u001b[0m\u001b[0;34m)\u001b[0m\u001b[0;34m\u001b[0m\u001b[0;34m\u001b[0m\u001b[0m\n\u001b[0m\u001b[1;32m    131\u001b[0m                 \u001b[0mfolium\u001b[0m\u001b[0;34m.\u001b[0m\u001b[0mMarker\u001b[0m\u001b[0;34m(\u001b[0m\u001b[0mlocation\u001b[0m\u001b[0;34m=\u001b[0m\u001b[0mlist\u001b[0m\u001b[0;34m(\u001b[0m\u001b[0mv\u001b[0m\u001b[0;34m.\u001b[0m\u001b[0mcoordinates\u001b[0m\u001b[0;34m)\u001b[0m\u001b[0;34m[\u001b[0m\u001b[0;34m:\u001b[0m\u001b[0;34m:\u001b[0m\u001b[0;34m-\u001b[0m\u001b[0;36m1\u001b[0m\u001b[0;34m]\u001b[0m\u001b[0;34m,\u001b[0m  \u001b[0micon\u001b[0m\u001b[0;34m=\u001b[0m\u001b[0mnumber_DivIcon\u001b[0m\u001b[0;34m(\u001b[0m\u001b[0mcolor\u001b[0m\u001b[0;34m,\u001b[0m\u001b[0mi\u001b[0m\u001b[0;34m)\u001b[0m\u001b[0;34m)\u001b[0m\u001b[0;34m.\u001b[0m\u001b[0madd_to\u001b[0m\u001b[0;34m(\u001b[0m\u001b[0mm\u001b[0m\u001b[0;34m)\u001b[0m\u001b[0;34m\u001b[0m\u001b[0;34m\u001b[0m\u001b[0m\n\u001b[1;32m    132\u001b[0m                 \u001b[0mr\u001b[0m \u001b[0;34m=\u001b[0m \u001b[0mu\u001b[0m\u001b[0;34m.\u001b[0m\u001b[0mroute_to\u001b[0m\u001b[0;34m(\u001b[0m\u001b[0mv\u001b[0m\u001b[0;34m)\u001b[0m\u001b[0;34m[\u001b[0m\u001b[0;34m'coords'\u001b[0m\u001b[0;34m]\u001b[0m\u001b[0;34m\u001b[0m\u001b[0;34m\u001b[0m\u001b[0m\n",
      "\u001b[0;31mNameError\u001b[0m: name 'loc' is not defined"
     ]
    }
   ],
   "source": [
    "Problem.draw_tours(sol)"
   ]
  },
  {
   "cell_type": "code",
   "execution_count": null,
   "metadata": {},
   "outputs": [
    {
     "name": "stdout",
     "output_type": "stream",
     "text": [
      "The final solution has a score of 38.348292\n"
     ]
    },
    {
     "data": {
      "image/png": "[encoded data removed]",
      "text/plain": [
       "<Figure size 432x288 with 1 Axes>"
      ]
     },
     "metadata": {
      "needs_background": "light"
     },
     "output_type": "display_data"
    }
   ],
   "source": [
    "data = ga.converge_history\n",
    "plt.plot(list(range(len(data))),data)\n",
    "plt.title('Convergence process of GA')\n",
    "plt.xlabel('iteration')\n",
    "plt.ylabel('pop. score')\n",
    "print('The final solution has a score of', str(ga.global_score))"
   ]
  },
  {
   "cell_type": "markdown",
   "metadata": {},
   "source": [
    "### Adaptive GA Solution"
   ]
  },
  {
   "cell_type": "code",
   "execution_count": null,
   "metadata": {},
   "outputs": [
    {
     "name": "stderr",
     "output_type": "stream",
     "text": [
      "100%|██████████| 1000/1000 [00:01<00:00, 511.04it/s]\n"
     ]
    }
   ],
   "source": [
    "# defaults are max_generations = 1000, population_size = 20\n",
    "aga = AdaptiveGeneticAlgorithmSolver()\n",
    "aga.solve(p)\n",
    "sol = p.gaint_tour_decode([p.id_pois_map[i] for i in  aga.global_solution])"
   ]
  },
  {
   "cell_type": "markdown",
   "metadata": {},
   "source": [
    "#### Visualizing Results"
   ]
  },
  {
   "cell_type": "code",
   "execution_count": null,
   "metadata": {},
   "outputs": [
    {
     "data": {
      "text/html": [
       "<div style=\"width:100%;\"><div style=\"position:relative;width:100%;height:0;padding-bottom:60%;\"><span style=\"color:#565656\">Make this Notebook Trusted to load map: File -> Trust Notebook</span><iframe src=\"about:blank\" style=\"position:absolute;width:100%;height:100%;left:0;top:0;border:none !important;\" data-html=%3C%21DOCTYPE%20html%3E%0A%3Chead%3E%20%20%20%20%0A%20%20%20%20%3Cmeta%20http-equiv%3D%22content-type%22%20content%3D%22text/html%3B%20charset%3DUTF-8%22%20/%3E%0A%20%20%20%20%0A%20%20%20%20%20%20%20%20%3Cscript%3E%0A%20%20%20%20%20%20%20%20%20%20%20%20L_NO_TOUCH%20%3D%20false%3B%0A%20%20%20%20%20%20%20%20%20%20%20%20L_DISABLE_3D%20%3D%20false%3B%0A%20%20%20%20%20%20%20%20%3C/script%3E%0A%20%20%20%20%0A%20%20%20%20%3Cstyle%3Ehtml%2C%20body%20%7Bwidth%3A%20100%25%3Bheight%3A%20100%25%3Bmargin%3A%200%3Bpadding%3A%200%3B%7D%3C/style%3E%0A%20%20%20%20%3Cstyle%3E%23map%20%7Bposition%3Aabsolute%3Btop%3A0%3Bbottom%3A0%3Bright%3A0%3Bleft%3A0%3B%7D%3C/style%3E%0A%20%20%20%20%3Cscript%20src%3D%22https%3A//cdn.jsdelivr.net/npm/leaflet%401.6.0/dist/leaflet.js%22%3E%3C/script%3E%0A%20%20%20%20%3Cscript%20src%3D%22https%3A//code.jquery.com/jquery-1.12.4.min.js%22%3E%3C/script%3E%0A%20%20%20%20%3Cscript%20src%3D%22https%3A//maxcdn.bootstrapcdn.com/bootstrap/3.2.0/js/bootstrap.min.js%22%3E%3C/script%3E%0A%20%20%20%20%3Cscript%20src%3D%22https%3A//cdnjs.cloudflare.com/ajax/libs/Leaflet.awesome-markers/2.0.2/leaflet.awesome-markers.js%22%3E%3C/script%3E%0A%20%20%20%20%3Clink%20rel%3D%22stylesheet%22%20href%3D%22https%3A//cdn.jsdelivr.net/npm/leaflet%401.6.0/dist/leaflet.css%22/%3E%0A%20%20%20%20%3Clink%20rel%3D%22stylesheet%22%20href%3D%22https%3A//maxcdn.bootstrapcdn.com/bootstrap/3.2.0/css/bootstrap.min.css%22/%3E%0A%20%20%20%20%3Clink%20rel%3D%22stylesheet%22%20href%3D%22https%3A//maxcdn.bootstrapcdn.com/bootstrap/3.2.0/css/bootstrap-theme.min.css%22/%3E%0A%20%20%20%20%3Clink%20rel%3D%22stylesheet%22%20href%3D%22https%3A//maxcdn.bootstrapcdn.com/font-awesome/4.6.3/css/font-awesome.min.css%22/%3E%0A%20%20%20%20%3Clink%20rel%3D%22stylesheet%22%20href%3D%22https%3A//cdnjs.cloudflare.com/ajax/libs/Leaflet.awesome-markers/2.0.2/leaflet.awesome-markers.css%22/%3E%0A%20%20%20%20%3Clink%20rel%3D%22stylesheet%22%20href%3D%22https%3A//cdn.jsdelivr.net/gh/python-visualization/folium/folium/templates/leaflet.awesome.rotate.min.css%22/%3E%0A%20%20%20%20%0A%20%20%20%20%20%20%20%20%20%20%20%20%3Cmeta%20name%3D%22viewport%22%20content%3D%22width%3Ddevice-width%2C%0A%20%20%20%20%20%20%20%20%20%20%20%20%20%20%20%20initial-scale%3D1.0%2C%20maximum-scale%3D1.0%2C%20user-scalable%3Dno%22%20/%3E%0A%20%20%20%20%20%20%20%20%20%20%20%20%3Cstyle%3E%0A%20%20%20%20%20%20%20%20%20%20%20%20%20%20%20%20%23map_c1bddb3b59fd4c87b379bca1fbd4d313%20%7B%0A%20%20%20%20%20%20%20%20%20%20%20%20%20%20%20%20%20%20%20%20position%3A%20relative%3B%0A%20%20%20%20%20%20%20%20%20%20%20%20%20%20%20%20%20%20%20%20width%3A%20100.0%25%3B%0A%20%20%20%20%20%20%20%20%20%20%20%20%20%20%20%20%20%20%20%20height%3A%20100.0%25%3B%0A%20%20%20%20%20%20%20%20%20%20%20%20%20%20%20%20%20%20%20%20left%3A%200.0%25%3B%0A%20%20%20%20%20%20%20%20%20%20%20%20%20%20%20%20%20%20%20%20top%3A%200.0%25%3B%0A%20%20%20%20%20%20%20%20%20%20%20%20%20%20%20%20%7D%0A%20%20%20%20%20%20%20%20%20%20%20%20%3C/style%3E%0A%20%20%20%20%20%20%20%20%0A%20%20%20%20%3Cscript%20src%3D%22https%3A//cdn.jsdelivr.net/npm/leaflet-ant-path%401.1.2/dist/leaflet-ant-path.min.js%22%3E%3C/script%3E%0A%3C/head%3E%0A%3Cbody%3E%20%20%20%20%0A%20%20%20%20%0A%20%20%20%20%20%20%20%20%20%20%20%20%3Cdiv%20class%3D%22folium-map%22%20id%3D%22map_c1bddb3b59fd4c87b379bca1fbd4d313%22%20%3E%3C/div%3E%0A%20%20%20%20%20%20%20%20%0A%3C/body%3E%0A%3Cscript%3E%20%20%20%20%0A%20%20%20%20%0A%20%20%20%20%20%20%20%20%20%20%20%20var%20map_c1bddb3b59fd4c87b379bca1fbd4d313%20%3D%20L.map%28%0A%20%20%20%20%20%20%20%20%20%20%20%20%20%20%20%20%22map_c1bddb3b59fd4c87b379bca1fbd4d313%22%2C%0A%20%20%20%20%20%20%20%20%20%20%20%20%20%20%20%20%7B%0A%20%20%20%20%20%20%20%20%20%20%20%20%20%20%20%20%20%20%20%20center%3A%20%5B0%2C%200%5D%2C%0A%20%20%20%20%20%20%20%20%20%20%20%20%20%20%20%20%20%20%20%20crs%3A%20L.CRS.EPSG3857%2C%0A%20%20%20%20%20%20%20%20%20%20%20%20%20%20%20%20%20%20%20%20zoom%3A%201%2C%0A%20%20%20%20%20%20%20%20%20%20%20%20%20%20%20%20%20%20%20%20zoomControl%3A%20true%2C%0A%20%20%20%20%20%20%20%20%20%20%20%20%20%20%20%20%20%20%20%20preferCanvas%3A%20false%2C%0A%20%20%20%20%20%20%20%20%20%20%20%20%20%20%20%20%7D%0A%20%20%20%20%20%20%20%20%20%20%20%20%29%3B%0A%0A%20%20%20%20%20%20%20%20%20%20%20%20%0A%0A%20%20%20%20%20%20%20%20%0A%20%20%20%20%0A%20%20%20%20%20%20%20%20%20%20%20%20var%20tile_layer_271b58c0a18b48ccbc08a9ad7fff0447%20%3D%20L.tileLayer%28%0A%20%20%20%20%20%20%20%20%20%20%20%20%20%20%20%20%22https%3A//%7Bs%7D.tile.openstreetmap.org/%7Bz%7D/%7Bx%7D/%7By%7D.png%22%2C%0A%20%20%20%20%20%20%20%20%20%20%20%20%20%20%20%20%7B%22attribution%22%3A%20%22Data%20by%20%5Cu0026copy%3B%20%5Cu003ca%20href%3D%5C%22http%3A//openstreetmap.org%5C%22%5Cu003eOpenStreetMap%5Cu003c/a%5Cu003e%2C%20under%20%5Cu003ca%20href%3D%5C%22http%3A//www.openstreetmap.org/copyright%5C%22%5Cu003eODbL%5Cu003c/a%5Cu003e.%22%2C%20%22detectRetina%22%3A%20false%2C%20%22maxNativeZoom%22%3A%2018%2C%20%22maxZoom%22%3A%2018%2C%20%22minZoom%22%3A%200%2C%20%22noWrap%22%3A%20false%2C%20%22opacity%22%3A%201%2C%20%22subdomains%22%3A%20%22abc%22%2C%20%22tms%22%3A%20false%7D%0A%20%20%20%20%20%20%20%20%20%20%20%20%29.addTo%28map_c1bddb3b59fd4c87b379bca1fbd4d313%29%3B%0A%20%20%20%20%20%20%20%20%0A%20%20%20%20%0A%20%20%20%20%20%20%20%20%20%20%20%20map_c1bddb3b59fd4c87b379bca1fbd4d313.fitBounds%28%0A%20%20%20%20%20%20%20%20%20%20%20%20%20%20%20%20%5B%5B%5B43.6536066%2C%20-79.39251229999999%5D%2C%20%5B43.665581%2C%20-79.3971596%5D%5D%2C%20%5B%5B43.6864006%2C%20-79.3602927%5D%2C%20%5B43.6864006%2C%20-79.3602927%5D%5D%5D%2C%0A%20%20%20%20%20%20%20%20%20%20%20%20%20%20%20%20%7B%7D%0A%20%20%20%20%20%20%20%20%20%20%20%20%29%3B%0A%20%20%20%20%20%20%20%20%0A%20%20%20%20%0A%20%20%20%20%20%20%20%20%20%20%20%20var%20marker_2783bda2e4514bb2ae80b867f2e7403c%20%3D%20L.marker%28%0A%20%20%20%20%20%20%20%20%20%20%20%20%20%20%20%20%5B43.646771%2C%20-79.3853839%5D%2C%0A%20%20%20%20%20%20%20%20%20%20%20%20%20%20%20%20%7B%7D%0A%20%20%20%20%20%20%20%20%20%20%20%20%29.addTo%28map_c1bddb3b59fd4c87b379bca1fbd4d313%29%3B%0A%20%20%20%20%20%20%20%20%0A%20%20%20%20%0A%20%20%20%20%20%20%20%20%20%20%20%20var%20div_icon_3fc5c9c0ec3a4bc0b356263ecdc20794%20%3D%20L.divIcon%28%7B%22className%22%3A%20%22empty%22%2C%20%22html%22%3A%20%22%5Cu003cspan%20class%3D%5C%22fa-stack%20%5C%22%20style%3D%5C%22font-size%3A%2012pt%5C%22%20%5Cu003e%5Cn%20%20%20%20%20%20%20%20%20%20%20%20%20%20%20%20%20%20%20%20%5Cu003cspan%20class%3D%5C%22fa%20fa-circle-o%20fa-stack-2x%5C%22%20style%3D%5C%22color%20%3A%20blue%5C%22%5Cu003e%5Cu003c/span%5Cu003e%5Cn%20%20%20%20%20%20%20%20%20%20%20%20%20%20%20%20%20%20%20%20%5Cu003cstrong%20class%3D%5C%22fa-stack-1x%5C%22%5Cu003e%5Cn%20%20%20%20%20%20%20%20%20%20%20%20%20%20%20%20%20%20%20%20%20%20%20%20%201%20%20%5Cn%20%20%20%20%20%20%20%20%20%20%20%20%20%20%20%20%20%20%20%20%5Cu003c/strong%5Cu003e%5Cn%20%20%20%20%20%20%20%20%20%20%20%20%20%20%20%20%5Cu003c/span%5Cu003e%22%2C%20%22iconAnchor%22%3A%20%5B12%2C%2040%5D%2C%20%22iconSize%22%3A%20%5B150%2C%2036%5D%7D%29%3B%0A%20%20%20%20%20%20%20%20%20%20%20%20marker_2783bda2e4514bb2ae80b867f2e7403c.setIcon%28div_icon_3fc5c9c0ec3a4bc0b356263ecdc20794%29%3B%0A%20%20%20%20%20%20%20%20%0A%20%20%20%20%0A%20%20%20%20%20%20%20%20%20%20%20%20var%20marker_4395514f86954064ad6fc027c37cdc75%20%3D%20L.marker%28%0A%20%20%20%20%20%20%20%20%20%20%20%20%20%20%20%20%5B43.6621271%2C%20-79.402118%5D%2C%0A%20%20%20%20%20%20%20%20%20%20%20%20%20%20%20%20%7B%7D%0A%20%20%20%20%20%20%20%20%20%20%20%20%29.addTo%28map_c1bddb3b59fd4c87b379bca1fbd4d313%29%3B%0A%20%20%20%20%20%20%20%20%0A%20%20%20%20%0A%20%20%20%20%20%20%20%20%20%20%20%20var%20div_icon_5052373fe26241e2befce748d66f393f%20%3D%20L.divIcon%28%7B%22className%22%3A%20%22empty%22%2C%20%22html%22%3A%20%22%5Cu003cspan%20class%3D%5C%22fa-stack%20%5C%22%20style%3D%5C%22font-size%3A%2012pt%5C%22%20%5Cu003e%5Cn%20%20%20%20%20%20%20%20%20%20%20%20%20%20%20%20%20%20%20%20%5Cu003cspan%20class%3D%5C%22fa%20fa-circle-o%20fa-stack-2x%5C%22%20style%3D%5C%22color%20%3A%20blue%5C%22%5Cu003e%5Cu003c/span%5Cu003e%5Cn%20%20%20%20%20%20%20%20%20%20%20%20%20%20%20%20%20%20%20%20%5Cu003cstrong%20class%3D%5C%22fa-stack-1x%5C%22%5Cu003e%5Cn%20%20%20%20%20%20%20%20%20%20%20%20%20%20%20%20%20%20%20%20%20%20%20%20%202%20%20%5Cn%20%20%20%20%20%20%20%20%20%20%20%20%20%20%20%20%20%20%20%20%5Cu003c/strong%5Cu003e%5Cn%20%20%20%20%20%20%20%20%20%20%20%20%20%20%20%20%5Cu003c/span%5Cu003e%22%2C%20%22iconAnchor%22%3A%20%5B12%2C%2040%5D%2C%20%22iconSize%22%3A%20%5B150%2C%2036%5D%7D%29%3B%0A%20%20%20%20%20%20%20%20%20%20%20%20marker_4395514f86954064ad6fc027c37cdc75.setIcon%28div_icon_5052373fe26241e2befce748d66f393f%29%3B%0A%20%20%20%20%20%20%20%20%0A%20%20%20%20%0A%20%20%20%20%20%20%20%20%20%20%20%20var%20marker_cd47443ec6e24d4698357ceeef67aa70%20%3D%20L.marker%28%0A%20%20%20%20%20%20%20%20%20%20%20%20%20%20%20%20%5B43.6431207%2C%20-79.4232609%5D%2C%0A%20%20%20%20%20%20%20%20%20%20%20%20%20%20%20%20%7B%7D%0A%20%20%20%20%20%20%20%20%20%20%20%20%29.addTo%28map_c1bddb3b59fd4c87b379bca1fbd4d313%29%3B%0A%20%20%20%20%20%20%20%20%0A%20%20%20%20%0A%20%20%20%20%20%20%20%20%20%20%20%20var%20div_icon_ae67f808f0a3489d93c827fc8d3a7b48%20%3D%20L.divIcon%28%7B%22className%22%3A%20%22empty%22%2C%20%22html%22%3A%20%22%5Cu003cspan%20class%3D%5C%22fa-stack%20%5C%22%20style%3D%5C%22font-size%3A%2012pt%5C%22%20%5Cu003e%5Cn%20%20%20%20%20%20%20%20%20%20%20%20%20%20%20%20%20%20%20%20%5Cu003cspan%20class%3D%5C%22fa%20fa-circle-o%20fa-stack-2x%5C%22%20style%3D%5C%22color%20%3A%20blue%5C%22%5Cu003e%5Cu003c/span%5Cu003e%5Cn%20%20%20%20%20%20%20%20%20%20%20%20%20%20%20%20%20%20%20%20%5Cu003cstrong%20class%3D%5C%22fa-stack-1x%5C%22%5Cu003e%5Cn%20%20%20%20%20%20%20%20%20%20%20%20%20%20%20%20%20%20%20%20%20%20%20%20%203%20%20%5Cn%20%20%20%20%20%20%20%20%20%20%20%20%20%20%20%20%20%20%20%20%5Cu003c/strong%5Cu003e%5Cn%20%20%20%20%20%20%20%20%20%20%20%20%20%20%20%20%5Cu003c/span%5Cu003e%22%2C%20%22iconAnchor%22%3A%20%5B12%2C%2040%5D%2C%20%22iconSize%22%3A%20%5B150%2C%2036%5D%7D%29%3B%0A%20%20%20%20%20%20%20%20%20%20%20%20marker_cd47443ec6e24d4698357ceeef67aa70.setIcon%28div_icon_ae67f808f0a3489d93c827fc8d3a7b48%29%3B%0A%20%20%20%20%20%20%20%20%0A%20%20%20%20%0A%20%20%20%20%20%20%20%20%20%20%20%20var%20marker_4718608e6a964c7798aca7d477641f93%20%3D%20L.marker%28%0A%20%20%20%20%20%20%20%20%20%20%20%20%20%20%20%20%5B43.679786%2C%20-79.42392699999999%5D%2C%0A%20%20%20%20%20%20%20%20%20%20%20%20%20%20%20%20%7B%7D%0A%20%20%20%20%20%20%20%20%20%20%20%20%29.addTo%28map_c1bddb3b59fd4c87b379bca1fbd4d313%29%3B%0A%20%20%20%20%20%20%20%20%0A%20%20%20%20%0A%20%20%20%20%20%20%20%20%20%20%20%20var%20div_icon_cc49a1d6dcfa45b9931da6fe46858e2b%20%3D%20L.divIcon%28%7B%22className%22%3A%20%22empty%22%2C%20%22html%22%3A%20%22%5Cu003cspan%20class%3D%5C%22fa-stack%20%5C%22%20style%3D%5C%22font-size%3A%2012pt%5C%22%20%5Cu003e%5Cn%20%20%20%20%20%20%20%20%20%20%20%20%20%20%20%20%20%20%20%20%5Cu003cspan%20class%3D%5C%22fa%20fa-circle-o%20fa-stack-2x%5C%22%20style%3D%5C%22color%20%3A%20blue%5C%22%5Cu003e%5Cu003c/span%5Cu003e%5Cn%20%20%20%20%20%20%20%20%20%20%20%20%20%20%20%20%20%20%20%20%5Cu003cstrong%20class%3D%5C%22fa-stack-1x%5C%22%5Cu003e%5Cn%20%20%20%20%20%20%20%20%20%20%20%20%20%20%20%20%20%20%20%20%20%20%20%20%204%20%20%5Cn%20%20%20%20%20%20%20%20%20%20%20%20%20%20%20%20%20%20%20%20%5Cu003c/strong%5Cu003e%5Cn%20%20%20%20%20%20%20%20%20%20%20%20%20%20%20%20%5Cu003c/span%5Cu003e%22%2C%20%22iconAnchor%22%3A%20%5B12%2C%2040%5D%2C%20%22iconSize%22%3A%20%5B150%2C%2036%5D%7D%29%3B%0A%20%20%20%20%20%20%20%20%20%20%20%20marker_4718608e6a964c7798aca7d477641f93.setIcon%28div_icon_cc49a1d6dcfa45b9931da6fe46858e2b%29%3B%0A%20%20%20%20%20%20%20%20%0A%20%20%20%20%0A%20%20%20%20%20%20%20%20%20%20%20%20var%20marker_9c10b742479d4907969f0fcc57636a1b%20%3D%20L.marker%28%0A%20%20%20%20%20%20%20%20%20%20%20%20%20%20%20%20%5B43.6596%2C%20-79.3969%5D%2C%0A%20%20%20%20%20%20%20%20%20%20%20%20%20%20%20%20%7B%7D%0A%20%20%20%20%20%20%20%20%20%20%20%20%29.addTo%28map_c1bddb3b59fd4c87b379bca1fbd4d313%29%3B%0A%20%20%20%20%20%20%20%20%0A%20%20%20%20%0A%20%20%20%20%20%20%20%20%20%20%20%20var%20div_icon_efb5dd261e5e4800980fe2bd8a92d757%20%3D%20L.divIcon%28%7B%22className%22%3A%20%22empty%22%2C%20%22html%22%3A%20%22%5Cu003cspan%20class%3D%5C%22fa-stack%20%5C%22%20style%3D%5C%22font-size%3A%2012pt%5C%22%20%5Cu003e%5Cn%20%20%20%20%20%20%20%20%20%20%20%20%20%20%20%20%20%20%20%20%5Cu003cspan%20class%3D%5C%22fa%20fa-circle-o%20fa-stack-2x%5C%22%20style%3D%5C%22color%20%3A%20blue%5C%22%5Cu003e%5Cu003c/span%5Cu003e%5Cn%20%20%20%20%20%20%20%20%20%20%20%20%20%20%20%20%20%20%20%20%5Cu003cstrong%20class%3D%5C%22fa-stack-1x%5C%22%5Cu003e%5Cn%20%20%20%20%20%20%20%20%20%20%20%20%20%20%20%20%20%20%20%20%20%20%20%20%200%20%20%5Cn%20%20%20%20%20%20%20%20%20%20%20%20%20%20%20%20%20%20%20%20%5Cu003c/strong%5Cu003e%5Cn%20%20%20%20%20%20%20%20%20%20%20%20%20%20%20%20%5Cu003c/span%5Cu003e%22%2C%20%22iconAnchor%22%3A%20%5B12%2C%2040%5D%2C%20%22iconSize%22%3A%20%5B150%2C%2036%5D%7D%29%3B%0A%20%20%20%20%20%20%20%20%20%20%20%20marker_9c10b742479d4907969f0fcc57636a1b.setIcon%28div_icon_efb5dd261e5e4800980fe2bd8a92d757%29%3B%0A%20%20%20%20%20%20%20%20%0A%20%20%20%20%0A%20%20%20%20%20%20%20%20%20%20%20%20ant_path_b175e78a613a4e419803da8aadb412ec%20%3D%20L.polyline.antPath%28%0A%20%20%20%20%20%20%20%20%20%20%20%20%20%20%5B%5B%5B43.65966%2C%20-79.3966%5D%2C%20%5B43.658696%2C%20-79.395985%5D%2C%20%5B43.659199%2C%20-79.393501%5D%2C%20%5B43.655799%2C%20-79.392053%5D%2C%20%5B43.656302%2C%20-79.389103%5D%2C%20%5B43.646388%2C%20-79.384086%5D%2C%20%5B43.646231%2C%20-79.384877%5D%2C%20%5B43.646828%2C%20-79.385135%5D%2C%20%5B43.646828%2C%20-79.385135%5D%2C%20%5B43.646231%2C%20-79.384877%5D%2C%20%5B43.644448%2C%20-79.393126%5D%2C%20%5B43.644443%2C%20-79.394493%5D%2C%20%5B43.659186%2C%20-79.400229%5D%2C%20%5B43.660312%2C%20-79.400603%5D%2C%20%5B43.663094%2C%20-79.401995%5D%2C%20%5B43.662181%2C%20-79.401858%5D%2C%20%5B43.662181%2C%20-79.401858%5D%2C%20%5B43.660207%2C%20-79.401216%5D%2C%20%5B43.659066%2C%20-79.400726%5D%2C%20%5B43.64873%2C%20-79.396467%5D%2C%20%5B43.643289%2C%20-79.423325%5D%2C%20%5B43.643289%2C%20-79.423325%5D%2C%20%5B43.644165%2C%20-79.418849%5D%2C%20%5B43.67006%2C%20-79.429012%5D%2C%20%5B43.671625%2C%20-79.421531%5D%2C%20%5B43.68001%2C%20-79.425036%5D%2C%20%5B43.680257%2C%20-79.424119%5D%2C%20%5B43.680257%2C%20-79.424119%5D%2C%20%5B43.680528%2C%20-79.42284%5D%2C%20%5B43.680858%2C%20-79.422963%5D%2C%20%5B43.681811%2C%20-79.418362%5D%2C%20%5B43.681558%2C%20-79.418041%5D%2C%20%5B43.681124%2C%20-79.417503%5D%2C%20%5B43.661528%2C%20-79.409753%5D%2C%20%5B43.663497%2C%20-79.400045%5D%2C%20%5B43.66008%2C%20-79.39868%5D%2C%20%5B43.660444%2C%20-79.396925%5D%2C%20%5B43.65966%2C%20-79.3966%5D%5D%5D%2C%0A%20%20%20%20%20%20%20%20%20%20%20%20%20%20%7B%22bubblingMouseEvents%22%3A%20true%2C%20%22color%22%3A%20%22blue%22%2C%20%22dashArray%22%3A%20%5B1%2C%2010%5D%2C%20%22dashOffset%22%3A%20null%2C%20%22delay%22%3A%201000%2C%20%22fill%22%3A%20false%2C%20%22fillColor%22%3A%20%22blue%22%2C%20%22fillOpacity%22%3A%200.2%2C%20%22fillRule%22%3A%20%22evenodd%22%2C%20%22hardwareAcceleration%22%3A%20false%2C%20%22lineCap%22%3A%20%22round%22%2C%20%22lineJoin%22%3A%20%22round%22%2C%20%22noClip%22%3A%20false%2C%20%22opacity%22%3A%200.5%2C%20%22paused%22%3A%20false%2C%20%22pulseColor%22%3A%20%22%23FFFFFF%22%2C%20%22reverse%22%3A%20false%2C%20%22smoothFactor%22%3A%201.0%2C%20%22stroke%22%3A%20true%2C%20%22weight%22%3A%205%7D%0A%20%20%20%20%20%20%20%20%29.addTo%28map_c1bddb3b59fd4c87b379bca1fbd4d313%29%3B%0A%20%20%20%20%20%20%20%20%0A%20%20%20%20%0A%20%20%20%20%20%20%20%20%20%20%20%20var%20marker_65e7fae5e33b4fce964aeed2ae952d2e%20%3D%20L.marker%28%0A%20%20%20%20%20%20%20%20%20%20%20%20%20%20%20%20%5B43.665581%2C%20-79.3971596%5D%2C%0A%20%20%20%20%20%20%20%20%20%20%20%20%20%20%20%20%7B%7D%0A%20%20%20%20%20%20%20%20%20%20%20%20%29.addTo%28map_c1bddb3b59fd4c87b379bca1fbd4d313%29%3B%0A%20%20%20%20%20%20%20%20%0A%20%20%20%20%0A%20%20%20%20%20%20%20%20%20%20%20%20var%20div_icon_a0772394217d4a2180c3596848035573%20%3D%20L.divIcon%28%7B%22className%22%3A%20%22empty%22%2C%20%22html%22%3A%20%22%5Cu003cspan%20class%3D%5C%22fa-stack%20%5C%22%20style%3D%5C%22font-size%3A%2012pt%5C%22%20%5Cu003e%5Cn%20%20%20%20%20%20%20%20%20%20%20%20%20%20%20%20%20%20%20%20%5Cu003cspan%20class%3D%5C%22fa%20fa-circle-o%20fa-stack-2x%5C%22%20style%3D%5C%22color%20%3A%20red%5C%22%5Cu003e%5Cu003c/span%5Cu003e%5Cn%20%20%20%20%20%20%20%20%20%20%20%20%20%20%20%20%20%20%20%20%5Cu003cstrong%20class%3D%5C%22fa-stack-1x%5C%22%5Cu003e%5Cn%20%20%20%20%20%20%20%20%20%20%20%20%20%20%20%20%20%20%20%20%20%20%20%20%201%20%20%5Cn%20%20%20%20%20%20%20%20%20%20%20%20%20%20%20%20%20%20%20%20%5Cu003c/strong%5Cu003e%5Cn%20%20%20%20%20%20%20%20%20%20%20%20%20%20%20%20%5Cu003c/span%5Cu003e%22%2C%20%22iconAnchor%22%3A%20%5B12%2C%2040%5D%2C%20%22iconSize%22%3A%20%5B150%2C%2036%5D%7D%29%3B%0A%20%20%20%20%20%20%20%20%20%20%20%20marker_65e7fae5e33b4fce964aeed2ae952d2e.setIcon%28div_icon_a0772394217d4a2180c3596848035573%29%3B%0A%20%20%20%20%20%20%20%20%0A%20%20%20%20%0A%20%20%20%20%20%20%20%20%20%20%20%20var%20marker_c99bd2d766fc4c9981ba4bc3dd6a7226%20%3D%20L.marker%28%0A%20%20%20%20%20%20%20%20%20%20%20%20%20%20%20%20%5B43.6676717%2C%20-79.3961722%5D%2C%0A%20%20%20%20%20%20%20%20%20%20%20%20%20%20%20%20%7B%7D%0A%20%20%20%20%20%20%20%20%20%20%20%20%29.addTo%28map_c1bddb3b59fd4c87b379bca1fbd4d313%29%3B%0A%20%20%20%20%20%20%20%20%0A%20%20%20%20%0A%20%20%20%20%20%20%20%20%20%20%20%20var%20div_icon_f81978c5a8c440229f88d8a6aa84f72b%20%3D%20L.divIcon%28%7B%22className%22%3A%20%22empty%22%2C%20%22html%22%3A%20%22%5Cu003cspan%20class%3D%5C%22fa-stack%20%5C%22%20style%3D%5C%22font-size%3A%2012pt%5C%22%20%5Cu003e%5Cn%20%20%20%20%20%20%20%20%20%20%20%20%20%20%20%20%20%20%20%20%5Cu003cspan%20class%3D%5C%22fa%20fa-circle-o%20fa-stack-2x%5C%22%20style%3D%5C%22color%20%3A%20red%5C%22%5Cu003e%5Cu003c/span%5Cu003e%5Cn%20%20%20%20%20%20%20%20%20%20%20%20%20%20%20%20%20%20%20%20%5Cu003cstrong%20class%3D%5C%22fa-stack-1x%5C%22%5Cu003e%5Cn%20%20%20%20%20%20%20%20%20%20%20%20%20%20%20%20%20%20%20%20%20%20%20%20%202%20%20%5Cn%20%20%20%20%20%20%20%20%20%20%20%20%20%20%20%20%20%20%20%20%5Cu003c/strong%5Cu003e%5Cn%20%20%20%20%20%20%20%20%20%20%20%20%20%20%20%20%5Cu003c/span%5Cu003e%22%2C%20%22iconAnchor%22%3A%20%5B12%2C%2040%5D%2C%20%22iconSize%22%3A%20%5B150%2C%2036%5D%7D%29%3B%0A%20%20%20%20%20%20%20%20%20%20%20%20marker_c99bd2d766fc4c9981ba4bc3dd6a7226.setIcon%28div_icon_f81978c5a8c440229f88d8a6aa84f72b%29%3B%0A%20%20%20%20%20%20%20%20%0A%20%20%20%20%0A%20%20%20%20%20%20%20%20%20%20%20%20var%20marker_e35750a2526e40e3ae0c4f96900da5cc%20%3D%20L.marker%28%0A%20%20%20%20%20%20%20%20%20%20%20%20%20%20%20%20%5B43.6536066%2C%20-79.39251229999999%5D%2C%0A%20%20%20%20%20%20%20%20%20%20%20%20%20%20%20%20%7B%7D%0A%20%20%20%20%20%20%20%20%20%20%20%20%29.addTo%28map_c1bddb3b59fd4c87b379bca1fbd4d313%29%3B%0A%20%20%20%20%20%20%20%20%0A%20%20%20%20%0A%20%20%20%20%20%20%20%20%20%20%20%20var%20div_icon_0fe8f35a8a4a44fbbceca76a0ee35dcd%20%3D%20L.divIcon%28%7B%22className%22%3A%20%22empty%22%2C%20%22html%22%3A%20%22%5Cu003cspan%20class%3D%5C%22fa-stack%20%5C%22%20style%3D%5C%22font-size%3A%2012pt%5C%22%20%5Cu003e%5Cn%20%20%20%20%20%20%20%20%20%20%20%20%20%20%20%20%20%20%20%20%5Cu003cspan%20class%3D%5C%22fa%20fa-circle-o%20fa-stack-2x%5C%22%20style%3D%5C%22color%20%3A%20red%5C%22%5Cu003e%5Cu003c/span%5Cu003e%5Cn%20%20%20%20%20%20%20%20%20%20%20%20%20%20%20%20%20%20%20%20%5Cu003cstrong%20class%3D%5C%22fa-stack-1x%5C%22%5Cu003e%5Cn%20%20%20%20%20%20%20%20%20%20%20%20%20%20%20%20%20%20%20%20%20%20%20%20%203%20%20%5Cn%20%20%20%20%20%20%20%20%20%20%20%20%20%20%20%20%20%20%20%20%5Cu003c/strong%5Cu003e%5Cn%20%20%20%20%20%20%20%20%20%20%20%20%20%20%20%20%5Cu003c/span%5Cu003e%22%2C%20%22iconAnchor%22%3A%20%5B12%2C%2040%5D%2C%20%22iconSize%22%3A%20%5B150%2C%2036%5D%7D%29%3B%0A%20%20%20%20%20%20%20%20%20%20%20%20marker_e35750a2526e40e3ae0c4f96900da5cc.setIcon%28div_icon_0fe8f35a8a4a44fbbceca76a0ee35dcd%29%3B%0A%20%20%20%20%20%20%20%20%0A%20%20%20%20%0A%20%20%20%20%20%20%20%20%20%20%20%20var%20marker_e2b844ded5464de6b8b51c1cf4308bf4%20%3D%20L.marker%28%0A%20%20%20%20%20%20%20%20%20%20%20%20%20%20%20%20%5B43.6864006%2C%20-79.3602927%5D%2C%0A%20%20%20%20%20%20%20%20%20%20%20%20%20%20%20%20%7B%7D%0A%20%20%20%20%20%20%20%20%20%20%20%20%29.addTo%28map_c1bddb3b59fd4c87b379bca1fbd4d313%29%3B%0A%20%20%20%20%20%20%20%20%0A%20%20%20%20%0A%20%20%20%20%20%20%20%20%20%20%20%20var%20div_icon_deb2dd707c284e759247984f65fa313c%20%3D%20L.divIcon%28%7B%22className%22%3A%20%22empty%22%2C%20%22html%22%3A%20%22%5Cu003cspan%20class%3D%5C%22fa-stack%20%5C%22%20style%3D%5C%22font-size%3A%2012pt%5C%22%20%5Cu003e%5Cn%20%20%20%20%20%20%20%20%20%20%20%20%20%20%20%20%20%20%20%20%5Cu003cspan%20class%3D%5C%22fa%20fa-circle-o%20fa-stack-2x%5C%22%20style%3D%5C%22color%20%3A%20red%5C%22%5Cu003e%5Cu003c/span%5Cu003e%5Cn%20%20%20%20%20%20%20%20%20%20%20%20%20%20%20%20%20%20%20%20%5Cu003cstrong%20class%3D%5C%22fa-stack-1x%5C%22%5Cu003e%5Cn%20%20%20%20%20%20%20%20%20%20%20%20%20%20%20%20%20%20%20%20%20%20%20%20%204%20%20%5Cn%20%20%20%20%20%20%20%20%20%20%20%20%20%20%20%20%20%20%20%20%5Cu003c/strong%5Cu003e%5Cn%20%20%20%20%20%20%20%20%20%20%20%20%20%20%20%20%5Cu003c/span%5Cu003e%22%2C%20%22iconAnchor%22%3A%20%5B12%2C%2040%5D%2C%20%22iconSize%22%3A%20%5B150%2C%2036%5D%7D%29%3B%0A%20%20%20%20%20%20%20%20%20%20%20%20marker_e2b844ded5464de6b8b51c1cf4308bf4.setIcon%28div_icon_deb2dd707c284e759247984f65fa313c%29%3B%0A%20%20%20%20%20%20%20%20%0A%20%20%20%20%0A%20%20%20%20%20%20%20%20%20%20%20%20var%20marker_c6995587dc644818b0fc1bf25c679232%20%3D%20L.marker%28%0A%20%20%20%20%20%20%20%20%20%20%20%20%20%20%20%20%5B43.6596%2C%20-79.3969%5D%2C%0A%20%20%20%20%20%20%20%20%20%20%20%20%20%20%20%20%7B%7D%0A%20%20%20%20%20%20%20%20%20%20%20%20%29.addTo%28map_c1bddb3b59fd4c87b379bca1fbd4d313%29%3B%0A%20%20%20%20%20%20%20%20%0A%20%20%20%20%0A%20%20%20%20%20%20%20%20%20%20%20%20var%20div_icon_596f985e74b1475abc21f5a7a99e89bf%20%3D%20L.divIcon%28%7B%22className%22%3A%20%22empty%22%2C%20%22html%22%3A%20%22%5Cu003cspan%20class%3D%5C%22fa-stack%20%5C%22%20style%3D%5C%22font-size%3A%2012pt%5C%22%20%5Cu003e%5Cn%20%20%20%20%20%20%20%20%20%20%20%20%20%20%20%20%20%20%20%20%5Cu003cspan%20class%3D%5C%22fa%20fa-circle-o%20fa-stack-2x%5C%22%20style%3D%5C%22color%20%3A%20red%5C%22%5Cu003e%5Cu003c/span%5Cu003e%5Cn%20%20%20%20%20%20%20%20%20%20%20%20%20%20%20%20%20%20%20%20%5Cu003cstrong%20class%3D%5C%22fa-stack-1x%5C%22%5Cu003e%5Cn%20%20%20%20%20%20%20%20%20%20%20%20%20%20%20%20%20%20%20%20%20%20%20%20%200%20%20%5Cn%20%20%20%20%20%20%20%20%20%20%20%20%20%20%20%20%20%20%20%20%5Cu003c/strong%5Cu003e%5Cn%20%20%20%20%20%20%20%20%20%20%20%20%20%20%20%20%5Cu003c/span%5Cu003e%22%2C%20%22iconAnchor%22%3A%20%5B12%2C%2040%5D%2C%20%22iconSize%22%3A%20%5B150%2C%2036%5D%7D%29%3B%0A%20%20%20%20%20%20%20%20%20%20%20%20marker_c6995587dc644818b0fc1bf25c679232.setIcon%28div_icon_596f985e74b1475abc21f5a7a99e89bf%29%3B%0A%20%20%20%20%20%20%20%20%0A%20%20%20%20%0A%20%20%20%20%20%20%20%20%20%20%20%20ant_path_cea15d8541a247ad8666b212aeb7cab3%20%3D%20L.polyline.antPath%28%0A%20%20%20%20%20%20%20%20%20%20%20%20%20%20%5B%5B%5B43.65966%2C%20-79.3966%5D%2C%20%5B43.664076%2C%20-79.39844%5D%2C%20%5B43.664436%2C%20-79.396904%5D%2C%20%5B43.666077%2C%20-79.397584%5D%2C%20%5B43.666222%2C%20-79.396866%5D%2C%20%5B43.665496%2C%20-79.397128%5D%2C%20%5B43.665496%2C%20-79.397128%5D%2C%20%5B43.666222%2C%20-79.396866%5D%2C%20%5B43.666866%2C%20-79.395381%5D%2C%20%5B43.667173%2C%20-79.395531%5D%2C%20%5B43.667463%2C%20-79.395991%5D%2C%20%5B43.667463%2C%20-79.395991%5D%2C%20%5B43.667173%2C%20-79.395531%5D%2C%20%5B43.666866%2C%20-79.395381%5D%2C%20%5B43.666077%2C%20-79.397584%5D%2C%20%5B43.664436%2C%20-79.396904%5D%2C%20%5B43.665044%2C%20-79.393909%5D%2C%20%5B43.660676%2C%20-79.391235%5D%2C%20%5B43.659826%2C%20-79.390591%5D%2C%20%5B43.659199%2C%20-79.393501%5D%2C%20%5B43.654307%2C%20-79.391431%5D%2C%20%5B43.654053%2C%20-79.392688%5D%2C%20%5B43.654053%2C%20-79.392688%5D%2C%20%5B43.654307%2C%20-79.391431%5D%2C%20%5B43.655799%2C%20-79.392053%5D%2C%20%5B43.657314%2C%20-79.384368%5D%2C%20%5B43.664377%2C%20-79.387155%5D%2C%20%5B43.668176%2C%20-79.369549%5D%2C%20%5B43.671963%2C%20-79.370843%5D%2C%20%5B43.675792%2C%20-79.361068%5D%2C%20%5B43.676219%2C%20-79.35884%5D%2C%20%5B43.683941%2C%20-79.356955%5D%2C%20%5B43.68684%2C%20-79.360324%5D%2C%20%5B43.686376%2C%20-79.360103%5D%2C%20%5B43.686376%2C%20-79.360103%5D%2C%20%5B43.68684%2C%20-79.360324%5D%2C%20%5B43.683941%2C%20-79.356955%5D%2C%20%5B43.676219%2C%20-79.35884%5D%2C%20%5B43.675792%2C%20-79.361068%5D%2C%20%5B43.671963%2C%20-79.370843%5D%2C%20%5B43.668176%2C%20-79.369549%5D%2C%20%5B43.664377%2C%20-79.387155%5D%2C%20%5B43.660808%2C%20-79.385848%5D%2C%20%5B43.658696%2C%20-79.395985%5D%2C%20%5B43.65966%2C%20-79.3966%5D%5D%5D%2C%0A%20%20%20%20%20%20%20%20%20%20%20%20%20%20%7B%22bubblingMouseEvents%22%3A%20true%2C%20%22color%22%3A%20%22red%22%2C%20%22dashArray%22%3A%20%5B1%2C%2010%5D%2C%20%22dashOffset%22%3A%20null%2C%20%22delay%22%3A%201000%2C%20%22fill%22%3A%20false%2C%20%22fillColor%22%3A%20%22red%22%2C%20%22fillOpacity%22%3A%200.2%2C%20%22fillRule%22%3A%20%22evenodd%22%2C%20%22hardwareAcceleration%22%3A%20false%2C%20%22lineCap%22%3A%20%22round%22%2C%20%22lineJoin%22%3A%20%22round%22%2C%20%22noClip%22%3A%20false%2C%20%22opacity%22%3A%200.5%2C%20%22paused%22%3A%20false%2C%20%22pulseColor%22%3A%20%22%23FFFFFF%22%2C%20%22reverse%22%3A%20false%2C%20%22smoothFactor%22%3A%201.0%2C%20%22stroke%22%3A%20true%2C%20%22weight%22%3A%205%7D%0A%20%20%20%20%20%20%20%20%29.addTo%28map_c1bddb3b59fd4c87b379bca1fbd4d313%29%3B%0A%20%20%20%20%20%20%20%20%0A%3C/script%3E onload=\"this.contentDocument.open();this.contentDocument.write(    decodeURIComponent(this.getAttribute('data-html')));this.contentDocument.close();\" allowfullscreen webkitallowfullscreen mozallowfullscreen></iframe></div></div>"
      ],
      "text/plain": [
       "<folium.folium.Map at 0x7f8bac0727f0>"
      ]
     },
     "execution_count": 36,
     "metadata": {},
     "output_type": "execute_result"
    }
   ],
   "source": [
    "Problem.draw_tours(sol)"
   ]
  },
  {
   "cell_type": "code",
   "execution_count": null,
   "metadata": {},
   "outputs": [
    {
     "name": "stdout",
     "output_type": "stream",
     "text": [
      "The final solution has a score of 38.455375000000004\n"
     ]
    },
    {
     "data": {
      "image/png": "[encoded data removed]",
      "text/plain": [
       "<Figure size 432x288 with 1 Axes>"
      ]
     },
     "metadata": {
      "needs_background": "light"
     },
     "output_type": "display_data"
    }
   ],
   "source": [
    "data = aga.converge_history\n",
    "plt.plot(list(range(len(data))),data)\n",
    "plt.title('Convergence process of AGA')\n",
    "plt.xlabel('iteration')\n",
    "plt.ylabel('pop. score')\n",
    "print('The final solution has a score of', str(aga.global_score))"
   ]
  },
  {
   "cell_type": "markdown",
   "metadata": {},
   "source": [
    "### ABC Solution"
   ]
  },
  {
   "cell_type": "code",
   "execution_count": null,
   "metadata": {},
   "outputs": [
    {
     "name": "stderr",
     "output_type": "stream",
     "text": [
      "100%|██████████| 1000/1000 [00:04<00:00, 216.50it/s]\n"
     ]
    }
   ],
   "source": [
    "abc = AritificalBeeColonySolver()\n",
    "abc.solve(p)\n",
    "sol = p.gaint_tour_decode([p.id_pois_map[i] for i in  abc.global_solution])"
   ]
  },
  {
   "cell_type": "markdown",
   "metadata": {},
   "source": [
    "#### Visualizing Results"
   ]
  },
  {
   "cell_type": "code",
   "execution_count": null,
   "metadata": {},
   "outputs": [
    {
     "data": {
      "text/html": [
       "<div style=\"width:100%;\"><div style=\"position:relative;width:100%;height:0;padding-bottom:60%;\"><span style=\"color:#565656\">Make this Notebook Trusted to load map: File -> Trust Notebook</span><iframe src=\"about:blank\" style=\"position:absolute;width:100%;height:100%;left:0;top:0;border:none !important;\" data-html=%3C%21DOCTYPE%20html%3E%0A%3Chead%3E%20%20%20%20%0A%20%20%20%20%3Cmeta%20http-equiv%3D%22content-type%22%20content%3D%22text/html%3B%20charset%3DUTF-8%22%20/%3E%0A%20%20%20%20%0A%20%20%20%20%20%20%20%20%3Cscript%3E%0A%20%20%20%20%20%20%20%20%20%20%20%20L_NO_TOUCH%20%3D%20false%3B%0A%20%20%20%20%20%20%20%20%20%20%20%20L_DISABLE_3D%20%3D%20false%3B%0A%20%20%20%20%20%20%20%20%3C/script%3E%0A%20%20%20%20%0A%20%20%20%20%3Cstyle%3Ehtml%2C%20body%20%7Bwidth%3A%20100%25%3Bheight%3A%20100%25%3Bmargin%3A%200%3Bpadding%3A%200%3B%7D%3C/style%3E%0A%20%20%20%20%3Cstyle%3E%23map%20%7Bposition%3Aabsolute%3Btop%3A0%3Bbottom%3A0%3Bright%3A0%3Bleft%3A0%3B%7D%3C/style%3E%0A%20%20%20%20%3Cscript%20src%3D%22https%3A//cdn.jsdelivr.net/npm/leaflet%401.6.0/dist/leaflet.js%22%3E%3C/script%3E%0A%20%20%20%20%3Cscript%20src%3D%22https%3A//code.jquery.com/jquery-1.12.4.min.js%22%3E%3C/script%3E%0A%20%20%20%20%3Cscript%20src%3D%22https%3A//maxcdn.bootstrapcdn.com/bootstrap/3.2.0/js/bootstrap.min.js%22%3E%3C/script%3E%0A%20%20%20%20%3Cscript%20src%3D%22https%3A//cdnjs.cloudflare.com/ajax/libs/Leaflet.awesome-markers/2.0.2/leaflet.awesome-markers.js%22%3E%3C/script%3E%0A%20%20%20%20%3Clink%20rel%3D%22stylesheet%22%20href%3D%22https%3A//cdn.jsdelivr.net/npm/leaflet%401.6.0/dist/leaflet.css%22/%3E%0A%20%20%20%20%3Clink%20rel%3D%22stylesheet%22%20href%3D%22https%3A//maxcdn.bootstrapcdn.com/bootstrap/3.2.0/css/bootstrap.min.css%22/%3E%0A%20%20%20%20%3Clink%20rel%3D%22stylesheet%22%20href%3D%22https%3A//maxcdn.bootstrapcdn.com/bootstrap/3.2.0/css/bootstrap-theme.min.css%22/%3E%0A%20%20%20%20%3Clink%20rel%3D%22stylesheet%22%20href%3D%22https%3A//maxcdn.bootstrapcdn.com/font-awesome/4.6.3/css/font-awesome.min.css%22/%3E%0A%20%20%20%20%3Clink%20rel%3D%22stylesheet%22%20href%3D%22https%3A//cdnjs.cloudflare.com/ajax/libs/Leaflet.awesome-markers/2.0.2/leaflet.awesome-markers.css%22/%3E%0A%20%20%20%20%3Clink%20rel%3D%22stylesheet%22%20href%3D%22https%3A//cdn.jsdelivr.net/gh/python-visualization/folium/folium/templates/leaflet.awesome.rotate.min.css%22/%3E%0A%20%20%20%20%0A%20%20%20%20%20%20%20%20%20%20%20%20%3Cmeta%20name%3D%22viewport%22%20content%3D%22width%3Ddevice-width%2C%0A%20%20%20%20%20%20%20%20%20%20%20%20%20%20%20%20initial-scale%3D1.0%2C%20maximum-scale%3D1.0%2C%20user-scalable%3Dno%22%20/%3E%0A%20%20%20%20%20%20%20%20%20%20%20%20%3Cstyle%3E%0A%20%20%20%20%20%20%20%20%20%20%20%20%20%20%20%20%23map_de972f999e2b46c6bcc5aecd125f129e%20%7B%0A%20%20%20%20%20%20%20%20%20%20%20%20%20%20%20%20%20%20%20%20position%3A%20relative%3B%0A%20%20%20%20%20%20%20%20%20%20%20%20%20%20%20%20%20%20%20%20width%3A%20100.0%25%3B%0A%20%20%20%20%20%20%20%20%20%20%20%20%20%20%20%20%20%20%20%20height%3A%20100.0%25%3B%0A%20%20%20%20%20%20%20%20%20%20%20%20%20%20%20%20%20%20%20%20left%3A%200.0%25%3B%0A%20%20%20%20%20%20%20%20%20%20%20%20%20%20%20%20%20%20%20%20top%3A%200.0%25%3B%0A%20%20%20%20%20%20%20%20%20%20%20%20%20%20%20%20%7D%0A%20%20%20%20%20%20%20%20%20%20%20%20%3C/style%3E%0A%20%20%20%20%20%20%20%20%0A%20%20%20%20%3Cscript%20src%3D%22https%3A//cdn.jsdelivr.net/npm/leaflet-ant-path%401.1.2/dist/leaflet-ant-path.min.js%22%3E%3C/script%3E%0A%3C/head%3E%0A%3Cbody%3E%20%20%20%20%0A%20%20%20%20%0A%20%20%20%20%20%20%20%20%20%20%20%20%3Cdiv%20class%3D%22folium-map%22%20id%3D%22map_de972f999e2b46c6bcc5aecd125f129e%22%20%3E%3C/div%3E%0A%20%20%20%20%20%20%20%20%0A%3C/body%3E%0A%3Cscript%3E%20%20%20%20%0A%20%20%20%20%0A%20%20%20%20%20%20%20%20%20%20%20%20var%20map_de972f999e2b46c6bcc5aecd125f129e%20%3D%20L.map%28%0A%20%20%20%20%20%20%20%20%20%20%20%20%20%20%20%20%22map_de972f999e2b46c6bcc5aecd125f129e%22%2C%0A%20%20%20%20%20%20%20%20%20%20%20%20%20%20%20%20%7B%0A%20%20%20%20%20%20%20%20%20%20%20%20%20%20%20%20%20%20%20%20center%3A%20%5B0%2C%200%5D%2C%0A%20%20%20%20%20%20%20%20%20%20%20%20%20%20%20%20%20%20%20%20crs%3A%20L.CRS.EPSG3857%2C%0A%20%20%20%20%20%20%20%20%20%20%20%20%20%20%20%20%20%20%20%20zoom%3A%201%2C%0A%20%20%20%20%20%20%20%20%20%20%20%20%20%20%20%20%20%20%20%20zoomControl%3A%20true%2C%0A%20%20%20%20%20%20%20%20%20%20%20%20%20%20%20%20%20%20%20%20preferCanvas%3A%20false%2C%0A%20%20%20%20%20%20%20%20%20%20%20%20%20%20%20%20%7D%0A%20%20%20%20%20%20%20%20%20%20%20%20%29%3B%0A%0A%20%20%20%20%20%20%20%20%20%20%20%20%0A%0A%20%20%20%20%20%20%20%20%0A%20%20%20%20%0A%20%20%20%20%20%20%20%20%20%20%20%20var%20tile_layer_4fcd7a358cef44b781d8ad1bb0ce340d%20%3D%20L.tileLayer%28%0A%20%20%20%20%20%20%20%20%20%20%20%20%20%20%20%20%22https%3A//%7Bs%7D.tile.openstreetmap.org/%7Bz%7D/%7Bx%7D/%7By%7D.png%22%2C%0A%20%20%20%20%20%20%20%20%20%20%20%20%20%20%20%20%7B%22attribution%22%3A%20%22Data%20by%20%5Cu0026copy%3B%20%5Cu003ca%20href%3D%5C%22http%3A//openstreetmap.org%5C%22%5Cu003eOpenStreetMap%5Cu003c/a%5Cu003e%2C%20under%20%5Cu003ca%20href%3D%5C%22http%3A//www.openstreetmap.org/copyright%5C%22%5Cu003eODbL%5Cu003c/a%5Cu003e.%22%2C%20%22detectRetina%22%3A%20false%2C%20%22maxNativeZoom%22%3A%2018%2C%20%22maxZoom%22%3A%2018%2C%20%22minZoom%22%3A%200%2C%20%22noWrap%22%3A%20false%2C%20%22opacity%22%3A%201%2C%20%22subdomains%22%3A%20%22abc%22%2C%20%22tms%22%3A%20false%7D%0A%20%20%20%20%20%20%20%20%20%20%20%20%29.addTo%28map_de972f999e2b46c6bcc5aecd125f129e%29%3B%0A%20%20%20%20%20%20%20%20%0A%20%20%20%20%0A%20%20%20%20%20%20%20%20%20%20%20%20map_de972f999e2b46c6bcc5aecd125f129e.fitBounds%28%0A%20%20%20%20%20%20%20%20%20%20%20%20%20%20%20%20%5B%5B%5B43.6527542%2C%20-79.36498929999999%5D%2C%20%5B43.6596%2C%20-79.3969%5D%5D%2C%20%5B%5B43.7480943%2C%20-79.192493%5D%2C%20%5B43.7480943%2C%20-79.192493%5D%5D%5D%2C%0A%20%20%20%20%20%20%20%20%20%20%20%20%20%20%20%20%7B%7D%0A%20%20%20%20%20%20%20%20%20%20%20%20%29%3B%0A%20%20%20%20%20%20%20%20%0A%20%20%20%20%0A%20%20%20%20%20%20%20%20%20%20%20%20var%20marker_ca6226b9092a4810aa10d76e745f9410%20%3D%20L.marker%28%0A%20%20%20%20%20%20%20%20%20%20%20%20%20%20%20%20%5B43.6618354%2C%20-79.3116652%5D%2C%0A%20%20%20%20%20%20%20%20%20%20%20%20%20%20%20%20%7B%7D%0A%20%20%20%20%20%20%20%20%20%20%20%20%29.addTo%28map_de972f999e2b46c6bcc5aecd125f129e%29%3B%0A%20%20%20%20%20%20%20%20%0A%20%20%20%20%0A%20%20%20%20%20%20%20%20%20%20%20%20var%20div_icon_7a70e1c686254481b7c4d38bee29e789%20%3D%20L.divIcon%28%7B%22className%22%3A%20%22empty%22%2C%20%22html%22%3A%20%22%5Cu003cspan%20class%3D%5C%22fa-stack%20%5C%22%20style%3D%5C%22font-size%3A%2012pt%5C%22%20%5Cu003e%5Cn%20%20%20%20%20%20%20%20%20%20%20%20%20%20%20%20%20%20%20%20%5Cu003cspan%20class%3D%5C%22fa%20fa-circle-o%20fa-stack-2x%5C%22%20style%3D%5C%22color%20%3A%20blue%5C%22%5Cu003e%5Cu003c/span%5Cu003e%5Cn%20%20%20%20%20%20%20%20%20%20%20%20%20%20%20%20%20%20%20%20%5Cu003cstrong%20class%3D%5C%22fa-stack-1x%5C%22%5Cu003e%5Cn%20%20%20%20%20%20%20%20%20%20%20%20%20%20%20%20%20%20%20%20%20%20%20%20%201%20%20%5Cn%20%20%20%20%20%20%20%20%20%20%20%20%20%20%20%20%20%20%20%20%5Cu003c/strong%5Cu003e%5Cn%20%20%20%20%20%20%20%20%20%20%20%20%20%20%20%20%5Cu003c/span%5Cu003e%22%2C%20%22iconAnchor%22%3A%20%5B12%2C%2040%5D%2C%20%22iconSize%22%3A%20%5B150%2C%2036%5D%7D%29%3B%0A%20%20%20%20%20%20%20%20%20%20%20%20marker_ca6226b9092a4810aa10d76e745f9410.setIcon%28div_icon_7a70e1c686254481b7c4d38bee29e789%29%3B%0A%20%20%20%20%20%20%20%20%0A%20%20%20%20%0A%20%20%20%20%20%20%20%20%20%20%20%20var%20marker_75b5b814ecaf4651b52abee1fd24c27a%20%3D%20L.marker%28%0A%20%20%20%20%20%20%20%20%20%20%20%20%20%20%20%20%5B43.6631609%2C%20-79.3957289%5D%2C%0A%20%20%20%20%20%20%20%20%20%20%20%20%20%20%20%20%7B%7D%0A%20%20%20%20%20%20%20%20%20%20%20%20%29.addTo%28map_de972f999e2b46c6bcc5aecd125f129e%29%3B%0A%20%20%20%20%20%20%20%20%0A%20%20%20%20%0A%20%20%20%20%20%20%20%20%20%20%20%20var%20div_icon_70bceee457654599becb79a375b7212f%20%3D%20L.divIcon%28%7B%22className%22%3A%20%22empty%22%2C%20%22html%22%3A%20%22%5Cu003cspan%20class%3D%5C%22fa-stack%20%5C%22%20style%3D%5C%22font-size%3A%2012pt%5C%22%20%5Cu003e%5Cn%20%20%20%20%20%20%20%20%20%20%20%20%20%20%20%20%20%20%20%20%5Cu003cspan%20class%3D%5C%22fa%20fa-circle-o%20fa-stack-2x%5C%22%20style%3D%5C%22color%20%3A%20blue%5C%22%5Cu003e%5Cu003c/span%5Cu003e%5Cn%20%20%20%20%20%20%20%20%20%20%20%20%20%20%20%20%20%20%20%20%5Cu003cstrong%20class%3D%5C%22fa-stack-1x%5C%22%5Cu003e%5Cn%20%20%20%20%20%20%20%20%20%20%20%20%20%20%20%20%20%20%20%20%20%20%20%20%202%20%20%5Cn%20%20%20%20%20%20%20%20%20%20%20%20%20%20%20%20%20%20%20%20%5Cu003c/strong%5Cu003e%5Cn%20%20%20%20%20%20%20%20%20%20%20%20%20%20%20%20%5Cu003c/span%5Cu003e%22%2C%20%22iconAnchor%22%3A%20%5B12%2C%2040%5D%2C%20%22iconSize%22%3A%20%5B150%2C%2036%5D%7D%29%3B%0A%20%20%20%20%20%20%20%20%20%20%20%20marker_75b5b814ecaf4651b52abee1fd24c27a.setIcon%28div_icon_70bceee457654599becb79a375b7212f%29%3B%0A%20%20%20%20%20%20%20%20%0A%20%20%20%20%0A%20%20%20%20%20%20%20%20%20%20%20%20var%20marker_4de1b3ce89764dca947bc3b518ebaa92%20%3D%20L.marker%28%0A%20%20%20%20%20%20%20%20%20%20%20%20%20%20%20%20%5B43.73345339999999%2C%20-79.3598792%5D%2C%0A%20%20%20%20%20%20%20%20%20%20%20%20%20%20%20%20%7B%7D%0A%20%20%20%20%20%20%20%20%20%20%20%20%29.addTo%28map_de972f999e2b46c6bcc5aecd125f129e%29%3B%0A%20%20%20%20%20%20%20%20%0A%20%20%20%20%0A%20%20%20%20%20%20%20%20%20%20%20%20var%20div_icon_3fbb6bd3740f470b8753c6dfd80dbe43%20%3D%20L.divIcon%28%7B%22className%22%3A%20%22empty%22%2C%20%22html%22%3A%20%22%5Cu003cspan%20class%3D%5C%22fa-stack%20%5C%22%20style%3D%5C%22font-size%3A%2012pt%5C%22%20%5Cu003e%5Cn%20%20%20%20%20%20%20%20%20%20%20%20%20%20%20%20%20%20%20%20%5Cu003cspan%20class%3D%5C%22fa%20fa-circle-o%20fa-stack-2x%5C%22%20style%3D%5C%22color%20%3A%20blue%5C%22%5Cu003e%5Cu003c/span%5Cu003e%5Cn%20%20%20%20%20%20%20%20%20%20%20%20%20%20%20%20%20%20%20%20%5Cu003cstrong%20class%3D%5C%22fa-stack-1x%5C%22%5Cu003e%5Cn%20%20%20%20%20%20%20%20%20%20%20%20%20%20%20%20%20%20%20%20%20%20%20%20%203%20%20%5Cn%20%20%20%20%20%20%20%20%20%20%20%20%20%20%20%20%20%20%20%20%5Cu003c/strong%5Cu003e%5Cn%20%20%20%20%20%20%20%20%20%20%20%20%20%20%20%20%5Cu003c/span%5Cu003e%22%2C%20%22iconAnchor%22%3A%20%5B12%2C%2040%5D%2C%20%22iconSize%22%3A%20%5B150%2C%2036%5D%7D%29%3B%0A%20%20%20%20%20%20%20%20%20%20%20%20marker_4de1b3ce89764dca947bc3b518ebaa92.setIcon%28div_icon_3fbb6bd3740f470b8753c6dfd80dbe43%29%3B%0A%20%20%20%20%20%20%20%20%0A%20%20%20%20%0A%20%20%20%20%20%20%20%20%20%20%20%20var%20marker_2843b78b0d2542ff92956197e24752fd%20%3D%20L.marker%28%0A%20%20%20%20%20%20%20%20%20%20%20%20%20%20%20%20%5B43.6596%2C%20-79.3969%5D%2C%0A%20%20%20%20%20%20%20%20%20%20%20%20%20%20%20%20%7B%7D%0A%20%20%20%20%20%20%20%20%20%20%20%20%29.addTo%28map_de972f999e2b46c6bcc5aecd125f129e%29%3B%0A%20%20%20%20%20%20%20%20%0A%20%20%20%20%0A%20%20%20%20%20%20%20%20%20%20%20%20var%20div_icon_e335c3e4b4c94999bb2a1f66a2c26d84%20%3D%20L.divIcon%28%7B%22className%22%3A%20%22empty%22%2C%20%22html%22%3A%20%22%5Cu003cspan%20class%3D%5C%22fa-stack%20%5C%22%20style%3D%5C%22font-size%3A%2012pt%5C%22%20%5Cu003e%5Cn%20%20%20%20%20%20%20%20%20%20%20%20%20%20%20%20%20%20%20%20%5Cu003cspan%20class%3D%5C%22fa%20fa-circle-o%20fa-stack-2x%5C%22%20style%3D%5C%22color%20%3A%20blue%5C%22%5Cu003e%5Cu003c/span%5Cu003e%5Cn%20%20%20%20%20%20%20%20%20%20%20%20%20%20%20%20%20%20%20%20%5Cu003cstrong%20class%3D%5C%22fa-stack-1x%5C%22%5Cu003e%5Cn%20%20%20%20%20%20%20%20%20%20%20%20%20%20%20%20%20%20%20%20%20%20%20%20%200%20%20%5Cn%20%20%20%20%20%20%20%20%20%20%20%20%20%20%20%20%20%20%20%20%5Cu003c/strong%5Cu003e%5Cn%20%20%20%20%20%20%20%20%20%20%20%20%20%20%20%20%5Cu003c/span%5Cu003e%22%2C%20%22iconAnchor%22%3A%20%5B12%2C%2040%5D%2C%20%22iconSize%22%3A%20%5B150%2C%2036%5D%7D%29%3B%0A%20%20%20%20%20%20%20%20%20%20%20%20marker_2843b78b0d2542ff92956197e24752fd.setIcon%28div_icon_e335c3e4b4c94999bb2a1f66a2c26d84%29%3B%0A%20%20%20%20%20%20%20%20%0A%20%20%20%20%0A%20%20%20%20%20%20%20%20%20%20%20%20ant_path_0c32f82f836d4b958e6c2077c17392c9%20%3D%20L.polyline.antPath%28%0A%20%20%20%20%20%20%20%20%20%20%20%20%20%20%5B%5B%5B43.65966%2C%20-79.3966%5D%2C%20%5B43.658696%2C%20-79.395985%5D%2C%20%5B43.659199%2C%20-79.393501%5D%2C%20%5B43.655799%2C%20-79.392053%5D%2C%20%5B43.656982%2C%20-79.385832%5D%2C%20%5B43.655421%2C%20-79.385196%5D%2C%20%5B43.656297%2C%20-79.37958%5D%2C%20%5B43.650691%2C%20-79.377225%5D%2C%20%5B43.651556%2C%20-79.372351%5D%2C%20%5B43.649465%2C%20-79.371454%5D%2C%20%5B43.645527%2C%20-79.369806%5D%2C%20%5B43.662228%2C%20-79.314778%5D%2C%20%5B43.661556%2C%20-79.312421%5D%2C%20%5B43.661556%2C%20-79.312421%5D%2C%20%5B43.662228%2C%20-79.314778%5D%2C%20%5B43.659233%2C%20-79.328325%5D%2C%20%5B43.660558%2C%20-79.329044%5D%2C%20%5B43.660327%2C%20-79.330782%5D%2C%20%5B43.655714%2C%20-79.355079%5D%2C%20%5B43.654563%2C%20-79.364001%5D%2C%20%5B43.668176%2C%20-79.369549%5D%2C%20%5B43.663027%2C%20-79.393493%5D%2C%20%5B43.662285%2C%20-79.39575%5D%2C%20%5B43.662236%2C%20-79.396263%5D%2C%20%5B43.662384%2C%20-79.39652%5D%2C%20%5B43.663033%2C%20-79.396095%5D%2C%20%5B43.663118%2C%20-79.395711%5D%2C%20%5B43.663118%2C%20-79.395711%5D%2C%20%5B43.663033%2C%20-79.396095%5D%2C%20%5B43.663258%2C%20-79.396201%5D%2C%20%5B43.66362%2C%20-79.395255%5D%2C%20%5B43.664694%2C%20-79.395673%5D%2C%20%5B43.665044%2C%20-79.393909%5D%2C%20%5B43.664214%2C%20-79.393622%5D%2C%20%5B43.663141%2C%20-79.392768%5D%2C%20%5B43.668176%2C%20-79.369549%5D%2C%20%5B43.671963%2C%20-79.370843%5D%2C%20%5B43.67601%2C%20-79.359931%5D%2C%20%5B43.673198%2C%20-79.360262%5D%2C%20%5B43.736769%2C%20-79.331963%5D%2C%20%5B43.739691%2C%20-79.330841%5D%2C%20%5B43.734535%2C%20-79.35722%5D%2C%20%5B43.734161%2C%20-79.357197%5D%2C%20%5B43.733514%2C%20-79.358502%5D%2C%20%5B43.733514%2C%20-79.358502%5D%2C%20%5B43.734064%2C%20-79.357306%5D%2C%20%5B43.734535%2C%20-79.35722%5D%2C%20%5B43.738991%2C%20-79.334657%5D%2C%20%5B43.735816%2C%20-79.331997%5D%2C%20%5B43.684115%2C%20-79.36163%5D%2C%20%5B43.682736%2C%20-79.36342%5D%2C%20%5B43.678402%2C%20-79.36857%5D%2C%20%5B43.674501%2C%20-79.368553%5D%2C%20%5B43.673811%2C%20-79.368146%5D%2C%20%5B43.671963%2C%20-79.370843%5D%2C%20%5B43.668176%2C%20-79.369549%5D%2C%20%5B43.664377%2C%20-79.387155%5D%2C%20%5B43.660808%2C%20-79.385848%5D%2C%20%5B43.658696%2C%20-79.395985%5D%2C%20%5B43.65966%2C%20-79.3966%5D%5D%5D%2C%0A%20%20%20%20%20%20%20%20%20%20%20%20%20%20%7B%22bubblingMouseEvents%22%3A%20true%2C%20%22color%22%3A%20%22blue%22%2C%20%22dashArray%22%3A%20%5B1%2C%2010%5D%2C%20%22dashOffset%22%3A%20null%2C%20%22delay%22%3A%201000%2C%20%22fill%22%3A%20false%2C%20%22fillColor%22%3A%20%22blue%22%2C%20%22fillOpacity%22%3A%200.2%2C%20%22fillRule%22%3A%20%22evenodd%22%2C%20%22hardwareAcceleration%22%3A%20false%2C%20%22lineCap%22%3A%20%22round%22%2C%20%22lineJoin%22%3A%20%22round%22%2C%20%22noClip%22%3A%20false%2C%20%22opacity%22%3A%200.5%2C%20%22paused%22%3A%20false%2C%20%22pulseColor%22%3A%20%22%23FFFFFF%22%2C%20%22reverse%22%3A%20false%2C%20%22smoothFactor%22%3A%201.0%2C%20%22stroke%22%3A%20true%2C%20%22weight%22%3A%205%7D%0A%20%20%20%20%20%20%20%20%29.addTo%28map_de972f999e2b46c6bcc5aecd125f129e%29%3B%0A%20%20%20%20%20%20%20%20%0A%20%20%20%20%0A%20%20%20%20%20%20%20%20%20%20%20%20var%20marker_0eb46e6e98f54db48b9b21488fcc3d7c%20%3D%20L.marker%28%0A%20%20%20%20%20%20%20%20%20%20%20%20%20%20%20%20%5B43.6560524%2C%20-79.3846762%5D%2C%0A%20%20%20%20%20%20%20%20%20%20%20%20%20%20%20%20%7B%7D%0A%20%20%20%20%20%20%20%20%20%20%20%20%29.addTo%28map_de972f999e2b46c6bcc5aecd125f129e%29%3B%0A%20%20%20%20%20%20%20%20%0A%20%20%20%20%0A%20%20%20%20%20%20%20%20%20%20%20%20var%20div_icon_3e3b96e34627418ba519cd436be90739%20%3D%20L.divIcon%28%7B%22className%22%3A%20%22empty%22%2C%20%22html%22%3A%20%22%5Cu003cspan%20class%3D%5C%22fa-stack%20%5C%22%20style%3D%5C%22font-size%3A%2012pt%5C%22%20%5Cu003e%5Cn%20%20%20%20%20%20%20%20%20%20%20%20%20%20%20%20%20%20%20%20%5Cu003cspan%20class%3D%5C%22fa%20fa-circle-o%20fa-stack-2x%5C%22%20style%3D%5C%22color%20%3A%20red%5C%22%5Cu003e%5Cu003c/span%5Cu003e%5Cn%20%20%20%20%20%20%20%20%20%20%20%20%20%20%20%20%20%20%20%20%5Cu003cstrong%20class%3D%5C%22fa-stack-1x%5C%22%5Cu003e%5Cn%20%20%20%20%20%20%20%20%20%20%20%20%20%20%20%20%20%20%20%20%20%20%20%20%201%20%20%5Cn%20%20%20%20%20%20%20%20%20%20%20%20%20%20%20%20%20%20%20%20%5Cu003c/strong%5Cu003e%5Cn%20%20%20%20%20%20%20%20%20%20%20%20%20%20%20%20%5Cu003c/span%5Cu003e%22%2C%20%22iconAnchor%22%3A%20%5B12%2C%2040%5D%2C%20%22iconSize%22%3A%20%5B150%2C%2036%5D%7D%29%3B%0A%20%20%20%20%20%20%20%20%20%20%20%20marker_0eb46e6e98f54db48b9b21488fcc3d7c.setIcon%28div_icon_3e3b96e34627418ba519cd436be90739%29%3B%0A%20%20%20%20%20%20%20%20%0A%20%20%20%20%0A%20%20%20%20%20%20%20%20%20%20%20%20var%20marker_ef9d35ef84f24e21884a9422e3476f25%20%3D%20L.marker%28%0A%20%20%20%20%20%20%20%20%20%20%20%20%20%20%20%20%5B43.6527542%2C%20-79.36498929999999%5D%2C%0A%20%20%20%20%20%20%20%20%20%20%20%20%20%20%20%20%7B%7D%0A%20%20%20%20%20%20%20%20%20%20%20%20%29.addTo%28map_de972f999e2b46c6bcc5aecd125f129e%29%3B%0A%20%20%20%20%20%20%20%20%0A%20%20%20%20%0A%20%20%20%20%20%20%20%20%20%20%20%20var%20div_icon_6d0e3b66438042eca3466fa20ebac09d%20%3D%20L.divIcon%28%7B%22className%22%3A%20%22empty%22%2C%20%22html%22%3A%20%22%5Cu003cspan%20class%3D%5C%22fa-stack%20%5C%22%20style%3D%5C%22font-size%3A%2012pt%5C%22%20%5Cu003e%5Cn%20%20%20%20%20%20%20%20%20%20%20%20%20%20%20%20%20%20%20%20%5Cu003cspan%20class%3D%5C%22fa%20fa-circle-o%20fa-stack-2x%5C%22%20style%3D%5C%22color%20%3A%20red%5C%22%5Cu003e%5Cu003c/span%5Cu003e%5Cn%20%20%20%20%20%20%20%20%20%20%20%20%20%20%20%20%20%20%20%20%5Cu003cstrong%20class%3D%5C%22fa-stack-1x%5C%22%5Cu003e%5Cn%20%20%20%20%20%20%20%20%20%20%20%20%20%20%20%20%20%20%20%20%20%20%20%20%202%20%20%5Cn%20%20%20%20%20%20%20%20%20%20%20%20%20%20%20%20%20%20%20%20%5Cu003c/strong%5Cu003e%5Cn%20%20%20%20%20%20%20%20%20%20%20%20%20%20%20%20%5Cu003c/span%5Cu003e%22%2C%20%22iconAnchor%22%3A%20%5B12%2C%2040%5D%2C%20%22iconSize%22%3A%20%5B150%2C%2036%5D%7D%29%3B%0A%20%20%20%20%20%20%20%20%20%20%20%20marker_ef9d35ef84f24e21884a9422e3476f25.setIcon%28div_icon_6d0e3b66438042eca3466fa20ebac09d%29%3B%0A%20%20%20%20%20%20%20%20%0A%20%20%20%20%0A%20%20%20%20%20%20%20%20%20%20%20%20var%20marker_ae3ea8748678498f8347f22a752a9cc5%20%3D%20L.marker%28%0A%20%20%20%20%20%20%20%20%20%20%20%20%20%20%20%20%5B43.7480943%2C%20-79.192493%5D%2C%0A%20%20%20%20%20%20%20%20%20%20%20%20%20%20%20%20%7B%7D%0A%20%20%20%20%20%20%20%20%20%20%20%20%29.addTo%28map_de972f999e2b46c6bcc5aecd125f129e%29%3B%0A%20%20%20%20%20%20%20%20%0A%20%20%20%20%0A%20%20%20%20%20%20%20%20%20%20%20%20var%20div_icon_85beed726c384cab811e304c5acb2271%20%3D%20L.divIcon%28%7B%22className%22%3A%20%22empty%22%2C%20%22html%22%3A%20%22%5Cu003cspan%20class%3D%5C%22fa-stack%20%5C%22%20style%3D%5C%22font-size%3A%2012pt%5C%22%20%5Cu003e%5Cn%20%20%20%20%20%20%20%20%20%20%20%20%20%20%20%20%20%20%20%20%5Cu003cspan%20class%3D%5C%22fa%20fa-circle-o%20fa-stack-2x%5C%22%20style%3D%5C%22color%20%3A%20red%5C%22%5Cu003e%5Cu003c/span%5Cu003e%5Cn%20%20%20%20%20%20%20%20%20%20%20%20%20%20%20%20%20%20%20%20%5Cu003cstrong%20class%3D%5C%22fa-stack-1x%5C%22%5Cu003e%5Cn%20%20%20%20%20%20%20%20%20%20%20%20%20%20%20%20%20%20%20%20%20%20%20%20%203%20%20%5Cn%20%20%20%20%20%20%20%20%20%20%20%20%20%20%20%20%20%20%20%20%5Cu003c/strong%5Cu003e%5Cn%20%20%20%20%20%20%20%20%20%20%20%20%20%20%20%20%5Cu003c/span%5Cu003e%22%2C%20%22iconAnchor%22%3A%20%5B12%2C%2040%5D%2C%20%22iconSize%22%3A%20%5B150%2C%2036%5D%7D%29%3B%0A%20%20%20%20%20%20%20%20%20%20%20%20marker_ae3ea8748678498f8347f22a752a9cc5.setIcon%28div_icon_85beed726c384cab811e304c5acb2271%29%3B%0A%20%20%20%20%20%20%20%20%0A%20%20%20%20%0A%20%20%20%20%20%20%20%20%20%20%20%20var%20marker_998172d3a065416da12443ce7d9d81c0%20%3D%20L.marker%28%0A%20%20%20%20%20%20%20%20%20%20%20%20%20%20%20%20%5B43.6576945%2C%20-79.37938299999999%5D%2C%0A%20%20%20%20%20%20%20%20%20%20%20%20%20%20%20%20%7B%7D%0A%20%20%20%20%20%20%20%20%20%20%20%20%29.addTo%28map_de972f999e2b46c6bcc5aecd125f129e%29%3B%0A%20%20%20%20%20%20%20%20%0A%20%20%20%20%0A%20%20%20%20%20%20%20%20%20%20%20%20var%20div_icon_4d4c942b915546ce844f0ba4f68dd907%20%3D%20L.divIcon%28%7B%22className%22%3A%20%22empty%22%2C%20%22html%22%3A%20%22%5Cu003cspan%20class%3D%5C%22fa-stack%20%5C%22%20style%3D%5C%22font-size%3A%2012pt%5C%22%20%5Cu003e%5Cn%20%20%20%20%20%20%20%20%20%20%20%20%20%20%20%20%20%20%20%20%5Cu003cspan%20class%3D%5C%22fa%20fa-circle-o%20fa-stack-2x%5C%22%20style%3D%5C%22color%20%3A%20red%5C%22%5Cu003e%5Cu003c/span%5Cu003e%5Cn%20%20%20%20%20%20%20%20%20%20%20%20%20%20%20%20%20%20%20%20%5Cu003cstrong%20class%3D%5C%22fa-stack-1x%5C%22%5Cu003e%5Cn%20%20%20%20%20%20%20%20%20%20%20%20%20%20%20%20%20%20%20%20%20%20%20%20%204%20%20%5Cn%20%20%20%20%20%20%20%20%20%20%20%20%20%20%20%20%20%20%20%20%5Cu003c/strong%5Cu003e%5Cn%20%20%20%20%20%20%20%20%20%20%20%20%20%20%20%20%5Cu003c/span%5Cu003e%22%2C%20%22iconAnchor%22%3A%20%5B12%2C%2040%5D%2C%20%22iconSize%22%3A%20%5B150%2C%2036%5D%7D%29%3B%0A%20%20%20%20%20%20%20%20%20%20%20%20marker_998172d3a065416da12443ce7d9d81c0.setIcon%28div_icon_4d4c942b915546ce844f0ba4f68dd907%29%3B%0A%20%20%20%20%20%20%20%20%0A%20%20%20%20%0A%20%20%20%20%20%20%20%20%20%20%20%20var%20marker_f2c302daf7bf4b11a43ec0e7b01ece99%20%3D%20L.marker%28%0A%20%20%20%20%20%20%20%20%20%20%20%20%20%20%20%20%5B43.6596%2C%20-79.3969%5D%2C%0A%20%20%20%20%20%20%20%20%20%20%20%20%20%20%20%20%7B%7D%0A%20%20%20%20%20%20%20%20%20%20%20%20%29.addTo%28map_de972f999e2b46c6bcc5aecd125f129e%29%3B%0A%20%20%20%20%20%20%20%20%0A%20%20%20%20%0A%20%20%20%20%20%20%20%20%20%20%20%20var%20div_icon_dd7bb1365dd047e1b6914eafa8ea2d8d%20%3D%20L.divIcon%28%7B%22className%22%3A%20%22empty%22%2C%20%22html%22%3A%20%22%5Cu003cspan%20class%3D%5C%22fa-stack%20%5C%22%20style%3D%5C%22font-size%3A%2012pt%5C%22%20%5Cu003e%5Cn%20%20%20%20%20%20%20%20%20%20%20%20%20%20%20%20%20%20%20%20%5Cu003cspan%20class%3D%5C%22fa%20fa-circle-o%20fa-stack-2x%5C%22%20style%3D%5C%22color%20%3A%20red%5C%22%5Cu003e%5Cu003c/span%5Cu003e%5Cn%20%20%20%20%20%20%20%20%20%20%20%20%20%20%20%20%20%20%20%20%5Cu003cstrong%20class%3D%5C%22fa-stack-1x%5C%22%5Cu003e%5Cn%20%20%20%20%20%20%20%20%20%20%20%20%20%20%20%20%20%20%20%20%20%20%20%20%200%20%20%5Cn%20%20%20%20%20%20%20%20%20%20%20%20%20%20%20%20%20%20%20%20%5Cu003c/strong%5Cu003e%5Cn%20%20%20%20%20%20%20%20%20%20%20%20%20%20%20%20%5Cu003c/span%5Cu003e%22%2C%20%22iconAnchor%22%3A%20%5B12%2C%2040%5D%2C%20%22iconSize%22%3A%20%5B150%2C%2036%5D%7D%29%3B%0A%20%20%20%20%20%20%20%20%20%20%20%20marker_f2c302daf7bf4b11a43ec0e7b01ece99.setIcon%28div_icon_dd7bb1365dd047e1b6914eafa8ea2d8d%29%3B%0A%20%20%20%20%20%20%20%20%0A%20%20%20%20%0A%20%20%20%20%20%20%20%20%20%20%20%20ant_path_d91ecbd32cac4027be3ac4a022f99102%20%3D%20L.polyline.antPath%28%0A%20%20%20%20%20%20%20%20%20%20%20%20%20%20%5B%5B%5B43.65966%2C%20-79.3966%5D%2C%20%5B43.658696%2C%20-79.395985%5D%2C%20%5B43.659199%2C%20-79.393501%5D%2C%20%5B43.655799%2C%20-79.392053%5D%2C%20%5B43.657314%2C%20-79.384368%5D%2C%20%5B43.656081%2C%20-79.383862%5D%2C%20%5B43.655936%2C%20-79.384522%5D%2C%20%5B43.655936%2C%20-79.384522%5D%2C%20%5B43.656081%2C%20-79.383862%5D%2C%20%5B43.655734%2C%20-79.383734%5D%2C%20%5B43.656297%2C%20-79.37958%5D%2C%20%5B43.650691%2C%20-79.377225%5D%2C%20%5B43.652893%2C%20-79.365228%5D%2C%20%5B43.652718%2C%20-79.365153%5D%2C%20%5B43.652718%2C%20-79.365153%5D%2C%20%5B43.652893%2C%20-79.365228%5D%2C%20%5B43.656064%2C%20-79.354012%5D%2C%20%5B43.66723%2C%20-79.312592%5D%2C%20%5B43.749553%2C%20-79.205967%5D%2C%20%5B43.749007%2C%20-79.192468%5D%2C%20%5B43.748603%2C%20-79.192296%5D%2C%20%5B43.748515%2C%20-79.192679%5D%2C%20%5B43.748515%2C%20-79.192679%5D%2C%20%5B43.748353%2C%20-79.193378%5D%2C%20%5B43.748724%2C%20-79.193763%5D%2C%20%5B43.74967%2C%20-79.205863%5D%2C%20%5B43.702504%2C%20-79.254222%5D%2C%20%5B43.66723%2C%20-79.312592%5D%2C%20%5B43.655714%2C%20-79.355079%5D%2C%20%5B43.654563%2C%20-79.364001%5D%2C%20%5B43.656951%2C%20-79.364995%5D%2C%20%5B43.654581%2C%20-79.377587%5D%2C%20%5B43.65779%2C%20-79.378928%5D%2C%20%5B43.65779%2C%20-79.378928%5D%2C%20%5B43.658206%2C%20-79.377836%5D%2C%20%5B43.65986%2C%20-79.378517%5D%2C%20%5B43.65851%2C%20-79.384862%5D%2C%20%5B43.660808%2C%20-79.385848%5D%2C%20%5B43.658696%2C%20-79.395985%5D%2C%20%5B43.65966%2C%20-79.3966%5D%5D%5D%2C%0A%20%20%20%20%20%20%20%20%20%20%20%20%20%20%7B%22bubblingMouseEvents%22%3A%20true%2C%20%22color%22%3A%20%22red%22%2C%20%22dashArray%22%3A%20%5B1%2C%2010%5D%2C%20%22dashOffset%22%3A%20null%2C%20%22delay%22%3A%201000%2C%20%22fill%22%3A%20false%2C%20%22fillColor%22%3A%20%22red%22%2C%20%22fillOpacity%22%3A%200.2%2C%20%22fillRule%22%3A%20%22evenodd%22%2C%20%22hardwareAcceleration%22%3A%20false%2C%20%22lineCap%22%3A%20%22round%22%2C%20%22lineJoin%22%3A%20%22round%22%2C%20%22noClip%22%3A%20false%2C%20%22opacity%22%3A%200.5%2C%20%22paused%22%3A%20false%2C%20%22pulseColor%22%3A%20%22%23FFFFFF%22%2C%20%22reverse%22%3A%20false%2C%20%22smoothFactor%22%3A%201.0%2C%20%22stroke%22%3A%20true%2C%20%22weight%22%3A%205%7D%0A%20%20%20%20%20%20%20%20%29.addTo%28map_de972f999e2b46c6bcc5aecd125f129e%29%3B%0A%20%20%20%20%20%20%20%20%0A%3C/script%3E onload=\"this.contentDocument.open();this.contentDocument.write(    decodeURIComponent(this.getAttribute('data-html')));this.contentDocument.close();\" allowfullscreen webkitallowfullscreen mozallowfullscreen></iframe></div></div>"
      ],
      "text/plain": [
       "<folium.folium.Map at 0x7f8b9fec0070>"
      ]
     },
     "execution_count": 39,
     "metadata": {},
     "output_type": "execute_result"
    }
   ],
   "source": [
    "Problem.draw_tours(sol)"
   ]
  },
  {
   "cell_type": "code",
   "execution_count": null,
   "metadata": {},
   "outputs": [
    {
     "name": "stdout",
     "output_type": "stream",
     "text": [
      "The final solution has a score of 37.176791\n"
     ]
    },
    {
     "data": {
      "image/png": "[encoded data removed]",
      "text/plain": [
       "<Figure size 432x288 with 1 Axes>"
      ]
     },
     "metadata": {
      "needs_background": "light"
     },
     "output_type": "display_data"
    }
   ],
   "source": [
    "data = abc.converge_history\n",
    "plt.plot(list(range(len(data))),data)\n",
    "plt.title('Convergence process of abc')\n",
    "plt.xlabel('iteration')\n",
    "plt.ylabel('pop. score')\n",
    "print('The final solution has a score of', str(abc.global_score))"
   ]
  },
  {
   "cell_type": "markdown",
   "metadata": {},
   "source": [
    "## Comparative Analysis\n",
    "\n",
    "We can also compare the results across the different approaches in terms of wall time, cpu time, score, and optimality.\n",
    "\n",
    "This can be done by first storing the runtime results in experiment files, and plotting the results side by side."
   ]
  },
  {
   "cell_type": "code",
   "execution_count": null,
   "metadata": {},
   "outputs": [],
   "source": [
    "class Experiment:\n",
    "    def __init__(self, problem, solver, num_run=5, cold=True, population_size=20):\n",
    "        if problem is None:\n",
    "            return\n",
    "        self.optimal_score = problem.number_of_tour * 5.0 * 4.0\n",
    "        self.start_cold = cold\n",
    "        self.solver = solver\n",
    "        self.problem = problem\n",
    "        self.num_run = num_run\n",
    "        self.population_size = population_size\n",
    "        self.result = {\n",
    "            \"wall_time\":[],\n",
    "            \"cpu_time\":[],\n",
    "            \"score\":[],\n",
    "            \"optimality\":[],\n",
    "            \"num_iteration\":[],\n",
    "        }\n",
    "        self.score_histories = []\n",
    "        \n",
    "    def load_experiment_results(self, file_name):\n",
    "        with open(file_name) as f:\n",
    "            result = json.loads(f.read())\n",
    "        self.optimal_score = result[\"optimal_score\"]\n",
    "        self.start_cold = result[\"start_cold\"]\n",
    "        self.num_run = result[\"num_run\"]\n",
    "        self.population_size = result[\"population_size\"]\n",
    "        self.result = result[\"result\"]\n",
    "        self.score_histories = result[\"score_histories\"]\n",
    "        \n",
    "    def store_experiment_results(self):\n",
    "        experiment_result = {\n",
    "            \"optimal_score\": self.optimal_score,\n",
    "            \"start_cold\": self.start_cold,\n",
    "            \"solver\": type(self.solver).__name__,\n",
    "            \"soft_constraint\": self.problem.use_soft_constraint,\n",
    "            \"alpha\": self.problem.alpha,\n",
    "            \"number_of_tour\": self.problem.number_of_tour,\n",
    "            \"num_run\": self.num_run,\n",
    "            \"population_size\": self.population_size,\n",
    "            \"result\": self.result,\n",
    "            \"score_histories\": self.score_histories\n",
    "        }\n",
    "\n",
    "        file_name = \"experiment/{}_{}_{}_{}.json\".format(experiment_result[\"solver\"], experiment_result[\"number_of_tour\"], experiment_result[\"population_size\"], int(time.time()))\n",
    "        with open(file_name, 'w+') as f:\n",
    "            f.write(json.dumps(experiment_result))\n",
    "        \n",
    "    def warm_up_cache(self):\n",
    "        for _ in range(5):\n",
    "            self.solver.solve(self.problem)\n",
    "            self.solver.reset()\n",
    "            \n",
    "    def get_mean_result(self):\n",
    "        mean_result = {}\n",
    "        for key, value in self.result.items():\n",
    "            mean_result[key] = round (sum(value) / len(value), 3)\n",
    "        return mean_result\n",
    "    \n",
    "    def get_max_result(self):\n",
    "        mean_result = {}\n",
    "        for key, value in self.result.items():\n",
    "            mean_result[key] = max(value)\n",
    "        return mean_result\n",
    "    \n",
    "    def get_min_result(self):\n",
    "        mean_result = {}\n",
    "        for key, value in self.result.items():\n",
    "            mean_result[key] = min(value)\n",
    "        return mean_result\n",
    "    \n",
    "    def get_mean_global_score_history(self):\n",
    "        mean_score = []\n",
    "        history_len = len(self.score_histories[0])\n",
    "        for i in range(history_len):\n",
    "            val = 0\n",
    "            for score_history in self.score_histories:\n",
    "                val += score_history[i]\n",
    "            val /= len(self.score_histories)\n",
    "            mean_score.append(val)\n",
    "        return mean_score\n",
    "        \n",
    "    \n",
    "    def plot_global_score_history(self):\n",
    "        for score_history in self.score_histories:\n",
    "            plt.plot(score_history)\n",
    "        plt.show()\n",
    "        \n",
    "    def plot_mean_global_score_history(self):\n",
    "        mean_score = self.get_mean_global_score_history()\n",
    "        plt.plot(mean_score)\n",
    "        plt.show()\n",
    "        \n",
    "    def get_num_iteration_to_pdbk(self, pdbk, score_history):\n",
    "        score_cut = self.optimal_score - pdbk * self.optimal_score\n",
    "        for i, score in enumerate(score_history):\n",
    "            if score >= score_cut:\n",
    "                return i\n",
    "        return None\n",
    "                    \n",
    "    def get_mean_num_iteration_to_pdbk(self, pdbk):\n",
    "        cut_points = []\n",
    "        for score_history in self.score_histories:\n",
    "            cut_point = self.get_num_iteration_to_pdbk(pdbk, score_history)\n",
    "            if cut_point is not None:\n",
    "                cut_points.append(cut_point)\n",
    "            else:\n",
    "                cut_points.append(10000)\n",
    "        return sum(cut_points) / len(cut_points)\n",
    "        \n",
    "    def run(self):\n",
    "        if self.start_cold is False:\n",
    "            self.warm_up_cache()\n",
    "        \n",
    "        for i in range(self.num_run):\n",
    "            wall_time_start = time.perf_counter()\n",
    "            cpu_time_start = time.process_time()\n",
    "            num_iteration = self.solver.solve(self.problem)\n",
    "            wall_time_end = time.perf_counter()\n",
    "            cpu_time_end = time.process_time()\n",
    "            self.result[\"wall_time\"].append( wall_time_end - wall_time_start )\n",
    "            self.result[\"cpu_time\"].append( cpu_time_end - cpu_time_start )\n",
    "            self.result[\"score\"].append( self.solver.global_score )\n",
    "            self.result[\"optimality\"].append( ( self.optimal_score - self.solver.global_score ) / self.optimal_score )\n",
    "            self.result[\"num_iteration\"].append( num_iteration )\n",
    "            self.score_histories.append( self.solver.score_history )\n",
    "            self.solver.reset()\n",
    "            if self.start_cold is True:       \n",
    "                self.problem.reset()\n",
    "            \n",
    "            \n",
    "            \n",
    "            \n",
    "            \n",
    "        \n",
    "        "
   ]
  },
  {
   "cell_type": "code",
   "execution_count": null,
   "metadata": {},
   "outputs": [
    {
     "name": "stderr",
     "output_type": "stream",
     "text": [
      "100%|██████████| 1000/1000 [00:01<00:00, 896.31it/s]\n",
      "100%|██████████| 1000/1000 [00:00<00:00, 2080.58it/s]\n",
      "100%|██████████| 1000/1000 [00:00<00:00, 1967.19it/s]\n",
      "100%|██████████| 1000/1000 [00:02<00:00, 467.82it/s]\n",
      "100%|██████████| 1000/1000 [00:01<00:00, 503.97it/s]\n",
      "100%|██████████| 1000/1000 [00:02<00:00, 468.37it/s]\n",
      "100%|██████████| 1000/1000 [00:04<00:00, 214.88it/s]\n",
      "100%|██████████| 1000/1000 [00:04<00:00, 217.94it/s]\n",
      "100%|██████████| 1000/1000 [00:04<00:00, 217.11it/s]\n"
     ]
    }
   ],
   "source": [
    "num_run = 3\n",
    "cold = True\n",
    "population_sizes = [20]\n",
    "number_of_tours = [2]\n",
    "for population_size in population_sizes:\n",
    "    for number_of_tour in number_of_tours:\n",
    "        experiment = Experiment(Problem(use_soft_constraint=True,alpha=1e-5,number_of_tour=number_of_tour), \n",
    "                                GeneticAlgorithmSolver(population_size=population_size), \n",
    "                                num_run=num_run, cold=cold, population_size=population_size)\n",
    "        experiment.run()\n",
    "        experiment.store_experiment_results()\n",
    "\n",
    "        experiment = Experiment(Problem(use_soft_constraint=True,alpha=1e-5,number_of_tour=number_of_tour), \n",
    "                                AdaptiveGeneticAlgorithmSolver(population_size=population_size), \n",
    "                                num_run=num_run, cold=cold, population_size=population_size)\n",
    "        experiment.run()\n",
    "        experiment.store_experiment_results()\n",
    "        \n",
    "        experiment = Experiment(Problem(use_soft_constraint=True,alpha=1e-5,number_of_tour=number_of_tour), \n",
    "                                AritificalBeeColonySolver(population_size=population_size), \n",
    "                                num_run=num_run, cold=cold, population_size=population_size)\n",
    "        experiment.run()\n",
    "        experiment.store_experiment_results()"
   ]
  },
  {
   "cell_type": "markdown",
   "metadata": {},
   "source": [
    "### Visualizing Results"
   ]
  },
  {
   "cell_type": "code",
   "execution_count": null,
   "metadata": {},
   "outputs": [
    {
     "name": "stdout",
     "output_type": "stream",
     "text": [
      "AritificalBeeColony-20 average result: {'wall_time': 4.619, 'cpu_time': 4.629, 'score': 37.16, 'optimality': 0.071, 'num_iteration': 999.0}\n",
      "AdaptiveGeneticAlgorithm-20 average result: {'wall_time': 12.456, 'cpu_time': 12.344, 'score': 38.291, 'optimality': 0.043, 'num_iteration': 999.0}\n",
      "GeneticAlgorithm-20 average result: {'wall_time': 0.707, 'cpu_time': 0.709, 'score': 38.044, 'optimality': 0.049, 'num_iteration': 999.0}\n",
      "AdaptiveGeneticAlgorithm-20 average result: {'wall_time': 2.091, 'cpu_time': 2.096, 'score': 38.533, 'optimality': 0.037, 'num_iteration': 999.0}\n",
      "AritificalBeeColony-20 average result: {'wall_time': 28.616, 'cpu_time': 28.161, 'score': 37.454, 'optimality': 0.064, 'num_iteration': 999.0}\n",
      "GeneticAlgorithm-20 average result: {'wall_time': 4.132, 'cpu_time': 4.099, 'score': 37.829, 'optimality': 0.054, 'num_iteration': 999.0}\n"
     ]
    },
    {
     "data": {
      "image/png": "[encoded data removed]",
      "text/plain": [
       "<Figure size 576x432 with 1 Axes>"
      ]
     },
     "metadata": {
      "needs_background": "light"
     },
     "output_type": "display_data"
    }
   ],
   "source": [
    "from glob import glob\n",
    "import os\n",
    "mean_scores = []\n",
    "labels = []\n",
    "for path_name in glob(\"experiment/*\"):\n",
    "    file_name = os.path.basename(path_name).split('.')[0]\n",
    "    solver, num_tour, population, _ = file_name.split('_')\n",
    "    experiment = Experiment(None, None)\n",
    "    experiment.load_experiment_results(path_name)\n",
    "    \n",
    "\n",
    "    mean_scores.append(experiment.get_mean_global_score_history())\n",
    "    labels.append(\"{}-{}\".format(solver[:-6], population))\n",
    "\n",
    "    print(\"{}-{}\".format(solver[:-6], population), \"average result:\", experiment.get_mean_result())\n",
    "plt.figure(figsize=(16, 12))\n",
    "plt.title(\"Global Best Score found at each Iteration\")\n",
    "for label, mean_score in zip(labels, mean_scores):\n",
    "    plt.plot(mean_score, label=label)\n",
    "_ = plt.legend()\n",
    "    "
   ]
  }
 ],
 "metadata": {
  "interpreter": {
   "hash": "a405b721b341898b1c612734a812e53b99bd4311cd409aa0073bcfbe1e3bbb80"
  },
  "kernelspec": {
   "display_name": "Python 3.8.10 64-bit ('book-env': venv)",
   "language": "python",
   "name": "python3"
  },
  "language_info": {
   "codemirror_mode": {
    "name": "ipython",
    "version": 3
   },
   "file_extension": ".py",
   "mimetype": "text/x-python",
   "name": "python",
   "nbconvert_exporter": "python",
   "pygments_lexer": "ipython3",
   "version": "3.8.10"
  },
  "orig_nbformat": 4
 },
 "nbformat": 4,
 "nbformat_minor": 2
}
